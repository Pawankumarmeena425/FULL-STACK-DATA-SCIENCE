{
 "cells": [
  {
   "cell_type": "code",
   "execution_count": 1,
   "id": "27d9b151-7ff9-43c7-84ff-8c699f35dff1",
   "metadata": {},
   "outputs": [],
   "source": [
    "# Numpy -  Array manipulation\n"
   ]
  },
  {
   "cell_type": "code",
   "execution_count": 2,
   "id": "668118e0-a05e-4c59-8edf-dc82809bf560",
   "metadata": {},
   "outputs": [],
   "source": [
    "import numpy as np"
   ]
  },
  {
   "cell_type": "code",
   "execution_count": 4,
   "id": "1212481f-8bc8-4ee4-8c2b-93ffd7a3edc7",
   "metadata": {},
   "outputs": [],
   "source": [
    "arr = np.random.randint(1,10,(3,4))"
   ]
  },
  {
   "cell_type": "code",
   "execution_count": 5,
   "id": "e23e7f68-887a-4527-aaba-ea226c62a092",
   "metadata": {},
   "outputs": [
    {
     "data": {
      "text/plain": [
       "array([[6, 1, 3, 4, 6, 4, 1, 1, 4, 3, 9, 9]])"
      ]
     },
     "execution_count": 5,
     "metadata": {},
     "output_type": "execute_result"
    }
   ],
   "source": [
    "arr.reshape(1,12)"
   ]
  },
  {
   "cell_type": "code",
   "execution_count": 8,
   "id": "129ab78e-e9b6-419b-b6a8-822d819ba08e",
   "metadata": {},
   "outputs": [
    {
     "data": {
      "text/plain": [
       "array([[6, 1],\n",
       "       [3, 4],\n",
       "       [6, 4],\n",
       "       [1, 1],\n",
       "       [4, 3],\n",
       "       [9, 9]])"
      ]
     },
     "execution_count": 8,
     "metadata": {},
     "output_type": "execute_result"
    }
   ],
   "source": [
    "arr.reshape(6,-2344234)"
   ]
  },
  {
   "cell_type": "code",
   "execution_count": 9,
   "id": "d222a2be-164a-4c12-84ad-734cd6b30d5a",
   "metadata": {},
   "outputs": [
    {
     "data": {
      "text/plain": [
       "array([[6, 6, 4],\n",
       "       [1, 4, 3],\n",
       "       [3, 1, 9],\n",
       "       [4, 1, 9]])"
      ]
     },
     "execution_count": 9,
     "metadata": {},
     "output_type": "execute_result"
    }
   ],
   "source": [
    "arr.T \n",
    "# Transpose of array\n",
    "# rotate by 180 degree"
   ]
  },
  {
   "cell_type": "code",
   "execution_count": 11,
   "id": "73b47538-137e-4f28-bad3-c0abe08e608c",
   "metadata": {},
   "outputs": [],
   "source": [
    "arr.flatten()\n",
    "# convert array into 1 dimensional\n"
   ]
  },
  {
   "cell_type": "code",
   "execution_count": 12,
   "id": "46fb2226-1191-4adb-8312-bda0298dce47",
   "metadata": {},
   "outputs": [
    {
     "data": {
      "text/plain": [
       "array([2, 3, 4, 6, 7])"
      ]
     },
     "execution_count": 12,
     "metadata": {},
     "output_type": "execute_result"
    }
   ],
   "source": [
    "arr1 = np.array([2,3,4,6,7])\n",
    "arr1"
   ]
  },
  {
   "cell_type": "code",
   "execution_count": 13,
   "id": "52580422-7671-40d9-913a-b6f68fbd54e0",
   "metadata": {},
   "outputs": [
    {
     "data": {
      "text/plain": [
       "1"
      ]
     },
     "execution_count": 13,
     "metadata": {},
     "output_type": "execute_result"
    }
   ],
   "source": [
    "arr1.ndim"
   ]
  },
  {
   "cell_type": "code",
   "execution_count": 18,
   "id": "f7963a29-da93-4b95-92fd-e22b3988e4f4",
   "metadata": {},
   "outputs": [
    {
     "data": {
      "text/plain": [
       "array([[2],\n",
       "       [3],\n",
       "       [4],\n",
       "       [6],\n",
       "       [7]])"
      ]
     },
     "execution_count": 18,
     "metadata": {},
     "output_type": "execute_result"
    }
   ],
   "source": [
    "np.expand_dims(arr1 , axis =1)\n",
    "# convert arrya into n dim"
   ]
  },
  {
   "cell_type": "code",
   "execution_count": 21,
   "id": "d59cfc9b-79e9-4104-acc0-c4ce91a02cbb",
   "metadata": {},
   "outputs": [
    {
     "data": {
      "text/plain": [
       "array([[2, 3, 4, 6, 7]])"
      ]
     },
     "execution_count": 21,
     "metadata": {},
     "output_type": "execute_result"
    }
   ],
   "source": [
    "np.expand_dims(arr1,axis =0)"
   ]
  },
  {
   "cell_type": "code",
   "execution_count": 23,
   "id": "7e1b47b8-a025-45c3-8958-bc11641e76db",
   "metadata": {},
   "outputs": [
    {
     "data": {
      "text/plain": [
       "array([[6, 1, 3, 4],\n",
       "       [6, 4, 1, 1],\n",
       "       [4, 3, 9, 9]])"
      ]
     },
     "execution_count": 23,
     "metadata": {},
     "output_type": "execute_result"
    }
   ],
   "source": [
    "# arr.squeeze()\n",
    "np.squeeze(arr)"
   ]
  },
  {
   "cell_type": "code",
   "execution_count": 24,
   "id": "b34cd2fc-9f04-4020-9609-5fbaa9879456",
   "metadata": {},
   "outputs": [],
   "source": [
    "data  = np.array([[1],[2],[3]])"
   ]
  },
  {
   "cell_type": "code",
   "execution_count": 25,
   "id": "ec5de5e5-8e93-40f3-af6a-455b8235e189",
   "metadata": {},
   "outputs": [
    {
     "data": {
      "text/plain": [
       "array([[1],\n",
       "       [2],\n",
       "       [3]])"
      ]
     },
     "execution_count": 25,
     "metadata": {},
     "output_type": "execute_result"
    }
   ],
   "source": [
    "data"
   ]
  },
  {
   "cell_type": "code",
   "execution_count": 26,
   "id": "6ca64293-2b19-4cba-bc71-13c9ed221f23",
   "metadata": {},
   "outputs": [
    {
     "data": {
      "text/plain": [
       "array([1, 2, 3])"
      ]
     },
     "execution_count": 26,
     "metadata": {},
     "output_type": "execute_result"
    }
   ],
   "source": [
    "np.squeeze(data)"
   ]
  },
  {
   "cell_type": "code",
   "execution_count": 27,
   "id": "1df160c8-b273-4e91-8785-34268cc92834",
   "metadata": {},
   "outputs": [
    {
     "data": {
      "text/plain": [
       "array([2, 3, 4, 6, 7])"
      ]
     },
     "execution_count": 27,
     "metadata": {},
     "output_type": "execute_result"
    }
   ],
   "source": [
    "arr1"
   ]
  },
  {
   "cell_type": "code",
   "execution_count": 28,
   "id": "53885b50-e001-46f9-95c2-521b1373e73a",
   "metadata": {},
   "outputs": [
    {
     "data": {
      "text/plain": [
       "array([2, 2, 2, 3, 3, 3, 4, 4, 4, 6, 6, 6, 7, 7, 7])"
      ]
     },
     "execution_count": 28,
     "metadata": {},
     "output_type": "execute_result"
    }
   ],
   "source": [
    "np.repeat(arr1 , 3)"
   ]
  },
  {
   "cell_type": "code",
   "execution_count": 31,
   "id": "7ab9f509-0808-4c81-9495-0aa64a6dd5b7",
   "metadata": {},
   "outputs": [
    {
     "data": {
      "text/plain": [
       "array([2, 3, 4, 6, 7])"
      ]
     },
     "execution_count": 31,
     "metadata": {},
     "output_type": "execute_result"
    }
   ],
   "source": [
    "arr1"
   ]
  },
  {
   "cell_type": "code",
   "execution_count": 32,
   "id": "a91a39b0-d2f0-4288-968f-70f65ea270f7",
   "metadata": {},
   "outputs": [
    {
     "data": {
      "text/plain": [
       "array([6, 7, 2, 3, 4])"
      ]
     },
     "execution_count": 32,
     "metadata": {},
     "output_type": "execute_result"
    }
   ],
   "source": [
    "np.roll(arr1 , 2)\n",
    "# rotate data by 2 position"
   ]
  },
  {
   "cell_type": "code",
   "execution_count": 33,
   "id": "61c88af6-c907-4c0e-92a5-d2a4d601a705",
   "metadata": {},
   "outputs": [
    {
     "data": {
      "text/plain": [
       "array([[2, 0, 0, 0, 0],\n",
       "       [0, 3, 0, 0, 0],\n",
       "       [0, 0, 4, 0, 0],\n",
       "       [0, 0, 0, 6, 0],\n",
       "       [0, 0, 0, 0, 7]])"
      ]
     },
     "execution_count": 33,
     "metadata": {},
     "output_type": "execute_result"
    }
   ],
   "source": [
    "np.diag(arr1)"
   ]
  },
  {
   "cell_type": "code",
   "execution_count": 34,
   "id": "0f9c14f9-2a6f-464b-b87d-023c575447e6",
   "metadata": {},
   "outputs": [],
   "source": [
    "# Numpy  - Binary Operations"
   ]
  },
  {
   "cell_type": "code",
   "execution_count": 37,
   "id": "646b5f7b-6a5e-41a5-9dc6-6cbc93650b56",
   "metadata": {},
   "outputs": [],
   "source": [
    "arr1 = np.random.randint(1,10,(3,4))\n",
    "arr2 = np.random.randint(1,10,(3,4))"
   ]
  },
  {
   "cell_type": "code",
   "execution_count": 38,
   "id": "c9c5c7b3-7c73-4065-b7d1-ba3cdf66aacf",
   "metadata": {},
   "outputs": [
    {
     "data": {
      "text/plain": [
       "array([[8, 6, 3, 1],\n",
       "       [3, 6, 5, 6],\n",
       "       [5, 6, 5, 6]])"
      ]
     },
     "execution_count": 38,
     "metadata": {},
     "output_type": "execute_result"
    }
   ],
   "source": [
    "arr1"
   ]
  },
  {
   "cell_type": "code",
   "execution_count": 39,
   "id": "bd544e05-ddfa-45e4-9fd0-d63805db0a35",
   "metadata": {},
   "outputs": [
    {
     "data": {
      "text/plain": [
       "array([[3, 9, 8, 2],\n",
       "       [8, 1, 5, 8],\n",
       "       [1, 1, 1, 8]])"
      ]
     },
     "execution_count": 39,
     "metadata": {},
     "output_type": "execute_result"
    }
   ],
   "source": [
    "arr2"
   ]
  },
  {
   "cell_type": "code",
   "execution_count": 40,
   "id": "fd87b20d-32d0-48ea-8273-306af6cc1784",
   "metadata": {},
   "outputs": [
    {
     "data": {
      "text/plain": [
       "array([[11, 15, 11,  3],\n",
       "       [11,  7, 10, 14],\n",
       "       [ 6,  7,  6, 14]])"
      ]
     },
     "execution_count": 40,
     "metadata": {},
     "output_type": "execute_result"
    }
   ],
   "source": [
    "arr1+arr2"
   ]
  },
  {
   "cell_type": "code",
   "execution_count": 41,
   "id": "a980ae1a-ffa6-4bb9-8467-34aaf53f6328",
   "metadata": {},
   "outputs": [
    {
     "data": {
      "text/plain": [
       "array([[2, 6, 3, 1],\n",
       "       [3, 0, 0, 6],\n",
       "       [0, 0, 0, 6]])"
      ]
     },
     "execution_count": 41,
     "metadata": {},
     "output_type": "execute_result"
    }
   ],
   "source": [
    "arr1%arr2\n",
    "# remender operation"
   ]
  },
  {
   "cell_type": "code",
   "execution_count": 42,
   "id": "b65883c2-745e-4192-94bf-20c90f8e23aa",
   "metadata": {},
   "outputs": [
    {
     "data": {
      "text/plain": [
       "array([[     512, 10077696,     6561,        1],\n",
       "       [    6561,        6,     3125,  1679616],\n",
       "       [       5,        6,        5,  1679616]])"
      ]
     },
     "execution_count": 42,
     "metadata": {},
     "output_type": "execute_result"
    }
   ],
   "source": [
    "arr1**arr2"
   ]
  },
  {
   "cell_type": "code",
   "execution_count": 43,
   "id": "09b576c9-c7d3-4c47-ab68-37a96b5a2342",
   "metadata": {},
   "outputs": [
    {
     "data": {
      "text/plain": [
       "array([[0, 0, 0, 0],\n",
       "       [0, 0, 5, 0],\n",
       "       [1, 0, 1, 0]])"
      ]
     },
     "execution_count": 43,
     "metadata": {},
     "output_type": "execute_result"
    }
   ],
   "source": [
    "arr1 & arr2"
   ]
  },
  {
   "cell_type": "code",
   "execution_count": 44,
   "id": "b99441e1-5e62-4c08-90b5-b405381ce562",
   "metadata": {},
   "outputs": [
    {
     "data": {
      "text/plain": [
       "array([[-9, -7, -4, -2],\n",
       "       [-4, -7, -6, -7],\n",
       "       [-6, -7, -6, -7]])"
      ]
     },
     "execution_count": 44,
     "metadata": {},
     "output_type": "execute_result"
    }
   ],
   "source": [
    "~arr1"
   ]
  },
  {
   "cell_type": "code",
   "execution_count": 45,
   "id": "a7e54c0b-b460-44d0-ac6a-bb84d0e0a665",
   "metadata": {},
   "outputs": [
    {
     "data": {
      "text/plain": [
       "array([[11, 15, 11,  3],\n",
       "       [11,  7,  5, 14],\n",
       "       [ 5,  7,  5, 14]])"
      ]
     },
     "execution_count": 45,
     "metadata": {},
     "output_type": "execute_result"
    }
   ],
   "source": [
    "arr1 | arr2"
   ]
  },
  {
   "cell_type": "code",
   "execution_count": 46,
   "id": "10574a88-f4a6-4b82-8f46-89189c2e2fa9",
   "metadata": {},
   "outputs": [
    {
     "data": {
      "text/plain": [
       "array([[ True, False, False, False],\n",
       "       [False,  True, False, False],\n",
       "       [ True,  True,  True, False]])"
      ]
     },
     "execution_count": 46,
     "metadata": {},
     "output_type": "execute_result"
    }
   ],
   "source": [
    "arr1>arr2"
   ]
  },
  {
   "cell_type": "code",
   "execution_count": 48,
   "id": "e2dfdbda-c679-44be-b28f-74153eecb2b5",
   "metadata": {},
   "outputs": [
    {
     "data": {
      "text/plain": [
       "array(['sudh', 'kumar'], dtype='<U5')"
      ]
     },
     "execution_count": 48,
     "metadata": {},
     "output_type": "execute_result"
    }
   ],
   "source": [
    "# Numpy  - String Function\n",
    "arr = np.array(['sudh' , 'kumar'])\n",
    "arr"
   ]
  },
  {
   "cell_type": "code",
   "execution_count": 49,
   "id": "639128c5-c032-4d12-ad54-42824fedec10",
   "metadata": {},
   "outputs": [
    {
     "data": {
      "text/plain": [
       "array(['SUDH', 'KUMAR'], dtype='<U5')"
      ]
     },
     "execution_count": 49,
     "metadata": {},
     "output_type": "execute_result"
    }
   ],
   "source": [
    "np.char.upper(arr)"
   ]
  },
  {
   "cell_type": "code",
   "execution_count": 50,
   "id": "9120b96f-d050-4fb6-8af5-3eeb1767cb67",
   "metadata": {},
   "outputs": [
    {
     "data": {
      "text/plain": [
       "array(['Sudh', 'Kumar'], dtype='<U5')"
      ]
     },
     "execution_count": 50,
     "metadata": {},
     "output_type": "execute_result"
    }
   ],
   "source": [
    "np.char.title(arr)"
   ]
  },
  {
   "cell_type": "code",
   "execution_count": 51,
   "id": "71644759-6402-442d-8530-51778569fe69",
   "metadata": {},
   "outputs": [
    {
     "data": {
      "text/plain": [
       "array(['Sudh', 'Kumar'], dtype='<U5')"
      ]
     },
     "execution_count": 51,
     "metadata": {},
     "output_type": "execute_result"
    }
   ],
   "source": [
    "np.char.capitalize(arr)"
   ]
  },
  {
   "cell_type": "code",
   "execution_count": 52,
   "id": "40deff95-2b45-409a-bcab-84c97c2a99ee",
   "metadata": {},
   "outputs": [],
   "source": [
    "# Numpy  - Mathematical Functions."
   ]
  },
  {
   "cell_type": "code",
   "execution_count": 53,
   "id": "5c6fdcb5-72e1-4bac-aa1d-9e71a99b6855",
   "metadata": {},
   "outputs": [
    {
     "data": {
      "text/plain": [
       "array([[8, 6, 3, 1],\n",
       "       [3, 6, 5, 6],\n",
       "       [5, 6, 5, 6]])"
      ]
     },
     "execution_count": 53,
     "metadata": {},
     "output_type": "execute_result"
    }
   ],
   "source": [
    "arr1"
   ]
  },
  {
   "cell_type": "code",
   "execution_count": 55,
   "id": "52fc5557-5aa8-4e48-93bc-923c107beab3",
   "metadata": {},
   "outputs": [
    {
     "data": {
      "text/plain": [
       "array([[ 0.98935825, -0.2794155 ,  0.14112001,  0.84147098],\n",
       "       [ 0.14112001, -0.2794155 , -0.95892427, -0.2794155 ],\n",
       "       [-0.95892427, -0.2794155 , -0.95892427, -0.2794155 ]])"
      ]
     },
     "execution_count": 55,
     "metadata": {},
     "output_type": "execute_result"
    }
   ],
   "source": [
    "np.sin(arr1)"
   ]
  },
  {
   "cell_type": "code",
   "execution_count": 56,
   "id": "f2dfe220-47d2-4916-a704-84f69afcdea6",
   "metadata": {},
   "outputs": [
    {
     "data": {
      "text/plain": [
       "array([[-0.14550003,  0.96017029, -0.9899925 ,  0.54030231],\n",
       "       [-0.9899925 ,  0.96017029,  0.28366219,  0.96017029],\n",
       "       [ 0.28366219,  0.96017029,  0.28366219,  0.96017029]])"
      ]
     },
     "execution_count": 56,
     "metadata": {},
     "output_type": "execute_result"
    }
   ],
   "source": [
    "np.cos(arr1)"
   ]
  },
  {
   "cell_type": "code",
   "execution_count": 57,
   "id": "380a52e7-c580-4110-b8ea-6141b2fb564a",
   "metadata": {},
   "outputs": [
    {
     "data": {
      "text/plain": [
       "array([[-6.79971146, -0.29100619, -0.14254654,  1.55740772],\n",
       "       [-0.14254654, -0.29100619, -3.38051501, -0.29100619],\n",
       "       [-3.38051501, -0.29100619, -3.38051501, -0.29100619]])"
      ]
     },
     "execution_count": 57,
     "metadata": {},
     "output_type": "execute_result"
    }
   ],
   "source": [
    "np.tan(arr1)"
   ]
  },
  {
   "cell_type": "code",
   "execution_count": 58,
   "id": "6a018348-d4f7-4095-89dc-4cb6535d5717",
   "metadata": {},
   "outputs": [
    {
     "data": {
      "text/plain": [
       "array([[0.99999977, 0.99998771, 0.99505475, 0.76159416],\n",
       "       [0.99505475, 0.99998771, 0.9999092 , 0.99998771],\n",
       "       [0.9999092 , 0.99998771, 0.9999092 , 0.99998771]])"
      ]
     },
     "execution_count": 58,
     "metadata": {},
     "output_type": "execute_result"
    }
   ],
   "source": [
    "np.tanh(arr1)"
   ]
  },
  {
   "cell_type": "code",
   "execution_count": 60,
   "id": "f3040a65-9f93-4f3d-a2dc-2f72e96335a9",
   "metadata": {},
   "outputs": [
    {
     "data": {
      "text/plain": [
       "array([[0.90308999, 0.77815125, 0.47712125, 0.        ],\n",
       "       [0.47712125, 0.77815125, 0.69897   , 0.77815125],\n",
       "       [0.69897   , 0.77815125, 0.69897   , 0.77815125]])"
      ]
     },
     "execution_count": 60,
     "metadata": {},
     "output_type": "execute_result"
    }
   ],
   "source": [
    "np.log10(arr1)"
   ]
  },
  {
   "cell_type": "code",
   "execution_count": 62,
   "id": "55d9eb46-d8c6-4bc1-9606-784c97a5b08c",
   "metadata": {},
   "outputs": [
    {
     "data": {
      "text/plain": [
       "array([[2.98095799e+03, 4.03428793e+02, 2.00855369e+01, 2.71828183e+00],\n",
       "       [2.00855369e+01, 4.03428793e+02, 1.48413159e+02, 4.03428793e+02],\n",
       "       [1.48413159e+02, 4.03428793e+02, 1.48413159e+02, 4.03428793e+02]])"
      ]
     },
     "execution_count": 62,
     "metadata": {},
     "output_type": "execute_result"
    }
   ],
   "source": [
    "np.exp(arr1)"
   ]
  },
  {
   "cell_type": "code",
   "execution_count": 63,
   "id": "5b98015e-901b-41e6-ae3a-12bbf17cefa1",
   "metadata": {},
   "outputs": [
    {
     "data": {
      "text/plain": [
       "array([[2.82842712, 2.44948974, 1.73205081, 1.        ],\n",
       "       [1.73205081, 2.44948974, 2.23606798, 2.44948974],\n",
       "       [2.23606798, 2.44948974, 2.23606798, 2.44948974]])"
      ]
     },
     "execution_count": 63,
     "metadata": {},
     "output_type": "execute_result"
    }
   ],
   "source": [
    "np.sqrt(arr1)"
   ]
  },
  {
   "cell_type": "code",
   "execution_count": 65,
   "id": "ea5699bb-0252-498b-b047-60285a9cd9d4",
   "metadata": {},
   "outputs": [
    {
     "data": {
      "text/plain": [
       "array([[512, 216,  27,   1],\n",
       "       [ 27, 216, 125, 216],\n",
       "       [125, 216, 125, 216]])"
      ]
     },
     "execution_count": 65,
     "metadata": {},
     "output_type": "execute_result"
    }
   ],
   "source": [
    "np.power(arr1 , 3)"
   ]
  },
  {
   "cell_type": "code",
   "execution_count": 66,
   "id": "56bb30f5-bbf2-4988-a980-3f9f7b9f8a04",
   "metadata": {},
   "outputs": [
    {
     "data": {
      "text/plain": [
       "5.0"
      ]
     },
     "execution_count": 66,
     "metadata": {},
     "output_type": "execute_result"
    }
   ],
   "source": [
    "np.mean(arr1)"
   ]
  },
  {
   "cell_type": "code",
   "execution_count": 68,
   "id": "5d755daf-25a9-4ff9-9160-ef56b39008e5",
   "metadata": {},
   "outputs": [
    {
     "data": {
      "text/plain": [
       "5.5"
      ]
     },
     "execution_count": 68,
     "metadata": {},
     "output_type": "execute_result"
    }
   ],
   "source": [
    "np.median(arr1)"
   ]
  },
  {
   "cell_type": "code",
   "execution_count": 69,
   "id": "e9db8dff-e539-418c-ad37-838f642fd862",
   "metadata": {},
   "outputs": [
    {
     "data": {
      "text/plain": [
       "1.7795130420052185"
      ]
     },
     "execution_count": 69,
     "metadata": {},
     "output_type": "execute_result"
    }
   ],
   "source": [
    "np.std(arr1)"
   ]
  },
  {
   "cell_type": "code",
   "execution_count": 70,
   "id": "b328c696-b3ca-474b-ad0f-c87f28bde497",
   "metadata": {},
   "outputs": [
    {
     "data": {
      "text/plain": [
       "3.1666666666666665"
      ]
     },
     "execution_count": 70,
     "metadata": {},
     "output_type": "execute_result"
    }
   ],
   "source": [
    "np.var(arr1)"
   ]
  },
  {
   "cell_type": "code",
   "execution_count": 71,
   "id": "a3db3f17-00f8-4a16-b6c9-a518284e7bfa",
   "metadata": {},
   "outputs": [
    {
     "data": {
      "text/plain": [
       "1"
      ]
     },
     "execution_count": 71,
     "metadata": {},
     "output_type": "execute_result"
    }
   ],
   "source": [
    "np.min(arr1)"
   ]
  },
  {
   "cell_type": "code",
   "execution_count": 72,
   "id": "11e612f2-d3ee-4627-b297-d362f8c3ab0e",
   "metadata": {},
   "outputs": [
    {
     "data": {
      "text/plain": [
       "8"
      ]
     },
     "execution_count": 72,
     "metadata": {},
     "output_type": "execute_result"
    }
   ],
   "source": [
    "np.max(arr1)"
   ]
  },
  {
   "cell_type": "code",
   "execution_count": 73,
   "id": "c59ca25e-4f79-4ef6-b922-83579fc11103",
   "metadata": {},
   "outputs": [
    {
     "data": {
      "text/plain": [
       "1"
      ]
     },
     "execution_count": 73,
     "metadata": {},
     "output_type": "execute_result"
    }
   ],
   "source": [
    "arr1.min()"
   ]
  },
  {
   "cell_type": "code",
   "execution_count": 74,
   "id": "f59acb4c-3b46-459c-ab07-e81fa543a52e",
   "metadata": {},
   "outputs": [
    {
     "data": {
      "text/plain": [
       "5.0"
      ]
     },
     "execution_count": 74,
     "metadata": {},
     "output_type": "execute_result"
    }
   ],
   "source": [
    "arr1.mean()"
   ]
  },
  {
   "cell_type": "code",
   "execution_count": null,
   "id": "2055e575-74aa-4547-8e6f-c191523ebffb",
   "metadata": {},
   "outputs": [],
   "source": []
  }
 ],
 "metadata": {
  "kernelspec": {
   "display_name": "Python 3 (ipykernel)",
   "language": "python",
   "name": "python3"
  },
  "language_info": {
   "codemirror_mode": {
    "name": "ipython",
    "version": 3
   },
   "file_extension": ".py",
   "mimetype": "text/x-python",
   "name": "python",
   "nbconvert_exporter": "python",
   "pygments_lexer": "ipython3",
   "version": "3.10.8"
  }
 },
 "nbformat": 4,
 "nbformat_minor": 5
}
