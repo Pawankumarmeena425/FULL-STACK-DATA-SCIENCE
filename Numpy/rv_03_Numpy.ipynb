{
 "cells": [
  {
   "cell_type": "code",
   "execution_count": 1,
   "id": "8cfcdda6-a876-4972-b79b-c045532b38be",
   "metadata": {},
   "outputs": [],
   "source": [
    "# Sort , Searching and counting funcitons"
   ]
  },
  {
   "cell_type": "code",
   "execution_count": 2,
   "id": "57fdfbd3-18de-4c84-b90c-dcef4139c50c",
   "metadata": {},
   "outputs": [],
   "source": [
    "import numpy as np"
   ]
  },
  {
   "cell_type": "code",
   "execution_count": 4,
   "id": "c927c182-22f1-468f-9ae7-77cc4ba4fdad",
   "metadata": {},
   "outputs": [],
   "source": [
    "arr = np.array([3,4,56,7,4,2,3,5])"
   ]
  },
  {
   "cell_type": "code",
   "execution_count": 5,
   "id": "2435d58a-4b00-4835-86c0-6362a5c5c74a",
   "metadata": {},
   "outputs": [
    {
     "data": {
      "text/plain": [
       "array([ 2,  3,  3,  4,  4,  5,  7, 56])"
      ]
     },
     "execution_count": 5,
     "metadata": {},
     "output_type": "execute_result"
    }
   ],
   "source": [
    "np.sort(arr)"
   ]
  },
  {
   "cell_type": "code",
   "execution_count": 7,
   "id": "ba6c16a2-dbdd-4225-a7c3-35a5bcbe187c",
   "metadata": {},
   "outputs": [
    {
     "data": {
      "text/plain": [
       "8"
      ]
     },
     "execution_count": 7,
     "metadata": {},
     "output_type": "execute_result"
    }
   ],
   "source": [
    "np.searchsorted(arr , 34)\n",
    "# data kha par best fit hoga in order to sorting the array"
   ]
  },
  {
   "cell_type": "code",
   "execution_count": 8,
   "id": "904cf73c-4812-410c-974c-061c5e45923e",
   "metadata": {},
   "outputs": [],
   "source": [
    "arr1 = np.array([0,3,32,12,5,0,7,0,0,6,0])"
   ]
  },
  {
   "cell_type": "code",
   "execution_count": 11,
   "id": "f9a54e6e-515d-46ef-b1db-5614947e838c",
   "metadata": {},
   "outputs": [
    {
     "data": {
      "text/plain": [
       "6"
      ]
     },
     "execution_count": 11,
     "metadata": {},
     "output_type": "execute_result"
    }
   ],
   "source": [
    "np.count_nonzero(arr1)"
   ]
  },
  {
   "cell_type": "code",
   "execution_count": 13,
   "id": "3d2576b0-b14e-4aaf-9f39-f4cc1d2f432e",
   "metadata": {},
   "outputs": [
    {
     "data": {
      "text/plain": [
       "(array([2, 3, 6]),)"
      ]
     },
     "execution_count": 13,
     "metadata": {},
     "output_type": "execute_result"
    }
   ],
   "source": [
    "np.where(arr1>6)\n",
    "# give index of data where condition satisified"
   ]
  },
  {
   "cell_type": "code",
   "execution_count": 15,
   "id": "c9427af0-be71-48ab-aba9-07bddaab852e",
   "metadata": {},
   "outputs": [
    {
     "data": {
      "text/plain": [
       "array([32, 12,  5,  7,  6])"
      ]
     },
     "execution_count": 15,
     "metadata": {},
     "output_type": "execute_result"
    }
   ],
   "source": [
    "np.extract(arr1>3 , arr1)"
   ]
  },
  {
   "cell_type": "raw",
   "id": "9ecfb5fe-68db-47fd-895b-f0d51f893060",
   "metadata": {},
   "source": []
  },
  {
   "cell_type": "code",
   "execution_count": 16,
   "id": "7cfb9c07-ecce-4f2d-88bb-fab4c7989b70",
   "metadata": {},
   "outputs": [
    {
     "data": {
      "text/plain": [
       "array([ 0,  3, 32, 12,  5,  0,  7,  0,  0,  6,  0])"
      ]
     },
     "execution_count": 16,
     "metadata": {},
     "output_type": "execute_result"
    }
   ],
   "source": [
    "arr1"
   ]
  },
  {
   "cell_type": "code",
   "execution_count": 17,
   "id": "73aacc53-175f-4d50-a3c4-e20acd4e06c0",
   "metadata": {},
   "outputs": [
    {
     "data": {
      "text/plain": [
       "array([ 216172782113783808,  288230376151711744, 4035225266123964416,\n",
       "        504403158265495552,  288230376151711744,  144115188075855872,\n",
       "        216172782113783808,  360287970189639680])"
      ]
     },
     "execution_count": 17,
     "metadata": {},
     "output_type": "execute_result"
    }
   ],
   "source": [
    "arr.byteswap()\n",
    "# Swap the bytes of the array elements"
   ]
  },
  {
   "cell_type": "code",
   "execution_count": null,
   "id": "1c3f51a0-b97a-42a8-8ebc-2de4bcabae0d",
   "metadata": {},
   "outputs": [],
   "source": []
  },
  {
   "cell_type": "code",
   "execution_count": 18,
   "id": "fdb6503e-c1b2-4838-9fa8-b043dc22283c",
   "metadata": {},
   "outputs": [],
   "source": [
    "# Numpy -  Copies  and Views"
   ]
  },
  {
   "cell_type": "code",
   "execution_count": 21,
   "id": "6b9ebaf3-2c9e-4163-b358-fe6e18f30340",
   "metadata": {},
   "outputs": [
    {
     "data": {
      "text/plain": [
       "array([ 3,  4, 56,  7,  4,  2,  3,  5])"
      ]
     },
     "execution_count": 21,
     "metadata": {},
     "output_type": "execute_result"
    }
   ],
   "source": [
    "arr"
   ]
  },
  {
   "cell_type": "code",
   "execution_count": 19,
   "id": "e298f3fe-52c0-486a-a4a3-22f3efffbee9",
   "metadata": {},
   "outputs": [],
   "source": [
    "a = np.copy(arr)\n",
    "# deep copy"
   ]
  },
  {
   "cell_type": "code",
   "execution_count": 28,
   "id": "153361f3-90c8-46ac-a6e1-70c5d7ad599a",
   "metadata": {},
   "outputs": [],
   "source": [
    "b = arr.view()\n",
    "# shallow copy"
   ]
  },
  {
   "cell_type": "code",
   "execution_count": 29,
   "id": "61edd0ec-1cd3-4a98-a0f3-9b6ee1995610",
   "metadata": {},
   "outputs": [],
   "source": [
    "b[0] = 23"
   ]
  },
  {
   "cell_type": "code",
   "execution_count": 30,
   "id": "3cd218b1-4ad3-4efa-a2be-0e96ed309826",
   "metadata": {},
   "outputs": [
    {
     "data": {
      "text/plain": [
       "array([23,  4, 56,  7,  4,  2,  3,  5])"
      ]
     },
     "execution_count": 30,
     "metadata": {},
     "output_type": "execute_result"
    }
   ],
   "source": [
    "b"
   ]
  },
  {
   "cell_type": "code",
   "execution_count": 31,
   "id": "3f541881-c7a7-44da-bea8-721afe95b004",
   "metadata": {},
   "outputs": [
    {
     "data": {
      "text/plain": [
       "array([23,  4, 56,  7,  4,  2,  3,  5])"
      ]
     },
     "execution_count": 31,
     "metadata": {},
     "output_type": "execute_result"
    }
   ],
   "source": [
    "arr"
   ]
  },
  {
   "cell_type": "code",
   "execution_count": 32,
   "id": "6c3ca890-51b6-4f98-acbe-07c471bdbed3",
   "metadata": {},
   "outputs": [],
   "source": [
    "a[3]=23423"
   ]
  },
  {
   "cell_type": "code",
   "execution_count": 33,
   "id": "2a71ca75-e73d-4d0e-88a0-1ee281d5e386",
   "metadata": {},
   "outputs": [
    {
     "data": {
      "text/plain": [
       "array([    3,     4,    56, 23423,     4,     2,     3,     5])"
      ]
     },
     "execution_count": 33,
     "metadata": {},
     "output_type": "execute_result"
    }
   ],
   "source": [
    "a"
   ]
  },
  {
   "cell_type": "code",
   "execution_count": 34,
   "id": "cfdd623a-d407-48a9-bfa9-eb1d01db21c1",
   "metadata": {},
   "outputs": [
    {
     "data": {
      "text/plain": [
       "array([23,  4, 56,  7,  4,  2,  3,  5])"
      ]
     },
     "execution_count": 34,
     "metadata": {},
     "output_type": "execute_result"
    }
   ],
   "source": [
    "b"
   ]
  },
  {
   "cell_type": "code",
   "execution_count": 35,
   "id": "4952f9f8-b3d2-4ab1-9ea4-b80cb5b05a00",
   "metadata": {},
   "outputs": [],
   "source": [
    "# Numpy  - Metrix Library\n",
    "import numpy.matlib as nm\n",
    "# it is similer to numpy , but it is generate metrix"
   ]
  },
  {
   "cell_type": "code",
   "execution_count": 36,
   "id": "86bf3b6d-365e-4ded-82e0-f8887fdd26b1",
   "metadata": {},
   "outputs": [
    {
     "data": {
      "text/plain": [
       "matrix([[0., 0., 0., 0., 0.]])"
      ]
     },
     "execution_count": 36,
     "metadata": {},
     "output_type": "execute_result"
    }
   ],
   "source": [
    "nm.zeros(5)\n",
    "# now it will generate metrix, not array"
   ]
  },
  {
   "cell_type": "code",
   "execution_count": 38,
   "id": "2e93fece-10e8-482e-b1c0-38bf657bc83d",
   "metadata": {},
   "outputs": [
    {
     "data": {
      "text/plain": [
       "matrix([[1., 1., 1., 1., 1.],\n",
       "        [1., 1., 1., 1., 1.],\n",
       "        [1., 1., 1., 1., 1.],\n",
       "        [1., 1., 1., 1., 1.]])"
      ]
     },
     "execution_count": 38,
     "metadata": {},
     "output_type": "execute_result"
    }
   ],
   "source": [
    "nm.ones((4,5))"
   ]
  },
  {
   "cell_type": "code",
   "execution_count": 39,
   "id": "eb4bb71e-a71f-491f-a178-f9bc11b65dfe",
   "metadata": {},
   "outputs": [
    {
     "data": {
      "text/plain": [
       "matrix([[1., 0., 0., 0., 0.],\n",
       "        [0., 1., 0., 0., 0.],\n",
       "        [0., 0., 1., 0., 0.],\n",
       "        [0., 0., 0., 1., 0.],\n",
       "        [0., 0., 0., 0., 1.]])"
      ]
     },
     "execution_count": 39,
     "metadata": {},
     "output_type": "execute_result"
    }
   ],
   "source": [
    "nm.eye(5)"
   ]
  },
  {
   "cell_type": "code",
   "execution_count": 41,
   "id": "610ec845-d1e3-4eab-8377-6a8dfd702e08",
   "metadata": {},
   "outputs": [
    {
     "data": {
      "text/plain": [
       "array([[2, 0],\n",
       "       [1, 1]])"
      ]
     },
     "execution_count": 41,
     "metadata": {},
     "output_type": "execute_result"
    }
   ],
   "source": [
    "# Linerar Algebra\n",
    "arr1 = np.random.randint([[3,4],[4,5]])\n",
    "arr1"
   ]
  },
  {
   "cell_type": "code",
   "execution_count": 42,
   "id": "ee14fbf4-c43c-4b2a-9a7f-00f9a3c9ae5b",
   "metadata": {},
   "outputs": [
    {
     "data": {
      "text/plain": [
       "array([[2, 0],\n",
       "       [3, 0]])"
      ]
     },
     "execution_count": 42,
     "metadata": {},
     "output_type": "execute_result"
    }
   ],
   "source": [
    "arr2 = np.random.randint([[3,4],[4,5]])\n",
    "arr2"
   ]
  },
  {
   "cell_type": "code",
   "execution_count": 43,
   "id": "83f716c6-5af0-48cb-8d64-d4ec45bdf299",
   "metadata": {},
   "outputs": [
    {
     "data": {
      "text/plain": [
       "array([[4, 0],\n",
       "       [5, 0]])"
      ]
     },
     "execution_count": 43,
     "metadata": {},
     "output_type": "execute_result"
    }
   ],
   "source": [
    "np.dot(arr1,arr2)\n",
    "# similer to metrix multiplation"
   ]
  },
  {
   "cell_type": "code",
   "execution_count": 44,
   "id": "eb844235-4993-46bf-8c5e-7211fc2c9cae",
   "metadata": {},
   "outputs": [
    {
     "data": {
      "text/plain": [
       "array([[4, 0],\n",
       "       [5, 0]])"
      ]
     },
     "execution_count": 44,
     "metadata": {},
     "output_type": "execute_result"
    }
   ],
   "source": [
    "arr1@arr2"
   ]
  },
  {
   "cell_type": "code",
   "execution_count": null,
   "id": "5c0f070c-609c-4435-aa37-e17e1551f057",
   "metadata": {},
   "outputs": [],
   "source": []
  }
 ],
 "metadata": {
  "kernelspec": {
   "display_name": "Python 3 (ipykernel)",
   "language": "python",
   "name": "python3"
  },
  "language_info": {
   "codemirror_mode": {
    "name": "ipython",
    "version": 3
   },
   "file_extension": ".py",
   "mimetype": "text/x-python",
   "name": "python",
   "nbconvert_exporter": "python",
   "pygments_lexer": "ipython3",
   "version": "3.10.8"
  }
 },
 "nbformat": 4,
 "nbformat_minor": 5
}
