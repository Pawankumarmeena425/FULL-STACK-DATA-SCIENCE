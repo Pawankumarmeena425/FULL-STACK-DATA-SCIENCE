{
 "cells": [
  {
   "cell_type": "code",
   "execution_count": 1,
   "id": "1465739a-d1e0-4bd6-ad24-fa157d37e59e",
   "metadata": {},
   "outputs": [],
   "source": [
    "import numpy as np"
   ]
  },
  {
   "cell_type": "code",
   "execution_count": 2,
   "id": "f11db686-fe92-442b-8e78-e7688fcae11d",
   "metadata": {},
   "outputs": [],
   "source": [
    "# Sort , Search and Counting Functions."
   ]
  },
  {
   "cell_type": "code",
   "execution_count": 3,
   "id": "8f46af75-ac50-4ce5-a2d0-e346d03e6a73",
   "metadata": {},
   "outputs": [],
   "source": [
    "arr = np.array([2,3,4,6,5,6,8,0,-7,9,5,-3])"
   ]
  },
  {
   "cell_type": "code",
   "execution_count": 4,
   "id": "46484931-535d-4bd1-8f1c-302044410579",
   "metadata": {},
   "outputs": [
    {
     "data": {
      "text/plain": [
       "array([ 2,  3,  4,  6,  5,  6,  8,  0, -7,  9,  5, -3])"
      ]
     },
     "execution_count": 4,
     "metadata": {},
     "output_type": "execute_result"
    }
   ],
   "source": [
    "arr"
   ]
  },
  {
   "cell_type": "code",
   "execution_count": 5,
   "id": "1d63f601-ff09-4a5c-9e4e-2ee06703c748",
   "metadata": {},
   "outputs": [
    {
     "data": {
      "text/plain": [
       "array([-7, -3,  0,  2,  3,  4,  5,  5,  6,  6,  8,  9])"
      ]
     },
     "execution_count": 5,
     "metadata": {},
     "output_type": "execute_result"
    }
   ],
   "source": [
    "np.sort(arr)"
   ]
  },
  {
   "cell_type": "code",
   "execution_count": 10,
   "id": "15d2d0db-b637-4de2-bc5a-0b65f06741f9",
   "metadata": {},
   "outputs": [
    {
     "data": {
      "text/plain": [
       "12"
      ]
     },
     "execution_count": 10,
     "metadata": {},
     "output_type": "execute_result"
    }
   ],
   "source": [
    "np.searchsorted(arr,25)\n",
    "# konse index par data inser hoga"
   ]
  },
  {
   "cell_type": "code",
   "execution_count": 12,
   "id": "f5112e66-8b2c-464e-af45-17bdd679d156",
   "metadata": {},
   "outputs": [],
   "source": [
    "arr1 = np.array([0,23,54,23,7,0,5,0,7,0,0,4,2,4,6])"
   ]
  },
  {
   "cell_type": "code",
   "execution_count": 13,
   "id": "ed882f3c-6127-43aa-aec5-cfe9cde5e015",
   "metadata": {},
   "outputs": [
    {
     "data": {
      "text/plain": [
       "10"
      ]
     },
     "execution_count": 13,
     "metadata": {},
     "output_type": "execute_result"
    }
   ],
   "source": [
    "np.count_nonzero(arr1)"
   ]
  },
  {
   "cell_type": "code",
   "execution_count": 14,
   "id": "2b3330f8-7641-48bb-9771-dcf5cc043b0a",
   "metadata": {},
   "outputs": [
    {
     "data": {
      "text/plain": [
       "(array([6, 9]),)"
      ]
     },
     "execution_count": 14,
     "metadata": {},
     "output_type": "execute_result"
    }
   ],
   "source": [
    "np.where(arr>6)\n",
    "# gives index , where condition satisfy"
   ]
  },
  {
   "cell_type": "code",
   "execution_count": 16,
   "id": "d221490c-682e-4bc1-b651-f8107ca3221a",
   "metadata": {},
   "outputs": [
    {
     "data": {
      "text/plain": [
       "array([4, 6, 5, 6, 8, 9, 5])"
      ]
     },
     "execution_count": 16,
     "metadata": {},
     "output_type": "execute_result"
    }
   ],
   "source": [
    "np.extract(arr>3,arr)"
   ]
  },
  {
   "cell_type": "code",
   "execution_count": null,
   "id": "31fbd42c-c81a-4c03-8977-c67c055642ea",
   "metadata": {},
   "outputs": [],
   "source": []
  },
  {
   "cell_type": "code",
   "execution_count": 17,
   "id": "674866f9-d379-45de-ace1-0ca8c36d7fca",
   "metadata": {},
   "outputs": [],
   "source": [
    "# Numpy -  Byte Swapping"
   ]
  },
  {
   "cell_type": "code",
   "execution_count": 18,
   "id": "bb5a8b1f-e8a9-4e28-b941-ae2292d977a8",
   "metadata": {},
   "outputs": [
    {
     "data": {
      "text/plain": [
       "array([ 2,  3,  4,  6,  5,  6,  8,  0, -7,  9,  5, -3])"
      ]
     },
     "execution_count": 18,
     "metadata": {},
     "output_type": "execute_result"
    }
   ],
   "source": [
    "arr"
   ]
  },
  {
   "cell_type": "code",
   "execution_count": 19,
   "id": "3ae32bfa-5131-40f1-9a84-9e77d18f395e",
   "metadata": {},
   "outputs": [
    {
     "data": {
      "text/plain": [
       "array([ 144115188075855872,  216172782113783808,  288230376151711744,\n",
       "        432345564227567616,  360287970189639680,  432345564227567616,\n",
       "        576460752303423488,                   0, -432345564227567617,\n",
       "        648518346341351424,  360287970189639680, -144115188075855873])"
      ]
     },
     "execution_count": 19,
     "metadata": {},
     "output_type": "execute_result"
    }
   ],
   "source": [
    "arr.byteswap()"
   ]
  },
  {
   "cell_type": "code",
   "execution_count": 20,
   "id": "4af87a6b-1d7b-4c0e-ac82-417505b08811",
   "metadata": {},
   "outputs": [],
   "source": [
    "# Numpy - Copies and Views"
   ]
  },
  {
   "cell_type": "code",
   "execution_count": 21,
   "id": "32180002-4d46-41ce-b7f0-c056e3080259",
   "metadata": {},
   "outputs": [],
   "source": [
    "a = np.copy(arr)\n",
    "# Deep copy"
   ]
  },
  {
   "cell_type": "code",
   "execution_count": 22,
   "id": "ae733120-4a4d-418f-ad1b-eb3d5059dcd5",
   "metadata": {},
   "outputs": [],
   "source": [
    "# Shallow copy can be acheive in another way\n",
    "b = arr.view()"
   ]
  },
  {
   "cell_type": "code",
   "execution_count": 23,
   "id": "9c86a406-793b-4e0c-b3fa-f732ceaa7789",
   "metadata": {},
   "outputs": [
    {
     "data": {
      "text/plain": [
       "array([ 2,  3,  4,  6,  5,  6,  8,  0, -7,  9,  5, -3])"
      ]
     },
     "execution_count": 23,
     "metadata": {},
     "output_type": "execute_result"
    }
   ],
   "source": [
    "arr"
   ]
  },
  {
   "cell_type": "code",
   "execution_count": 24,
   "id": "7512e92e-4c16-47c5-8110-bb755ebaab0f",
   "metadata": {},
   "outputs": [
    {
     "data": {
      "text/plain": [
       "array([ 2,  3,  4,  6,  5,  6,  8,  0, -7,  9,  5, -3])"
      ]
     },
     "execution_count": 24,
     "metadata": {},
     "output_type": "execute_result"
    }
   ],
   "source": [
    "b"
   ]
  },
  {
   "cell_type": "code",
   "execution_count": 25,
   "id": "ae74b947-b161-4584-920f-c8b5a4fbdb47",
   "metadata": {},
   "outputs": [],
   "source": [
    "b[0] =342"
   ]
  },
  {
   "cell_type": "code",
   "execution_count": 26,
   "id": "58eeb6aa-bd33-4b9f-a1ae-0266c53cad4c",
   "metadata": {},
   "outputs": [
    {
     "data": {
      "text/plain": [
       "array([342,   3,   4,   6,   5,   6,   8,   0,  -7,   9,   5,  -3])"
      ]
     },
     "execution_count": 26,
     "metadata": {},
     "output_type": "execute_result"
    }
   ],
   "source": [
    "b"
   ]
  },
  {
   "cell_type": "code",
   "execution_count": 27,
   "id": "44c54a2b-bb4f-48ce-93a8-eb74a2cade41",
   "metadata": {},
   "outputs": [
    {
     "data": {
      "text/plain": [
       "array([342,   3,   4,   6,   5,   6,   8,   0,  -7,   9,   5,  -3])"
      ]
     },
     "execution_count": 27,
     "metadata": {},
     "output_type": "execute_result"
    }
   ],
   "source": [
    "arr"
   ]
  },
  {
   "cell_type": "code",
   "execution_count": null,
   "id": "b011eaa3-ce1a-46d3-9e46-bb97855ab74f",
   "metadata": {},
   "outputs": [],
   "source": []
  },
  {
   "cell_type": "code",
   "execution_count": 29,
   "id": "81a7dbd2-effc-426b-a05d-90345200e3da",
   "metadata": {},
   "outputs": [],
   "source": [
    "# Numpy -  Metrix library\n",
    "\n",
    "# all task which can be done using numpy can be acheive using metrix library"
   ]
  },
  {
   "cell_type": "code",
   "execution_count": 30,
   "id": "584ed197-9d3e-4abd-8aad-4e67a6c914cc",
   "metadata": {},
   "outputs": [],
   "source": [
    "import numpy.matlib as nm"
   ]
  },
  {
   "cell_type": "code",
   "execution_count": 31,
   "id": "76c48921-d60d-41bd-9715-e03403016b76",
   "metadata": {},
   "outputs": [
    {
     "data": {
      "text/plain": [
       "matrix([[0., 0., 0., 0., 0.]])"
      ]
     },
     "execution_count": 31,
     "metadata": {},
     "output_type": "execute_result"
    }
   ],
   "source": [
    "nm.zeros(5)\n",
    "# Minimum 2-d"
   ]
  },
  {
   "cell_type": "code",
   "execution_count": 32,
   "id": "32347971-d603-47f4-ace3-5db10012743e",
   "metadata": {},
   "outputs": [
    {
     "data": {
      "text/plain": [
       "matrix([[1., 1., 1., 1., 1., 1.],\n",
       "        [1., 1., 1., 1., 1., 1.],\n",
       "        [1., 1., 1., 1., 1., 1.],\n",
       "        [1., 1., 1., 1., 1., 1.],\n",
       "        [1., 1., 1., 1., 1., 1.]])"
      ]
     },
     "execution_count": 32,
     "metadata": {},
     "output_type": "execute_result"
    }
   ],
   "source": [
    "nm.ones((5,6))"
   ]
  },
  {
   "cell_type": "code",
   "execution_count": 33,
   "id": "1018472b-fc13-4d65-881b-401c2ee3dd33",
   "metadata": {},
   "outputs": [
    {
     "data": {
      "text/plain": [
       "matrix([[1., 0., 0., 0., 0.],\n",
       "        [0., 1., 0., 0., 0.],\n",
       "        [0., 0., 1., 0., 0.],\n",
       "        [0., 0., 0., 1., 0.],\n",
       "        [0., 0., 0., 0., 1.]])"
      ]
     },
     "execution_count": 33,
     "metadata": {},
     "output_type": "execute_result"
    }
   ],
   "source": [
    "nm.eye(5)"
   ]
  },
  {
   "cell_type": "code",
   "execution_count": null,
   "id": "e1d997ac-9e1c-4881-b88c-11048e68a7f4",
   "metadata": {},
   "outputs": [],
   "source": []
  },
  {
   "cell_type": "code",
   "execution_count": 34,
   "id": "2d699e98-54b2-4804-ac8d-6a656a48e2fe",
   "metadata": {},
   "outputs": [],
   "source": [
    "# Numpy - Linear Algebra"
   ]
  },
  {
   "cell_type": "code",
   "execution_count": 35,
   "id": "2e757f6f-a84b-4c5a-983f-af87cdfff92f",
   "metadata": {},
   "outputs": [],
   "source": [
    "arr1 = np.random.randint([[3,4],[6,4]])"
   ]
  },
  {
   "cell_type": "code",
   "execution_count": 36,
   "id": "3d27178a-1e10-4344-82e8-fe4f4cad0522",
   "metadata": {},
   "outputs": [],
   "source": [
    "arr2 = np.random.randint([[6,4],[1,3]])"
   ]
  },
  {
   "cell_type": "code",
   "execution_count": 37,
   "id": "e294d5cb-c6cc-4ae3-93da-f8eed3936384",
   "metadata": {},
   "outputs": [
    {
     "data": {
      "text/plain": [
       "array([[ 2,  6],\n",
       "       [ 5, 15]])"
      ]
     },
     "execution_count": 37,
     "metadata": {},
     "output_type": "execute_result"
    }
   ],
   "source": [
    "np.dot(arr1,arr2)"
   ]
  },
  {
   "cell_type": "code",
   "execution_count": 38,
   "id": "859f6c29-769b-499a-9eb1-0c7796ffe741",
   "metadata": {},
   "outputs": [
    {
     "data": {
      "text/plain": [
       "array([[ 2,  6],\n",
       "       [ 5, 15]])"
      ]
     },
     "execution_count": 38,
     "metadata": {},
     "output_type": "execute_result"
    }
   ],
   "source": [
    "arr1@arr2"
   ]
  },
  {
   "cell_type": "code",
   "execution_count": null,
   "id": "d1d6a6ad-d896-480c-a407-d87684a40ab2",
   "metadata": {},
   "outputs": [],
   "source": []
  }
 ],
 "metadata": {
  "kernelspec": {
   "display_name": "Python 3 (ipykernel)",
   "language": "python",
   "name": "python3"
  },
  "language_info": {
   "codemirror_mode": {
    "name": "ipython",
    "version": 3
   },
   "file_extension": ".py",
   "mimetype": "text/x-python",
   "name": "python",
   "nbconvert_exporter": "python",
   "pygments_lexer": "ipython3",
   "version": "3.10.8"
  }
 },
 "nbformat": 4,
 "nbformat_minor": 5
}
