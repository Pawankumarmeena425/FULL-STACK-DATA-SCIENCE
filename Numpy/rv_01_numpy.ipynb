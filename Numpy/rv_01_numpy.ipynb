{
 "cells": [
  {
   "cell_type": "code",
   "execution_count": 1,
   "id": "44afab53-979b-428f-8f36-f6f2fae82168",
   "metadata": {},
   "outputs": [],
   "source": [
    "# Numpy  -  Numerical Python\n",
    "# it is very important libray in terms of data processing\n"
   ]
  },
  {
   "cell_type": "code",
   "execution_count": 2,
   "id": "b48aa7b0-cab6-4003-95bc-f3e554b2c598",
   "metadata": {},
   "outputs": [],
   "source": [
    "import numpy as np"
   ]
  },
  {
   "cell_type": "code",
   "execution_count": 3,
   "id": "74c7547d-08e4-4753-a7c3-3f1ed014468a",
   "metadata": {},
   "outputs": [
    {
     "name": "stdout",
     "output_type": "stream",
     "text": [
      "Requirement already satisfied: numpy in /opt/conda/lib/python3.10/site-packages (1.23.5)\n",
      "Note: you may need to restart the kernel to use updated packages.\n"
     ]
    }
   ],
   "source": [
    "pip install numpy"
   ]
  },
  {
   "cell_type": "code",
   "execution_count": 5,
   "id": "05e52c6f-07ea-411e-a28d-397ca8b1a7c6",
   "metadata": {},
   "outputs": [
    {
     "data": {
      "text/plain": [
       "array([2, 3, 4, 5, 6, 7])"
      ]
     },
     "execution_count": 5,
     "metadata": {},
     "output_type": "execute_result"
    }
   ],
   "source": [
    "l = [2,3,4,5,6,7];\n",
    "# convert list into array\n",
    "np.array(l)"
   ]
  },
  {
   "cell_type": "code",
   "execution_count": 7,
   "id": "849dc2b0-86a0-4cb2-b92c-76558bfc10f8",
   "metadata": {},
   "outputs": [
    {
     "data": {
      "text/plain": [
       "numpy.ndarray"
      ]
     },
     "execution_count": 7,
     "metadata": {},
     "output_type": "execute_result"
    }
   ],
   "source": [
    "ar = np.array(l)\n",
    "type(ar)"
   ]
  },
  {
   "cell_type": "code",
   "execution_count": 12,
   "id": "920b8b6a-4f25-4b01-aedb-f96b532b7b54",
   "metadata": {},
   "outputs": [
    {
     "data": {
      "text/plain": [
       "numpy.ndarray"
      ]
     },
     "execution_count": 12,
     "metadata": {},
     "output_type": "execute_result"
    }
   ],
   "source": [
    "arr2 = np.array([[3,5,6,67,7],\n",
    "         [7,54,3,5,7]]\n",
    ")\n",
    "arr2\n"
   ]
  },
  {
   "cell_type": "code",
   "execution_count": 13,
   "id": "87bf1209-d000-47ac-b213-90a0ed3d189e",
   "metadata": {},
   "outputs": [
    {
     "data": {
      "text/plain": [
       "numpy.ndarray"
      ]
     },
     "execution_count": 13,
     "metadata": {},
     "output_type": "execute_result"
    }
   ],
   "source": [
    "type(arr2)"
   ]
  },
  {
   "cell_type": "code",
   "execution_count": 14,
   "id": "295a09a7-8d49-4f91-b7a9-8eb85c1b7a72",
   "metadata": {},
   "outputs": [
    {
     "data": {
      "text/plain": [
       "array([2, 3, 4, 5, 6, 7])"
      ]
     },
     "execution_count": 14,
     "metadata": {},
     "output_type": "execute_result"
    }
   ],
   "source": [
    "np.asarray(l)"
   ]
  },
  {
   "cell_type": "code",
   "execution_count": 15,
   "id": "89aaca92-65ef-4245-b16f-7f0eee3ca610",
   "metadata": {},
   "outputs": [
    {
     "data": {
      "text/plain": [
       "array([ 4,  2, 54,  6,  3])"
      ]
     },
     "execution_count": 15,
     "metadata": {},
     "output_type": "execute_result"
    }
   ],
   "source": [
    "a  = [4,2,54,6,3]\n",
    "np.asanyarray(a)"
   ]
  },
  {
   "cell_type": "code",
   "execution_count": 18,
   "id": "c00e4128-3628-457b-a6f1-0b3a53ddf4df",
   "metadata": {},
   "outputs": [],
   "source": [
    "# np.array  ,  np.asarray , np.asanyarray  all are use to convert list into array\n",
    "b = np.matrix(a)\n",
    "# metrix is by default 2d array . Ans metrix is subset or subclass of array"
   ]
  },
  {
   "cell_type": "code",
   "execution_count": 19,
   "id": "737a05d9-584b-4d4d-b6b3-3de16890942b",
   "metadata": {},
   "outputs": [
    {
     "data": {
      "text/plain": [
       "matrix([[ 4,  2, 54,  6,  3]])"
      ]
     },
     "execution_count": 19,
     "metadata": {},
     "output_type": "execute_result"
    }
   ],
   "source": [
    "b"
   ]
  },
  {
   "cell_type": "code",
   "execution_count": 21,
   "id": "6d63daf5-5513-46d1-a699-9535b3d5a677",
   "metadata": {},
   "outputs": [
    {
     "data": {
      "text/plain": [
       "matrix([[ 4,  2, 54,  6,  3]])"
      ]
     },
     "execution_count": 21,
     "metadata": {},
     "output_type": "execute_result"
    }
   ],
   "source": [
    "np.asanyarray(b)\n",
    "# can't be able to convert metrix into array . Because matrix is already subset of array"
   ]
  },
  {
   "cell_type": "code",
   "execution_count": 22,
   "id": "460e9926-21b1-4174-9ebf-98c102b89f97",
   "metadata": {},
   "outputs": [],
   "source": [
    "a = np.array(l)"
   ]
  },
  {
   "cell_type": "code",
   "execution_count": 25,
   "id": "f2d05b46-6354-4188-bf9b-264194720e66",
   "metadata": {},
   "outputs": [
    {
     "data": {
      "text/plain": [
       "array([2, 3, 4, 5, 6, 7])"
      ]
     },
     "execution_count": 25,
     "metadata": {},
     "output_type": "execute_result"
    }
   ],
   "source": [
    "c = a\n",
    "# Now referance of a is passed to the c . And if we do any change in a or c it will reflect to each other\n",
    "# Shallow Copy\n",
    "a"
   ]
  },
  {
   "cell_type": "code",
   "execution_count": 26,
   "id": "f2c5ed49-f770-48a0-bead-e22dbf15b9d8",
   "metadata": {},
   "outputs": [
    {
     "data": {
      "text/plain": [
       "array([2, 3, 4, 5, 6, 7])"
      ]
     },
     "execution_count": 26,
     "metadata": {},
     "output_type": "execute_result"
    }
   ],
   "source": [
    "c"
   ]
  },
  {
   "cell_type": "code",
   "execution_count": 27,
   "id": "d3e9d745-810c-40a5-9ba4-d6364535ee98",
   "metadata": {},
   "outputs": [],
   "source": [
    "c[0] = 1000"
   ]
  },
  {
   "cell_type": "code",
   "execution_count": 28,
   "id": "34ab5eb8-2edd-49e3-8b72-6f18564fe745",
   "metadata": {},
   "outputs": [
    {
     "data": {
      "text/plain": [
       "array([1000,    3,    4,    5,    6,    7])"
      ]
     },
     "execution_count": 28,
     "metadata": {},
     "output_type": "execute_result"
    }
   ],
   "source": [
    "c"
   ]
  },
  {
   "cell_type": "code",
   "execution_count": 29,
   "id": "d2d8297c-306e-4aec-85bb-3fe8c242a800",
   "metadata": {},
   "outputs": [
    {
     "data": {
      "text/plain": [
       "array([1000,    3,    4,    5,    6,    7])"
      ]
     },
     "execution_count": 29,
     "metadata": {},
     "output_type": "execute_result"
    }
   ],
   "source": [
    "a"
   ]
  },
  {
   "cell_type": "code",
   "execution_count": 30,
   "id": "717b6cbd-3075-4ef1-af11-eaa5bf1a016c",
   "metadata": {},
   "outputs": [],
   "source": [
    "d = np.copy(a)"
   ]
  },
  {
   "cell_type": "code",
   "execution_count": 31,
   "id": "99b98c9d-35e5-45cb-89bd-0f3178ffdddc",
   "metadata": {},
   "outputs": [
    {
     "data": {
      "text/plain": [
       "array([1000,    3,    4,    5,    6,    7])"
      ]
     },
     "execution_count": 31,
     "metadata": {},
     "output_type": "execute_result"
    }
   ],
   "source": [
    "d"
   ]
  },
  {
   "cell_type": "code",
   "execution_count": 32,
   "id": "0c9c2252-0075-47eb-b794-bb7da4f9bfee",
   "metadata": {},
   "outputs": [
    {
     "data": {
      "text/plain": [
       "array([1000,    3,    4,    5,    6,    7])"
      ]
     },
     "execution_count": 32,
     "metadata": {},
     "output_type": "execute_result"
    }
   ],
   "source": [
    "a"
   ]
  },
  {
   "cell_type": "code",
   "execution_count": 33,
   "id": "7c1321a8-af9d-4a2e-940a-39a856c29aac",
   "metadata": {},
   "outputs": [],
   "source": [
    "a [1] = 400"
   ]
  },
  {
   "cell_type": "code",
   "execution_count": 34,
   "id": "d8753fd4-6b08-4a2f-aca1-5fa44fdb494f",
   "metadata": {},
   "outputs": [
    {
     "data": {
      "text/plain": [
       "array([1000,  400,    4,    5,    6,    7])"
      ]
     },
     "execution_count": 34,
     "metadata": {},
     "output_type": "execute_result"
    }
   ],
   "source": [
    "a"
   ]
  },
  {
   "cell_type": "code",
   "execution_count": 35,
   "id": "ea043c16-4fd9-4d2f-9e04-ebf2949d3c92",
   "metadata": {},
   "outputs": [
    {
     "data": {
      "text/plain": [
       "array([1000,    3,    4,    5,    6,    7])"
      ]
     },
     "execution_count": 35,
     "metadata": {},
     "output_type": "execute_result"
    }
   ],
   "source": [
    "d"
   ]
  },
  {
   "cell_type": "code",
   "execution_count": 36,
   "id": "8e56a08e-67db-4747-ad47-b841bb91d6bb",
   "metadata": {},
   "outputs": [],
   "source": [
    "#  now not reflact changes in each other , because copy of a is passed to d , not address . \n",
    "# Deep Copy\n"
   ]
  },
  {
   "cell_type": "code",
   "execution_count": 37,
   "id": "f65a1dfe-e47f-4593-98a2-16c8ef80791f",
   "metadata": {},
   "outputs": [
    {
     "data": {
      "text/plain": [
       "array([[ True, False, False],\n",
       "       [False,  True, False],\n",
       "       [False, False,  True]])"
      ]
     },
     "execution_count": 37,
     "metadata": {},
     "output_type": "execute_result"
    }
   ],
   "source": [
    "# In Numpy there are various function in terms to generate various array , and perfrom operation on arrry\n",
    "np.fromfunction(lambda i, j : i==j , (3,3))\n",
    "# i ,j start with zero . 3*3 Metrix"
   ]
  },
  {
   "cell_type": "code",
   "execution_count": 38,
   "id": "a9f868a8-1a50-4b17-ba36-97027f72b1a4",
   "metadata": {},
   "outputs": [
    {
     "data": {
      "text/plain": [
       "array([[0., 0., 0.],\n",
       "       [0., 1., 2.],\n",
       "       [0., 2., 4.]])"
      ]
     },
     "execution_count": 38,
     "metadata": {},
     "output_type": "execute_result"
    }
   ],
   "source": [
    "np.fromfunction(lambda i,j : i*j , (3,3))"
   ]
  },
  {
   "cell_type": "code",
   "execution_count": 41,
   "id": "fce6fab2-1729-40c9-a4a8-8bdd6083369f",
   "metadata": {},
   "outputs": [],
   "source": [
    "iterable = (i*i for i in range(5))"
   ]
  },
  {
   "cell_type": "code",
   "execution_count": 42,
   "id": "7e61abb5-20b4-4318-b26d-ab2f98bc5bdb",
   "metadata": {},
   "outputs": [
    {
     "data": {
      "text/plain": [
       "array([ 0.,  1.,  4.,  9., 16.])"
      ]
     },
     "execution_count": 42,
     "metadata": {},
     "output_type": "execute_result"
    }
   ],
   "source": [
    "np.fromiter(iterable , float)\n",
    "# Now we can iter over it"
   ]
  },
  {
   "cell_type": "code",
   "execution_count": 43,
   "id": "6ab1d1b1-2e68-4138-b772-caa7c2bfdbc5",
   "metadata": {},
   "outputs": [
    {
     "data": {
      "text/plain": [
       "array([32., 34., 65., 23., 76.])"
      ]
     },
     "execution_count": 43,
     "metadata": {},
     "output_type": "execute_result"
    }
   ],
   "source": [
    "np.fromstring('32 34 65 23 76' , sep = ' ')"
   ]
  },
  {
   "cell_type": "code",
   "execution_count": 44,
   "id": "d82fc1f8-1c3c-46e8-ac52-7e3fc852c85f",
   "metadata": {},
   "outputs": [
    {
     "data": {
      "text/plain": [
       "array([32., 34., 65., 23., 76.])"
      ]
     },
     "execution_count": 44,
     "metadata": {},
     "output_type": "execute_result"
    }
   ],
   "source": [
    "np.fromstring('32,34,65,23, 76' , sep = ',')"
   ]
  },
  {
   "cell_type": "code",
   "execution_count": 45,
   "id": "c0c99d6f-354c-4737-ba75-b978a5f4d26f",
   "metadata": {},
   "outputs": [],
   "source": [
    "# Numpy - Data Types\n",
    "l  = [4,2,4,56,2]\n",
    "arr = np.array(l)"
   ]
  },
  {
   "cell_type": "code",
   "execution_count": 46,
   "id": "19a0d168-6a62-480a-814a-3b4fb3ae8b30",
   "metadata": {},
   "outputs": [
    {
     "data": {
      "text/plain": [
       "array([ 4,  2,  4, 56,  2])"
      ]
     },
     "execution_count": 46,
     "metadata": {},
     "output_type": "execute_result"
    }
   ],
   "source": [
    "arr"
   ]
  },
  {
   "cell_type": "code",
   "execution_count": 47,
   "id": "4c204265-65b4-4811-84c5-c5e5a495db11",
   "metadata": {},
   "outputs": [
    {
     "data": {
      "text/plain": [
       "1"
      ]
     },
     "execution_count": 47,
     "metadata": {},
     "output_type": "execute_result"
    }
   ],
   "source": [
    "arr.ndim\n",
    "# ndim is used for figure out the dimention"
   ]
  },
  {
   "cell_type": "code",
   "execution_count": 48,
   "id": "7d3dc593-e3d6-416a-8a8d-1be1df315d26",
   "metadata": {},
   "outputs": [],
   "source": [
    "arr2 = np.array([[2,3,54,6] , [7,4,2,4]])"
   ]
  },
  {
   "cell_type": "code",
   "execution_count": 49,
   "id": "6cd02ef7-fa96-4d60-9382-f4e3610232e5",
   "metadata": {},
   "outputs": [
    {
     "data": {
      "text/plain": [
       "array([[ 2,  3, 54,  6],\n",
       "       [ 7,  4,  2,  4]])"
      ]
     },
     "execution_count": 49,
     "metadata": {},
     "output_type": "execute_result"
    }
   ],
   "source": [
    "arr2"
   ]
  },
  {
   "cell_type": "code",
   "execution_count": 50,
   "id": "46fd355a-cd45-4f34-87e2-6be1a178c08a",
   "metadata": {},
   "outputs": [
    {
     "data": {
      "text/plain": [
       "2"
      ]
     },
     "execution_count": 50,
     "metadata": {},
     "output_type": "execute_result"
    }
   ],
   "source": [
    "arr2.ndim"
   ]
  },
  {
   "cell_type": "code",
   "execution_count": 51,
   "id": "3b647b17-aa9a-4313-970d-ed20cb72557b",
   "metadata": {},
   "outputs": [
    {
     "data": {
      "text/plain": [
       "5"
      ]
     },
     "execution_count": 51,
     "metadata": {},
     "output_type": "execute_result"
    }
   ],
   "source": [
    "arr.size"
   ]
  },
  {
   "cell_type": "code",
   "execution_count": 52,
   "id": "7454a494-8307-4067-803a-0fa9f887a069",
   "metadata": {},
   "outputs": [
    {
     "data": {
      "text/plain": [
       "8"
      ]
     },
     "execution_count": 52,
     "metadata": {},
     "output_type": "execute_result"
    }
   ],
   "source": [
    "arr2.size"
   ]
  },
  {
   "cell_type": "code",
   "execution_count": 53,
   "id": "7ebd2a02-c321-4ffb-a26b-eaa4ec0ae46c",
   "metadata": {},
   "outputs": [
    {
     "data": {
      "text/plain": [
       "(5,)"
      ]
     },
     "execution_count": 53,
     "metadata": {},
     "output_type": "execute_result"
    }
   ],
   "source": [
    "arr.shape"
   ]
  },
  {
   "cell_type": "code",
   "execution_count": 54,
   "id": "da8e3632-650b-4cee-8d7a-8a2bffae34d6",
   "metadata": {},
   "outputs": [
    {
     "data": {
      "text/plain": [
       "(2, 4)"
      ]
     },
     "execution_count": 54,
     "metadata": {},
     "output_type": "execute_result"
    }
   ],
   "source": [
    "arr2.shape"
   ]
  },
  {
   "cell_type": "code",
   "execution_count": 55,
   "id": "58d28d43-e577-4c69-af27-ebd3b0dd955d",
   "metadata": {},
   "outputs": [
    {
     "data": {
      "text/plain": [
       "dtype('int64')"
      ]
     },
     "execution_count": 55,
     "metadata": {},
     "output_type": "execute_result"
    }
   ],
   "source": [
    "arr.dtype"
   ]
  },
  {
   "cell_type": "code",
   "execution_count": 56,
   "id": "84d83950-a35c-4ba5-ae6c-874c1739a8f0",
   "metadata": {},
   "outputs": [
    {
     "data": {
      "text/plain": [
       "dtype('int64')"
      ]
     },
     "execution_count": 56,
     "metadata": {},
     "output_type": "execute_result"
    }
   ],
   "source": [
    "arr2.dtype"
   ]
  },
  {
   "cell_type": "code",
   "execution_count": 60,
   "id": "465a3256-0a44-4833-bcc1-64e4a4d3bbb5",
   "metadata": {},
   "outputs": [],
   "source": [
    "arr2 = np.array([(2.6,3,4) , (6,4,2)])"
   ]
  },
  {
   "cell_type": "code",
   "execution_count": 61,
   "id": "623deb4f-0c0e-443e-851e-c0f0faed315e",
   "metadata": {},
   "outputs": [
    {
     "data": {
      "text/plain": [
       "array([[2.6, 3. , 4. ],\n",
       "       [6. , 4. , 2. ]])"
      ]
     },
     "execution_count": 61,
     "metadata": {},
     "output_type": "execute_result"
    }
   ],
   "source": [
    "arr2"
   ]
  },
  {
   "cell_type": "code",
   "execution_count": 62,
   "id": "99975559-2ee8-43e8-b5c1-8620dd63fb60",
   "metadata": {},
   "outputs": [
    {
     "data": {
      "text/plain": [
       "dtype('float64')"
      ]
     },
     "execution_count": 62,
     "metadata": {},
     "output_type": "execute_result"
    }
   ],
   "source": [
    "arr2.dtype"
   ]
  },
  {
   "cell_type": "code",
   "execution_count": 63,
   "id": "11eef7b7-3052-4f63-a2fe-435cc40ae280",
   "metadata": {},
   "outputs": [
    {
     "data": {
      "text/plain": [
       "range(0, 5)"
      ]
     },
     "execution_count": 63,
     "metadata": {},
     "output_type": "execute_result"
    }
   ],
   "source": [
    "range(5)"
   ]
  },
  {
   "cell_type": "code",
   "execution_count": 64,
   "id": "4e103b61-499b-447e-9348-5ed74717c184",
   "metadata": {},
   "outputs": [
    {
     "data": {
      "text/plain": [
       "[0, 1, 2, 3, 4]"
      ]
     },
     "execution_count": 64,
     "metadata": {},
     "output_type": "execute_result"
    }
   ],
   "source": [
    "list(range(5))"
   ]
  },
  {
   "cell_type": "code",
   "execution_count": 66,
   "id": "0f0cb344-8ff8-4516-b897-69f93b068778",
   "metadata": {},
   "outputs": [
    {
     "ename": "TypeError",
     "evalue": "'float' object cannot be interpreted as an integer",
     "output_type": "error",
     "traceback": [
      "\u001b[0;31m---------------------------------------------------------------------------\u001b[0m",
      "\u001b[0;31mTypeError\u001b[0m                                 Traceback (most recent call last)",
      "Cell \u001b[0;32mIn[66], line 1\u001b[0m\n\u001b[0;32m----> 1\u001b[0m \u001b[38;5;28mlist\u001b[39m(\u001b[38;5;28;43mrange\u001b[39;49m\u001b[43m(\u001b[49m\u001b[38;5;241;43m0.1\u001b[39;49m\u001b[43m,\u001b[49m\u001b[38;5;241;43m5\u001b[39;49m\u001b[43m)\u001b[49m)\n\u001b[1;32m      2\u001b[0m \u001b[38;5;66;03m# range can't work with floating point \u001b[39;00m\n",
      "\u001b[0;31mTypeError\u001b[0m: 'float' object cannot be interpreted as an integer"
     ]
    }
   ],
   "source": [
    "list(range(0.1,5))\n",
    "# range can't work with floating point "
   ]
  },
  {
   "cell_type": "code",
   "execution_count": 68,
   "id": "73cda9b5-8632-42ec-a2bc-1b67931505d1",
   "metadata": {},
   "outputs": [
    {
     "data": {
      "text/plain": [
       "array([2.3, 3.3, 4.3, 5.3, 6.3])"
      ]
     },
     "execution_count": 68,
     "metadata": {},
     "output_type": "execute_result"
    }
   ],
   "source": [
    "np.arange(2.3 , 6.7)\n",
    "# Dy Default jump is equal to 1"
   ]
  },
  {
   "cell_type": "code",
   "execution_count": 69,
   "id": "26ad5383-9372-4763-8bc4-b50b4c05815f",
   "metadata": {},
   "outputs": [
    {
     "data": {
      "text/plain": [
       "array([2.3, 2.6, 2.9, 3.2, 3.5, 3.8, 4.1, 4.4, 4.7, 5. , 5.3, 5.6, 5.9,\n",
       "       6.2, 6.5, 6.8, 7.1, 7.4, 7.7, 8. , 8.3])"
      ]
     },
     "execution_count": 69,
     "metadata": {},
     "output_type": "execute_result"
    }
   ],
   "source": [
    "np.arange(2.3,8.5,0.3)"
   ]
  },
  {
   "cell_type": "code",
   "execution_count": 70,
   "id": "9b450fa5-0857-47a5-b439-fd2bc24ac845",
   "metadata": {},
   "outputs": [
    {
     "data": {
      "text/plain": [
       "[2.3,\n",
       " 2.5999999999999996,\n",
       " 2.8999999999999995,\n",
       " 3.1999999999999993,\n",
       " 3.499999999999999,\n",
       " 3.799999999999999,\n",
       " 4.099999999999999,\n",
       " 4.399999999999999,\n",
       " 4.699999999999998,\n",
       " 4.999999999999998,\n",
       " 5.299999999999998,\n",
       " 5.599999999999998,\n",
       " 5.899999999999998,\n",
       " 6.1999999999999975,\n",
       " 6.499999999999997,\n",
       " 6.799999999999997,\n",
       " 7.099999999999997,\n",
       " 7.399999999999997,\n",
       " 7.699999999999997,\n",
       " 7.9999999999999964,\n",
       " 8.299999999999997]"
      ]
     },
     "execution_count": 70,
     "metadata": {},
     "output_type": "execute_result"
    }
   ],
   "source": [
    "list(np.arange(2.3,8.5,0.3))"
   ]
  },
  {
   "cell_type": "code",
   "execution_count": 73,
   "id": "23642915-ac6b-47ca-ac60-08dfa00fa4a4",
   "metadata": {},
   "outputs": [
    {
     "data": {
      "text/plain": [
       "array([1.        , 1.44444444, 1.88888889, 2.33333333, 2.77777778,\n",
       "       3.22222222, 3.66666667, 4.11111111, 4.55555556, 5.        ])"
      ]
     },
     "execution_count": 73,
     "metadata": {},
     "output_type": "execute_result"
    }
   ],
   "source": [
    "np.linspace(1,5,10)\n",
    "# divide data 1 to 5 in 10 equal parts"
   ]
  },
  {
   "cell_type": "code",
   "execution_count": 74,
   "id": "edf3b85f-91ff-48d5-9d2c-da6cc5b02860",
   "metadata": {},
   "outputs": [
    {
     "data": {
      "text/plain": [
       "array([0., 0., 0., 0., 0.])"
      ]
     },
     "execution_count": 74,
     "metadata": {},
     "output_type": "execute_result"
    }
   ],
   "source": [
    "np.zeros(5)"
   ]
  },
  {
   "cell_type": "code",
   "execution_count": 76,
   "id": "f5a5aa4e-1217-4573-aa9d-1dceddab0713",
   "metadata": {},
   "outputs": [
    {
     "data": {
      "text/plain": [
       "array([[0., 0., 0., 0.],\n",
       "       [0., 0., 0., 0.],\n",
       "       [0., 0., 0., 0.]])"
      ]
     },
     "execution_count": 76,
     "metadata": {},
     "output_type": "execute_result"
    }
   ],
   "source": [
    "np.zeros((3,4))\n",
    "# 2 dimention"
   ]
  },
  {
   "cell_type": "code",
   "execution_count": 80,
   "id": "26ba0ced-c05d-4c8d-bb68-bdb30a6169fd",
   "metadata": {},
   "outputs": [
    {
     "data": {
      "text/plain": [
       "array([[[0., 0.],\n",
       "        [0., 0.],\n",
       "        [0., 0.],\n",
       "        [0., 0.]],\n",
       "\n",
       "       [[0., 0.],\n",
       "        [0., 0.],\n",
       "        [0., 0.],\n",
       "        [0., 0.]],\n",
       "\n",
       "       [[0., 0.],\n",
       "        [0., 0.],\n",
       "        [0., 0.],\n",
       "        [0., 0.]]])"
      ]
     },
     "execution_count": 80,
     "metadata": {},
     "output_type": "execute_result"
    }
   ],
   "source": [
    "np.zeros((3,4,2))\n",
    "# 3 dimension array\n",
    "# we have 4*2 three such kind of materics\n",
    "# search google for more referance"
   ]
  },
  {
   "cell_type": "code",
   "execution_count": 83,
   "id": "046e6c6d-47b0-4f74-9280-c3dd1c4e396a",
   "metadata": {},
   "outputs": [
    {
     "data": {
      "text/plain": [
       "array([[[[0., 0., 0.],\n",
       "         [0., 0., 0.]],\n",
       "\n",
       "        [[0., 0., 0.],\n",
       "         [0., 0., 0.]],\n",
       "\n",
       "        [[0., 0., 0.],\n",
       "         [0., 0., 0.]],\n",
       "\n",
       "        [[0., 0., 0.],\n",
       "         [0., 0., 0.]]],\n",
       "\n",
       "\n",
       "       [[[0., 0., 0.],\n",
       "         [0., 0., 0.]],\n",
       "\n",
       "        [[0., 0., 0.],\n",
       "         [0., 0., 0.]],\n",
       "\n",
       "        [[0., 0., 0.],\n",
       "         [0., 0., 0.]],\n",
       "\n",
       "        [[0., 0., 0.],\n",
       "         [0., 0., 0.]]],\n",
       "\n",
       "\n",
       "       [[[0., 0., 0.],\n",
       "         [0., 0., 0.]],\n",
       "\n",
       "        [[0., 0., 0.],\n",
       "         [0., 0., 0.]],\n",
       "\n",
       "        [[0., 0., 0.],\n",
       "         [0., 0., 0.]],\n",
       "\n",
       "        [[0., 0., 0.],\n",
       "         [0., 0., 0.]]]])"
      ]
     },
     "execution_count": 83,
     "metadata": {},
     "output_type": "execute_result"
    }
   ],
   "source": [
    "np.zeros((3,4,2,3))\n",
    "# 44 dimension rrrya\n",
    "# it is useful in computer vision and 3d vision \n",
    "# images are stored in multi dimension array"
   ]
  },
  {
   "cell_type": "code",
   "execution_count": 84,
   "id": "535d19ba-bf95-40dc-ac94-77c47d649bc5",
   "metadata": {},
   "outputs": [
    {
     "data": {
      "text/plain": [
       "array([1., 1., 1., 1.])"
      ]
     },
     "execution_count": 84,
     "metadata": {},
     "output_type": "execute_result"
    }
   ],
   "source": [
    "np.ones(4)"
   ]
  },
  {
   "cell_type": "code",
   "execution_count": 85,
   "id": "c4b59e93-8d72-4cd7-ad97-9f833820fe01",
   "metadata": {},
   "outputs": [
    {
     "data": {
      "text/plain": [
       "array([[1., 1., 1.],\n",
       "       [1., 1., 1.]])"
      ]
     },
     "execution_count": 85,
     "metadata": {},
     "output_type": "execute_result"
    }
   ],
   "source": [
    "np.ones((2,3))"
   ]
  },
  {
   "cell_type": "code",
   "execution_count": 89,
   "id": "f27f6891-0d53-4e9c-9249-0b88e2469f24",
   "metadata": {},
   "outputs": [
    {
     "data": {
      "text/plain": [
       "array([[[[1., 1., 1., 1., 1., 1., 1.],\n",
       "         [1., 1., 1., 1., 1., 1., 1.],\n",
       "         [1., 1., 1., 1., 1., 1., 1.],\n",
       "         [1., 1., 1., 1., 1., 1., 1.]],\n",
       "\n",
       "        [[1., 1., 1., 1., 1., 1., 1.],\n",
       "         [1., 1., 1., 1., 1., 1., 1.],\n",
       "         [1., 1., 1., 1., 1., 1., 1.],\n",
       "         [1., 1., 1., 1., 1., 1., 1.]],\n",
       "\n",
       "        [[1., 1., 1., 1., 1., 1., 1.],\n",
       "         [1., 1., 1., 1., 1., 1., 1.],\n",
       "         [1., 1., 1., 1., 1., 1., 1.],\n",
       "         [1., 1., 1., 1., 1., 1., 1.]]],\n",
       "\n",
       "\n",
       "       [[[1., 1., 1., 1., 1., 1., 1.],\n",
       "         [1., 1., 1., 1., 1., 1., 1.],\n",
       "         [1., 1., 1., 1., 1., 1., 1.],\n",
       "         [1., 1., 1., 1., 1., 1., 1.]],\n",
       "\n",
       "        [[1., 1., 1., 1., 1., 1., 1.],\n",
       "         [1., 1., 1., 1., 1., 1., 1.],\n",
       "         [1., 1., 1., 1., 1., 1., 1.],\n",
       "         [1., 1., 1., 1., 1., 1., 1.]],\n",
       "\n",
       "        [[1., 1., 1., 1., 1., 1., 1.],\n",
       "         [1., 1., 1., 1., 1., 1., 1.],\n",
       "         [1., 1., 1., 1., 1., 1., 1.],\n",
       "         [1., 1., 1., 1., 1., 1., 1.]]]])"
      ]
     },
     "execution_count": 89,
     "metadata": {},
     "output_type": "execute_result"
    }
   ],
   "source": [
    "np.ones((2,3,4,7))"
   ]
  },
  {
   "cell_type": "code",
   "execution_count": 93,
   "id": "7e044a8a-140b-471a-ad9c-b66be4b6ebaf",
   "metadata": {},
   "outputs": [
    {
     "data": {
      "text/plain": [
       "array([[[1., 1., 1., 1.],\n",
       "        [1., 1., 1., 1.],\n",
       "        [1., 1., 1., 1.]],\n",
       "\n",
       "       [[1., 1., 1., 1.],\n",
       "        [1., 1., 1., 1.],\n",
       "        [1., 1., 1., 1.]]])"
      ]
     },
     "execution_count": 93,
     "metadata": {},
     "output_type": "execute_result"
    }
   ],
   "source": [
    "one = np.ones((2,3,4))\n",
    "one"
   ]
  },
  {
   "cell_type": "code",
   "execution_count": 94,
   "id": "fe171d40-a205-41c4-b670-fc77e065988d",
   "metadata": {},
   "outputs": [
    {
     "data": {
      "text/plain": [
       "array([[[6., 6., 6., 6.],\n",
       "        [6., 6., 6., 6.],\n",
       "        [6., 6., 6., 6.]],\n",
       "\n",
       "       [[6., 6., 6., 6.],\n",
       "        [6., 6., 6., 6.],\n",
       "        [6., 6., 6., 6.]]])"
      ]
     },
     "execution_count": 94,
     "metadata": {},
     "output_type": "execute_result"
    }
   ],
   "source": [
    "one+5"
   ]
  },
  {
   "cell_type": "code",
   "execution_count": 95,
   "id": "7572fceb-3646-498c-aacb-541ec5ae3de3",
   "metadata": {},
   "outputs": [
    {
     "data": {
      "text/plain": [
       "array([[[5., 5., 5., 5.],\n",
       "        [5., 5., 5., 5.],\n",
       "        [5., 5., 5., 5.]],\n",
       "\n",
       "       [[5., 5., 5., 5.],\n",
       "        [5., 5., 5., 5.],\n",
       "        [5., 5., 5., 5.]]])"
      ]
     },
     "execution_count": 95,
     "metadata": {},
     "output_type": "execute_result"
    }
   ],
   "source": [
    "one*5"
   ]
  },
  {
   "cell_type": "code",
   "execution_count": 98,
   "id": "7450a62e-b6ac-4ba8-9205-f492109444d3",
   "metadata": {},
   "outputs": [
    {
     "data": {
      "text/plain": [
       "array([[0., 0., 0., 1., 1., 1.],\n",
       "       [2., 2., 2., 0., 1., 2.],\n",
       "       [0., 1., 2., 0., 1., 2.]])"
      ]
     },
     "execution_count": 98,
     "metadata": {},
     "output_type": "execute_result"
    }
   ],
   "source": [
    "np.empty((3,6))\n",
    "# it will  produce empty metrics"
   ]
  },
  {
   "cell_type": "code",
   "execution_count": 100,
   "id": "1392e350-7813-4304-928e-184d5f1aa1c2",
   "metadata": {},
   "outputs": [
    {
     "data": {
      "text/plain": [
       "array([[1., 0., 0., 0.],\n",
       "       [0., 1., 0., 0.],\n",
       "       [0., 0., 1., 0.],\n",
       "       [0., 0., 0., 1.]])"
      ]
     },
     "execution_count": 100,
     "metadata": {},
     "output_type": "execute_result"
    }
   ],
   "source": [
    "np.eye(4)\n",
    "# create identity metrics"
   ]
  },
  {
   "cell_type": "code",
   "execution_count": 101,
   "id": "be0f6676-9424-4ebd-ba14-ccd46affe1f4",
   "metadata": {},
   "outputs": [
    {
     "data": {
      "text/plain": [
       "array([2.        , 2.10526316, 2.21052632, 2.31578947, 2.42105263,\n",
       "       2.52631579, 2.63157895, 2.73684211, 2.84210526, 2.94736842,\n",
       "       3.05263158, 3.15789474, 3.26315789, 3.36842105, 3.47368421,\n",
       "       3.57894737, 3.68421053, 3.78947368, 3.89473684, 4.        ])"
      ]
     },
     "execution_count": 101,
     "metadata": {},
     "output_type": "execute_result"
    }
   ],
   "source": [
    "np.linspace(2,4,20)"
   ]
  },
  {
   "cell_type": "code",
   "execution_count": 103,
   "id": "70f54918-fd8e-4475-bd05-e3e32664d17e",
   "metadata": {},
   "outputs": [
    {
     "data": {
      "text/plain": [
       "array([ 4.        ,  4.66611616,  5.44316   ,  6.34960421,  7.4069977 ,\n",
       "        8.64047791, 10.0793684 , 11.75787594, 13.71590373, 16.        ])"
      ]
     },
     "execution_count": 103,
     "metadata": {},
     "output_type": "execute_result"
    }
   ],
   "source": [
    "np.logspace(2,4,10 ,  base = 2)\n",
    "# by default base in 10"
   ]
  },
  {
   "cell_type": "code",
   "execution_count": 108,
   "id": "428abb4b-e719-49f7-b2e8-8d388dfc959b",
   "metadata": {},
   "outputs": [
    {
     "data": {
      "text/plain": [
       "array([[ 0.93811024, -0.99978917, -0.02662667, -0.79405834],\n",
       "       [-1.93201822, -0.09639361, -3.25304649, -0.85950909],\n",
       "       [ 0.78161003,  0.20580533,  0.09231403, -1.33632934]])"
      ]
     },
     "execution_count": 108,
     "metadata": {},
     "output_type": "execute_result"
    }
   ],
   "source": [
    "arr = np.random.randn(3,4)\n",
    "# it will generated such kind of data  where mean(average) is equal to 0 and std is equal to 1\n",
    "arr"
   ]
  },
  {
   "cell_type": "code",
   "execution_count": 106,
   "id": "e2027268-435c-4c2d-a666-af6af4c981bb",
   "metadata": {},
   "outputs": [],
   "source": [
    "import pandas as pd"
   ]
  },
  {
   "cell_type": "code",
   "execution_count": 109,
   "id": "aa6769c6-8823-41d6-9476-782d58a3f94c",
   "metadata": {},
   "outputs": [
    {
     "data": {
      "text/html": [
       "<div>\n",
       "<style scoped>\n",
       "    .dataframe tbody tr th:only-of-type {\n",
       "        vertical-align: middle;\n",
       "    }\n",
       "\n",
       "    .dataframe tbody tr th {\n",
       "        vertical-align: top;\n",
       "    }\n",
       "\n",
       "    .dataframe thead th {\n",
       "        text-align: right;\n",
       "    }\n",
       "</style>\n",
       "<table border=\"1\" class=\"dataframe\">\n",
       "  <thead>\n",
       "    <tr style=\"text-align: right;\">\n",
       "      <th></th>\n",
       "      <th>0</th>\n",
       "      <th>1</th>\n",
       "      <th>2</th>\n",
       "      <th>3</th>\n",
       "    </tr>\n",
       "  </thead>\n",
       "  <tbody>\n",
       "    <tr>\n",
       "      <th>0</th>\n",
       "      <td>0.938110</td>\n",
       "      <td>-0.999789</td>\n",
       "      <td>-0.026627</td>\n",
       "      <td>-0.794058</td>\n",
       "    </tr>\n",
       "    <tr>\n",
       "      <th>1</th>\n",
       "      <td>-1.932018</td>\n",
       "      <td>-0.096394</td>\n",
       "      <td>-3.253046</td>\n",
       "      <td>-0.859509</td>\n",
       "    </tr>\n",
       "    <tr>\n",
       "      <th>2</th>\n",
       "      <td>0.781610</td>\n",
       "      <td>0.205805</td>\n",
       "      <td>0.092314</td>\n",
       "      <td>-1.336329</td>\n",
       "    </tr>\n",
       "  </tbody>\n",
       "</table>\n",
       "</div>"
      ],
      "text/plain": [
       "          0         1         2         3\n",
       "0  0.938110 -0.999789 -0.026627 -0.794058\n",
       "1 -1.932018 -0.096394 -3.253046 -0.859509\n",
       "2  0.781610  0.205805  0.092314 -1.336329"
      ]
     },
     "execution_count": 109,
     "metadata": {},
     "output_type": "execute_result"
    }
   ],
   "source": [
    "pd.DataFrame(arr)"
   ]
  },
  {
   "cell_type": "code",
   "execution_count": 110,
   "id": "457df8ad-3e18-4952-b4c0-0d547a25082d",
   "metadata": {},
   "outputs": [
    {
     "data": {
      "text/plain": [
       "array([[0.11418132, 0.16656017, 0.47696813, 0.47042339],\n",
       "       [0.56553959, 0.83099661, 0.71981086, 0.2461764 ],\n",
       "       [0.48919306, 0.93306002, 0.02682092, 0.02743802]])"
      ]
     },
     "execution_count": 110,
     "metadata": {},
     "output_type": "execute_result"
    }
   ],
   "source": [
    "np.random.rand(3,4)"
   ]
  },
  {
   "cell_type": "code",
   "execution_count": 112,
   "id": "1326029c-e425-4f16-aab5-d5c257e4dc91",
   "metadata": {},
   "outputs": [
    {
     "data": {
      "text/plain": [
       "array([[84, 35, 97, 54],\n",
       "       [96, 45, 12, 42],\n",
       "       [61, 90, 34, 33]])"
      ]
     },
     "execution_count": 112,
     "metadata": {},
     "output_type": "execute_result"
    }
   ],
   "source": [
    "np.random.randint(1,100,(3,4))\n",
    "# Produce only integer data"
   ]
  },
  {
   "cell_type": "code",
   "execution_count": 114,
   "id": "83c6de8d-e3c5-4834-8516-1b456a883c89",
   "metadata": {},
   "outputs": [],
   "source": [
    "pd.DataFrame(np.random.randint(1,100,(300,900))).to_csv('rv_test.csv')"
   ]
  },
  {
   "cell_type": "code",
   "execution_count": 117,
   "id": "d93687f9-4d0d-4952-a32e-a50e1b9cdede",
   "metadata": {},
   "outputs": [
    {
     "data": {
      "text/plain": [
       "array([[0.1969869 , 0.70385172, 0.64488452, 0.24900081],\n",
       "       [0.10640746, 0.8718828 , 0.44252272, 0.05441892],\n",
       "       [0.38138217, 0.10489355, 0.2082706 , 0.03719498]])"
      ]
     },
     "execution_count": 117,
     "metadata": {},
     "output_type": "execute_result"
    }
   ],
   "source": [
    "arr = np.random.rand(3,4)\n",
    "arr"
   ]
  },
  {
   "cell_type": "code",
   "execution_count": 119,
   "id": "58b9e51a-1079-49f8-a671-70be9204f5ab",
   "metadata": {},
   "outputs": [
    {
     "data": {
      "text/plain": [
       "array([[0.1969869 , 0.70385172],\n",
       "       [0.64488452, 0.24900081],\n",
       "       [0.10640746, 0.8718828 ],\n",
       "       [0.44252272, 0.05441892],\n",
       "       [0.38138217, 0.10489355],\n",
       "       [0.2082706 , 0.03719498]])"
      ]
     },
     "execution_count": 119,
     "metadata": {},
     "output_type": "execute_result"
    }
   ],
   "source": [
    "arr.reshape(6,2) \n",
    "# Data must be multiple of total data"
   ]
  },
  {
   "cell_type": "code",
   "execution_count": 120,
   "id": "a34f36a7-9a3e-4178-bfb8-f6b019a45bae",
   "metadata": {},
   "outputs": [
    {
     "data": {
      "text/plain": [
       "array([[0.1969869 , 0.70385172],\n",
       "       [0.64488452, 0.24900081],\n",
       "       [0.10640746, 0.8718828 ],\n",
       "       [0.44252272, 0.05441892],\n",
       "       [0.38138217, 0.10489355],\n",
       "       [0.2082706 , 0.03719498]])"
      ]
     },
     "execution_count": 120,
     "metadata": {},
     "output_type": "execute_result"
    }
   ],
   "source": [
    "arr.reshape(6,-1)\n",
    "# we can give minus index to the array , it will understand automatically base on 1st coordinate"
   ]
  },
  {
   "cell_type": "code",
   "execution_count": 124,
   "id": "c88968a8-74c4-41b0-8484-5e83c21993d0",
   "metadata": {},
   "outputs": [],
   "source": [
    "arr1=  arr.reshape(6,-5)"
   ]
  },
  {
   "cell_type": "code",
   "execution_count": 125,
   "id": "085ec07d-360f-4996-afba-7e1be991ce97",
   "metadata": {},
   "outputs": [
    {
     "data": {
      "text/plain": [
       "array([0.64488452, 0.24900081])"
      ]
     },
     "execution_count": 125,
     "metadata": {},
     "output_type": "execute_result"
    }
   ],
   "source": [
    "arr1[1]"
   ]
  },
  {
   "cell_type": "code",
   "execution_count": 126,
   "id": "cde6f9a7-a6e1-4e99-8ee4-1c3bae33c497",
   "metadata": {},
   "outputs": [
    {
     "data": {
      "text/plain": [
       "0.24900080955232962"
      ]
     },
     "execution_count": 126,
     "metadata": {},
     "output_type": "execute_result"
    }
   ],
   "source": [
    "arr1[1][1]"
   ]
  },
  {
   "cell_type": "code",
   "execution_count": 131,
   "id": "86fd9508-0a15-47a8-935e-0b25fe7dd34d",
   "metadata": {},
   "outputs": [
    {
     "data": {
      "text/plain": [
       "array([[0.10640746, 0.8718828 ],\n",
       "       [0.44252272, 0.05441892],\n",
       "       [0.38138217, 0.10489355]])"
      ]
     },
     "execution_count": 131,
     "metadata": {},
     "output_type": "execute_result"
    }
   ],
   "source": [
    "arr1[2:5]"
   ]
  },
  {
   "cell_type": "code",
   "execution_count": 132,
   "id": "0d9f5bc5-7bf7-47e8-bdff-925634ca760b",
   "metadata": {},
   "outputs": [
    {
     "data": {
      "text/plain": [
       "0.05441891569500379"
      ]
     },
     "execution_count": 132,
     "metadata": {},
     "output_type": "execute_result"
    }
   ],
   "source": [
    "arr1[2:5][1][1]"
   ]
  },
  {
   "cell_type": "code",
   "execution_count": 137,
   "id": "cc583de3-abca-40ff-9aef-fce712af2c08",
   "metadata": {},
   "outputs": [],
   "source": [
    "arr = np.random.randint(1,100,(5,5))"
   ]
  },
  {
   "cell_type": "code",
   "execution_count": 138,
   "id": "01118c89-4cb7-40eb-a5fb-ed89cd3dbf8d",
   "metadata": {},
   "outputs": [
    {
     "data": {
      "text/plain": [
       "array([[ True, False,  True,  True,  True],\n",
       "       [ True,  True, False, False, False],\n",
       "       [False,  True, False,  True,  True],\n",
       "       [False,  True,  True,  True,  True],\n",
       "       [ True, False,  True, False,  True]])"
      ]
     },
     "execution_count": 138,
     "metadata": {},
     "output_type": "execute_result"
    }
   ],
   "source": [
    "# Featch data only greated then 50\n",
    "arr>50"
   ]
  },
  {
   "cell_type": "code",
   "execution_count": 139,
   "id": "ded643a5-f034-4f09-bc59-2bda055979ec",
   "metadata": {},
   "outputs": [
    {
     "data": {
      "text/plain": [
       "array([81, 84, 72, 84, 67, 75, 77, 92, 54, 54, 69, 80, 94, 64, 86, 69])"
      ]
     },
     "execution_count": 139,
     "metadata": {},
     "output_type": "execute_result"
    }
   ],
   "source": [
    "arr[arr>50]"
   ]
  },
  {
   "cell_type": "code",
   "execution_count": 140,
   "id": "199f59da-b68b-42a0-8cd0-6dd7546db133",
   "metadata": {},
   "outputs": [
    {
     "data": {
      "text/plain": [
       "array([[81, 39, 84, 72, 84],\n",
       "       [67, 75, 44, 15, 23],\n",
       "       [11, 77, 22, 92, 54],\n",
       "       [15, 54, 69, 80, 94],\n",
       "       [64, 43, 86, 40, 69]])"
      ]
     },
     "execution_count": 140,
     "metadata": {},
     "output_type": "execute_result"
    }
   ],
   "source": [
    "arr"
   ]
  },
  {
   "cell_type": "code",
   "execution_count": 143,
   "id": "73c2cb8b-064b-418f-b4f1-8757239e13f9",
   "metadata": {},
   "outputs": [
    {
     "data": {
      "text/plain": [
       "array([[75, 44],\n",
       "       [77, 22]])"
      ]
     },
     "execution_count": 143,
     "metadata": {},
     "output_type": "execute_result"
    }
   ],
   "source": [
    "arr[1:3 , 1:3]"
   ]
  },
  {
   "cell_type": "code",
   "execution_count": 144,
   "id": "441aaeee-a315-4607-a46f-25e014e0de17",
   "metadata": {},
   "outputs": [
    {
     "data": {
      "text/plain": [
       "81"
      ]
     },
     "execution_count": 144,
     "metadata": {},
     "output_type": "execute_result"
    }
   ],
   "source": [
    "arr[0,0]"
   ]
  },
  {
   "cell_type": "code",
   "execution_count": 149,
   "id": "619b7b10-ff12-4dc4-9ada-5df1631da057",
   "metadata": {},
   "outputs": [],
   "source": [
    "arr[0,0]=  423\n",
    "# arr[0][0] = 432  \n",
    "# both are similer"
   ]
  },
  {
   "cell_type": "code",
   "execution_count": 150,
   "id": "0ea1e404-9cd5-455e-bd3e-cb939eea1ca3",
   "metadata": {},
   "outputs": [
    {
     "data": {
      "text/plain": [
       "array([[423,  39,  84,  72,  84],\n",
       "       [ 67,  75,  44,  15,  23],\n",
       "       [ 11,  77,  22,  92,  54],\n",
       "       [ 15,  54,  69,  80,  94],\n",
       "       [ 64,  43,  86,  40,  69]])"
      ]
     },
     "execution_count": 150,
     "metadata": {},
     "output_type": "execute_result"
    }
   ],
   "source": [
    "arr"
   ]
  },
  {
   "cell_type": "code",
   "execution_count": 151,
   "id": "0732c055-d556-42ef-9aae-6c547ad27839",
   "metadata": {},
   "outputs": [],
   "source": [
    "arr1 = np.random.randint(1,5,(3,3))\n",
    "arr2 = np.random.randint(1,3,(3,3))"
   ]
  },
  {
   "cell_type": "code",
   "execution_count": 152,
   "id": "73abc807-f075-47a6-b827-8087a3a3c536",
   "metadata": {},
   "outputs": [
    {
     "data": {
      "text/plain": [
       "array([[3, 1, 4],\n",
       "       [2, 2, 3],\n",
       "       [3, 2, 3]])"
      ]
     },
     "execution_count": 152,
     "metadata": {},
     "output_type": "execute_result"
    }
   ],
   "source": [
    "arr1"
   ]
  },
  {
   "cell_type": "code",
   "execution_count": 153,
   "id": "7a2bf8df-67f2-4ba8-8ae8-da2440aa376f",
   "metadata": {},
   "outputs": [
    {
     "data": {
      "text/plain": [
       "array([[2, 1, 1],\n",
       "       [1, 2, 2],\n",
       "       [1, 1, 2]])"
      ]
     },
     "execution_count": 153,
     "metadata": {},
     "output_type": "execute_result"
    }
   ],
   "source": [
    "arr2"
   ]
  },
  {
   "cell_type": "code",
   "execution_count": 154,
   "id": "6bc9ca28-c7ce-473c-8543-82b3911b77f1",
   "metadata": {},
   "outputs": [
    {
     "data": {
      "text/plain": [
       "array([[5, 2, 5],\n",
       "       [3, 4, 5],\n",
       "       [4, 3, 5]])"
      ]
     },
     "execution_count": 154,
     "metadata": {},
     "output_type": "execute_result"
    }
   ],
   "source": [
    "arr1+arr2"
   ]
  },
  {
   "cell_type": "code",
   "execution_count": 157,
   "id": "7ad49d19-9319-468c-86ff-f0db96013392",
   "metadata": {},
   "outputs": [
    {
     "data": {
      "text/plain": [
       "array([[6, 1, 4],\n",
       "       [2, 4, 6],\n",
       "       [3, 2, 6]])"
      ]
     },
     "execution_count": 157,
     "metadata": {},
     "output_type": "execute_result"
    }
   ],
   "source": [
    "arr1*arr2\n",
    "# it is not matrix multiplation , it multiply index by index"
   ]
  },
  {
   "cell_type": "code",
   "execution_count": 159,
   "id": "aa48ff39-dfda-4f85-96fa-9f7cd9ce0f88",
   "metadata": {},
   "outputs": [
    {
     "data": {
      "text/plain": [
       "array([[11,  9, 13],\n",
       "       [ 9,  9, 12],\n",
       "       [11, 10, 13]])"
      ]
     },
     "execution_count": 159,
     "metadata": {},
     "output_type": "execute_result"
    }
   ],
   "source": [
    "arr1@arr2\n",
    "# now it will matrix multiplation"
   ]
  },
  {
   "cell_type": "code",
   "execution_count": 156,
   "id": "a6627ecc-63dd-45c7-bccc-2ec72ec8d7f8",
   "metadata": {},
   "outputs": [
    {
     "data": {
      "text/plain": [
       "array([[1.5, 1. , 4. ],\n",
       "       [2. , 1. , 1.5],\n",
       "       [3. , 2. , 1.5]])"
      ]
     },
     "execution_count": 156,
     "metadata": {},
     "output_type": "execute_result"
    }
   ],
   "source": [
    "arr1/arr2"
   ]
  },
  {
   "cell_type": "code",
   "execution_count": 158,
   "id": "da843095-1ff1-4130-be4e-173bf2788d46",
   "metadata": {},
   "outputs": [
    {
     "data": {
      "text/plain": [
       "array([[11,  9, 13],\n",
       "       [ 9,  9, 12],\n",
       "       [11, 10, 13]])"
      ]
     },
     "execution_count": 158,
     "metadata": {},
     "output_type": "execute_result"
    }
   ],
   "source": [
    "arr1@arr2"
   ]
  },
  {
   "cell_type": "code",
   "execution_count": 160,
   "id": "f0a088c9-35f9-4b41-b4af-5898fec4ab91",
   "metadata": {},
   "outputs": [
    {
     "name": "stderr",
     "output_type": "stream",
     "text": [
      "/tmp/ipykernel_88/1510032488.py:1: RuntimeWarning: divide by zero encountered in divide\n",
      "  arr1/0\n"
     ]
    },
    {
     "data": {
      "text/plain": [
       "array([[inf, inf, inf],\n",
       "       [inf, inf, inf],\n",
       "       [inf, inf, inf]])"
      ]
     },
     "execution_count": 160,
     "metadata": {},
     "output_type": "execute_result"
    }
   ],
   "source": [
    "arr1/0"
   ]
  },
  {
   "cell_type": "code",
   "execution_count": 161,
   "id": "78e90953-c1c0-4ad3-b92b-a5adac68fcce",
   "metadata": {},
   "outputs": [
    {
     "data": {
      "text/plain": [
       "array([[1003, 1001, 1004],\n",
       "       [1002, 1002, 1003],\n",
       "       [1003, 1002, 1003]])"
      ]
     },
     "execution_count": 161,
     "metadata": {},
     "output_type": "execute_result"
    }
   ],
   "source": [
    "arr1+1000"
   ]
  },
  {
   "cell_type": "code",
   "execution_count": 162,
   "id": "d1e05069-822a-4a02-a304-ec0ccaa5bd70",
   "metadata": {},
   "outputs": [
    {
     "data": {
      "text/plain": [
       "array([[ 9,  1, 16],\n",
       "       [ 4,  4,  9],\n",
       "       [ 9,  4,  9]])"
      ]
     },
     "execution_count": 162,
     "metadata": {},
     "output_type": "execute_result"
    }
   ],
   "source": [
    "arr1**2"
   ]
  },
  {
   "cell_type": "code",
   "execution_count": 167,
   "id": "1ec24e1f-778a-4aac-a372-841e5f5b40cb",
   "metadata": {},
   "outputs": [
    {
     "data": {
      "text/plain": [
       "array([[0., 0., 0., 0.],\n",
       "       [0., 0., 0., 0.],\n",
       "       [0., 0., 0., 0.],\n",
       "       [0., 0., 0., 0.]])"
      ]
     },
     "execution_count": 167,
     "metadata": {},
     "output_type": "execute_result"
    }
   ],
   "source": [
    "arr2 = np.zeros((4,4))\n",
    "arr2"
   ]
  },
  {
   "cell_type": "code",
   "execution_count": 168,
   "id": "e15675d0-bb7b-476b-97f2-a41331cec45a",
   "metadata": {},
   "outputs": [
    {
     "data": {
      "text/plain": [
       "array([ 3, 54,  6,  2])"
      ]
     },
     "execution_count": 168,
     "metadata": {},
     "output_type": "execute_result"
    }
   ],
   "source": [
    "row = np.array([3,54,6,2])\n",
    "row"
   ]
  },
  {
   "cell_type": "code",
   "execution_count": 169,
   "id": "ebcf1f2e-46f9-4343-9584-fbde09fc6962",
   "metadata": {},
   "outputs": [
    {
     "data": {
      "text/plain": [
       "array([[ 3., 54.,  6.,  2.],\n",
       "       [ 3., 54.,  6.,  2.],\n",
       "       [ 3., 54.,  6.,  2.],\n",
       "       [ 3., 54.,  6.,  2.]])"
      ]
     },
     "execution_count": 169,
     "metadata": {},
     "output_type": "execute_result"
    }
   ],
   "source": [
    "arr2+row\n",
    "# it will be add in each rows . It is called Broadcasting\n"
   ]
  },
  {
   "cell_type": "code",
   "execution_count": 170,
   "id": "feb776a5-e74b-4afd-a177-1d19d89098dd",
   "metadata": {},
   "outputs": [
    {
     "data": {
      "text/plain": [
       "(4,)"
      ]
     },
     "execution_count": 170,
     "metadata": {},
     "output_type": "execute_result"
    }
   ],
   "source": [
    "row.shape"
   ]
  },
  {
   "cell_type": "code",
   "execution_count": 176,
   "id": "56161656-a2d2-45c4-98e2-feaea7d96109",
   "metadata": {},
   "outputs": [
    {
     "data": {
      "text/plain": [
       "array([[3],\n",
       "       [5],\n",
       "       [6],\n",
       "       [2]])"
      ]
     },
     "execution_count": 176,
     "metadata": {},
     "output_type": "execute_result"
    }
   ],
   "source": [
    "# ADd column wise\n",
    "# For transpose of array it must be 2 dimension\n",
    "col = np.array([[3,5,6,2]])\n",
    "col.T"
   ]
  },
  {
   "cell_type": "code",
   "execution_count": 179,
   "id": "b2c7f799-7228-4c92-8df0-a89904e0316f",
   "metadata": {},
   "outputs": [
    {
     "data": {
      "text/plain": [
       "array([[3., 3., 3., 3.],\n",
       "       [5., 5., 5., 5.],\n",
       "       [6., 6., 6., 6.],\n",
       "       [2., 2., 2., 2.]])"
      ]
     },
     "execution_count": 179,
     "metadata": {},
     "output_type": "execute_result"
    }
   ],
   "source": [
    "arr2+col.T\n",
    "# Column wise broadcasting"
   ]
  },
  {
   "cell_type": "code",
   "execution_count": 180,
   "id": "57cee693-e3ba-4d80-bb38-d70cc7c62461",
   "metadata": {},
   "outputs": [],
   "source": [
    "arr3 = np.random.randint(1,4,(3,4))\n"
   ]
  },
  {
   "cell_type": "code",
   "execution_count": 181,
   "id": "dda87f4a-2506-4c84-be2b-05ede90b3c95",
   "metadata": {},
   "outputs": [
    {
     "data": {
      "text/plain": [
       "array([[3, 2, 2, 2],\n",
       "       [2, 1, 2, 2],\n",
       "       [2, 2, 1, 2]])"
      ]
     },
     "execution_count": 181,
     "metadata": {},
     "output_type": "execute_result"
    }
   ],
   "source": [
    "arr3"
   ]
  },
  {
   "cell_type": "code",
   "execution_count": 182,
   "id": "38c5ebb3-a1a5-41a9-83ce-6198c8b4ef29",
   "metadata": {},
   "outputs": [
    {
     "data": {
      "text/plain": [
       "array([[1.73205081, 1.41421356, 1.41421356, 1.41421356],\n",
       "       [1.41421356, 1.        , 1.41421356, 1.41421356],\n",
       "       [1.41421356, 1.41421356, 1.        , 1.41421356]])"
      ]
     },
     "execution_count": 182,
     "metadata": {},
     "output_type": "execute_result"
    }
   ],
   "source": [
    "np.sqrt(arr3)"
   ]
  },
  {
   "cell_type": "code",
   "execution_count": 183,
   "id": "213ee030-6a2e-409c-bb3e-14d64c91cec9",
   "metadata": {},
   "outputs": [
    {
     "data": {
      "text/plain": [
       "array([[20.08553692,  7.3890561 ,  7.3890561 ,  7.3890561 ],\n",
       "       [ 7.3890561 ,  2.71828183,  7.3890561 ,  7.3890561 ],\n",
       "       [ 7.3890561 ,  7.3890561 ,  2.71828183,  7.3890561 ]])"
      ]
     },
     "execution_count": 183,
     "metadata": {},
     "output_type": "execute_result"
    }
   ],
   "source": [
    "np.exp(arr3)"
   ]
  },
  {
   "cell_type": "code",
   "execution_count": 184,
   "id": "6b17818e-9a66-4a5f-a7bd-3fab53d59a4a",
   "metadata": {},
   "outputs": [
    {
     "data": {
      "text/plain": [
       "array([[1.09861229, 0.69314718, 0.69314718, 0.69314718],\n",
       "       [0.69314718, 0.        , 0.69314718, 0.69314718],\n",
       "       [0.69314718, 0.69314718, 0.        , 0.69314718]])"
      ]
     },
     "execution_count": 184,
     "metadata": {},
     "output_type": "execute_result"
    }
   ],
   "source": [
    "np.log(arr3)"
   ]
  },
  {
   "cell_type": "code",
   "execution_count": null,
   "id": "8e5c8893-3679-4fb8-bdb8-4982beaecc31",
   "metadata": {},
   "outputs": [],
   "source": []
  }
 ],
 "metadata": {
  "kernelspec": {
   "display_name": "Python 3 (ipykernel)",
   "language": "python",
   "name": "python3"
  },
  "language_info": {
   "codemirror_mode": {
    "name": "ipython",
    "version": 3
   },
   "file_extension": ".py",
   "mimetype": "text/x-python",
   "name": "python",
   "nbconvert_exporter": "python",
   "pygments_lexer": "ipython3",
   "version": "3.10.8"
  }
 },
 "nbformat": 4,
 "nbformat_minor": 5
}
