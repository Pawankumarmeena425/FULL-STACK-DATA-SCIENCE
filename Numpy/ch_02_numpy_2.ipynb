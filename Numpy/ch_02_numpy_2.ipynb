{
 "cells": [
  {
   "cell_type": "code",
   "execution_count": 1,
   "id": "86ce0532-1f4a-4848-a2fb-8aeedc6a05a8",
   "metadata": {},
   "outputs": [],
   "source": [
    "import numpy as np"
   ]
  },
  {
   "cell_type": "code",
   "execution_count": 2,
   "id": "f16e62a2-2fab-4fa7-aedd-af76e9538709",
   "metadata": {},
   "outputs": [],
   "source": [
    "# Numpy - Array Manipulation.\n"
   ]
  },
  {
   "cell_type": "code",
   "execution_count": 3,
   "id": "b560180e-d79f-4044-9a24-262404deada6",
   "metadata": {},
   "outputs": [],
   "source": [
    "arr = np.random.randint(1,10,(3,4))"
   ]
  },
  {
   "cell_type": "code",
   "execution_count": 4,
   "id": "5295a8d7-6ee9-46b4-a9b1-ce3fac55ab71",
   "metadata": {},
   "outputs": [
    {
     "data": {
      "text/plain": [
       "array([[2, 9, 1, 3],\n",
       "       [1, 3, 1, 1],\n",
       "       [9, 3, 9, 7]])"
      ]
     },
     "execution_count": 4,
     "metadata": {},
     "output_type": "execute_result"
    }
   ],
   "source": [
    "arr"
   ]
  },
  {
   "cell_type": "code",
   "execution_count": 5,
   "id": "7452a915-6f39-4589-9d3f-ed7bb56dfe45",
   "metadata": {},
   "outputs": [
    {
     "data": {
      "text/plain": [
       "array([[2, 9],\n",
       "       [1, 3],\n",
       "       [1, 3],\n",
       "       [1, 1],\n",
       "       [9, 3],\n",
       "       [9, 7]])"
      ]
     },
     "execution_count": 5,
     "metadata": {},
     "output_type": "execute_result"
    }
   ],
   "source": [
    "arr.reshape(6,2)"
   ]
  },
  {
   "cell_type": "code",
   "execution_count": 7,
   "id": "caada9b7-9eea-4478-a417-cf3c6c172b46",
   "metadata": {},
   "outputs": [
    {
     "data": {
      "text/plain": [
       "array([[2, 1, 9],\n",
       "       [9, 3, 3],\n",
       "       [1, 1, 9],\n",
       "       [3, 1, 7]])"
      ]
     },
     "execution_count": 7,
     "metadata": {},
     "output_type": "execute_result"
    }
   ],
   "source": [
    "arr.T"
   ]
  },
  {
   "cell_type": "code",
   "execution_count": 8,
   "id": "ddad56a8-f725-4edc-9843-0c21a4f91010",
   "metadata": {},
   "outputs": [
    {
     "data": {
      "text/plain": [
       "array([2, 9, 1, 3, 1, 3, 1, 1, 9, 3, 9, 7])"
      ]
     },
     "execution_count": 8,
     "metadata": {},
     "output_type": "execute_result"
    }
   ],
   "source": [
    "arr.flatten()\n",
    "# convet data into 1-d"
   ]
  },
  {
   "cell_type": "code",
   "execution_count": 9,
   "id": "6b05e1aa-0994-4ecf-9d30-06993538a31d",
   "metadata": {},
   "outputs": [],
   "source": [
    "arr1 = np.array([1,2,3,4,5,6])"
   ]
  },
  {
   "cell_type": "code",
   "execution_count": 10,
   "id": "c21be2c6-3324-43b7-aa1b-9958218e7121",
   "metadata": {},
   "outputs": [
    {
     "data": {
      "text/plain": [
       "1"
      ]
     },
     "execution_count": 10,
     "metadata": {},
     "output_type": "execute_result"
    }
   ],
   "source": [
    "arr1.ndim"
   ]
  },
  {
   "cell_type": "code",
   "execution_count": 13,
   "id": "46610bec-405e-4745-80c7-6e6de71ec9ee",
   "metadata": {},
   "outputs": [
    {
     "data": {
      "text/plain": [
       "array([[1],\n",
       "       [2],\n",
       "       [3],\n",
       "       [4],\n",
       "       [5],\n",
       "       [6]])"
      ]
     },
     "execution_count": 13,
     "metadata": {},
     "output_type": "execute_result"
    }
   ],
   "source": [
    "np.expand_dims(arr1,axis=1)\n",
    "# axis =1 , expands accors to the column"
   ]
  },
  {
   "cell_type": "code",
   "execution_count": 15,
   "id": "d36de710-a199-4ef6-b9b3-12a66572d305",
   "metadata": {},
   "outputs": [
    {
     "data": {
      "text/plain": [
       "array([[1, 2, 3, 4, 5, 6]])"
      ]
     },
     "execution_count": 15,
     "metadata": {},
     "output_type": "execute_result"
    }
   ],
   "source": [
    "np.expand_dims(arr1,axis=0)"
   ]
  },
  {
   "cell_type": "code",
   "execution_count": 16,
   "id": "90e81e68-0602-48d4-8e21-b8b04ea23193",
   "metadata": {},
   "outputs": [
    {
     "data": {
      "text/plain": [
       "array([[2, 9, 1, 3],\n",
       "       [1, 3, 1, 1],\n",
       "       [9, 3, 9, 7]])"
      ]
     },
     "execution_count": 16,
     "metadata": {},
     "output_type": "execute_result"
    }
   ],
   "source": [
    "arr"
   ]
  },
  {
   "cell_type": "code",
   "execution_count": 17,
   "id": "c80baf63-3bb7-4c45-a811-437f11d7cf39",
   "metadata": {},
   "outputs": [
    {
     "data": {
      "text/plain": [
       "array([[2, 9, 1, 3],\n",
       "       [1, 3, 1, 1],\n",
       "       [9, 3, 9, 7]])"
      ]
     },
     "execution_count": 17,
     "metadata": {},
     "output_type": "execute_result"
    }
   ],
   "source": [
    "np.squeeze(arr)"
   ]
  },
  {
   "cell_type": "code",
   "execution_count": 18,
   "id": "06e403c3-0ef1-4efb-aacf-19bc4c1d0b9d",
   "metadata": {},
   "outputs": [],
   "source": [
    "data = np.array([[1],[2],[3]])"
   ]
  },
  {
   "cell_type": "code",
   "execution_count": 19,
   "id": "b74c1dde-d838-42a7-a7b4-1fbeb6f08686",
   "metadata": {},
   "outputs": [
    {
     "data": {
      "text/plain": [
       "array([[1],\n",
       "       [2],\n",
       "       [3]])"
      ]
     },
     "execution_count": 19,
     "metadata": {},
     "output_type": "execute_result"
    }
   ],
   "source": [
    "data"
   ]
  },
  {
   "cell_type": "code",
   "execution_count": 20,
   "id": "0fe0aca1-9e02-4343-a0a3-7ea2ab6195e8",
   "metadata": {},
   "outputs": [
    {
     "data": {
      "text/plain": [
       "array([1, 2, 3])"
      ]
     },
     "execution_count": 20,
     "metadata": {},
     "output_type": "execute_result"
    }
   ],
   "source": [
    "np.squeeze(data)"
   ]
  },
  {
   "cell_type": "code",
   "execution_count": 21,
   "id": "8a3167e2-a0c1-46d4-9c44-679883cb252c",
   "metadata": {},
   "outputs": [
    {
     "data": {
      "text/plain": [
       "array([1, 2, 3, 4, 5, 6])"
      ]
     },
     "execution_count": 21,
     "metadata": {},
     "output_type": "execute_result"
    }
   ],
   "source": [
    "arr1"
   ]
  },
  {
   "cell_type": "code",
   "execution_count": 22,
   "id": "dca08130-4b4e-45a9-8885-98920c5d1c27",
   "metadata": {},
   "outputs": [
    {
     "data": {
      "text/plain": [
       "array([1, 1, 1, 2, 2, 2, 3, 3, 3, 4, 4, 4, 5, 5, 5, 6, 6, 6])"
      ]
     },
     "execution_count": 22,
     "metadata": {},
     "output_type": "execute_result"
    }
   ],
   "source": [
    "np.repeat(arr1,3)"
   ]
  },
  {
   "cell_type": "code",
   "execution_count": 25,
   "id": "f7b55dd7-ac27-412d-af6a-eed3de913ed1",
   "metadata": {},
   "outputs": [
    {
     "data": {
      "text/plain": [
       "array([5, 6, 1, 2, 3, 4])"
      ]
     },
     "execution_count": 25,
     "metadata": {},
     "output_type": "execute_result"
    }
   ],
   "source": [
    "np.roll(arr1 , 2)"
   ]
  },
  {
   "cell_type": "code",
   "execution_count": 27,
   "id": "2b660c7d-3a4a-4c4f-b00a-4c143fd838c8",
   "metadata": {},
   "outputs": [
    {
     "data": {
      "text/plain": [
       "array([[1, 0, 0, 0, 0, 0],\n",
       "       [0, 2, 0, 0, 0, 0],\n",
       "       [0, 0, 3, 0, 0, 0],\n",
       "       [0, 0, 0, 4, 0, 0],\n",
       "       [0, 0, 0, 0, 5, 0],\n",
       "       [0, 0, 0, 0, 0, 6]])"
      ]
     },
     "execution_count": 27,
     "metadata": {},
     "output_type": "execute_result"
    }
   ],
   "source": [
    "np.diag(arr1)\n",
    "# all data keep in the diogonal , and create a 2-d array"
   ]
  },
  {
   "cell_type": "code",
   "execution_count": null,
   "id": "affc36c6-656c-4ca0-bbdb-767eb6aed531",
   "metadata": {},
   "outputs": [],
   "source": []
  },
  {
   "cell_type": "code",
   "execution_count": 28,
   "id": "19282d83-b383-4656-aac1-c05ff7a98cf8",
   "metadata": {},
   "outputs": [],
   "source": [
    "# Numpy - Binary Operations"
   ]
  },
  {
   "cell_type": "code",
   "execution_count": 29,
   "id": "7d2f4a96-b70d-4596-94a3-f6d9e88f40c5",
   "metadata": {},
   "outputs": [],
   "source": [
    "arr1 = np.random.randint(1,10,(3,4))"
   ]
  },
  {
   "cell_type": "code",
   "execution_count": 30,
   "id": "28dce418-dfc5-4c4b-becc-38e08997b387",
   "metadata": {},
   "outputs": [],
   "source": [
    "arr2= np.random.randint(1,10,(3,4))"
   ]
  },
  {
   "cell_type": "code",
   "execution_count": 31,
   "id": "5fca9e80-6368-4ed4-b6fc-29584a3c5b25",
   "metadata": {},
   "outputs": [
    {
     "data": {
      "text/plain": [
       "array([[6, 6, 6, 9],\n",
       "       [8, 6, 7, 4],\n",
       "       [2, 9, 1, 5]])"
      ]
     },
     "execution_count": 31,
     "metadata": {},
     "output_type": "execute_result"
    }
   ],
   "source": [
    "arr1"
   ]
  },
  {
   "cell_type": "code",
   "execution_count": 32,
   "id": "330fa51c-8395-4dbd-897f-e5341b203183",
   "metadata": {},
   "outputs": [
    {
     "data": {
      "text/plain": [
       "array([[2, 5, 8, 5],\n",
       "       [9, 7, 8, 6],\n",
       "       [8, 4, 4, 9]])"
      ]
     },
     "execution_count": 32,
     "metadata": {},
     "output_type": "execute_result"
    }
   ],
   "source": [
    "arr2"
   ]
  },
  {
   "cell_type": "code",
   "execution_count": 33,
   "id": "b30d4944-737d-4cb4-95ab-5b65c308ccab",
   "metadata": {},
   "outputs": [
    {
     "data": {
      "text/plain": [
       "array([[ 8, 11, 14, 14],\n",
       "       [17, 13, 15, 10],\n",
       "       [10, 13,  5, 14]])"
      ]
     },
     "execution_count": 33,
     "metadata": {},
     "output_type": "execute_result"
    }
   ],
   "source": [
    "arr1+arr2"
   ]
  },
  {
   "cell_type": "code",
   "execution_count": 34,
   "id": "25e8efad-cdbc-41de-b92f-e424336e302d",
   "metadata": {},
   "outputs": [
    {
     "data": {
      "text/plain": [
       "array([[12, 30, 48, 45],\n",
       "       [72, 42, 56, 24],\n",
       "       [16, 36,  4, 45]])"
      ]
     },
     "execution_count": 34,
     "metadata": {},
     "output_type": "execute_result"
    }
   ],
   "source": [
    "arr1*arr2"
   ]
  },
  {
   "cell_type": "code",
   "execution_count": 35,
   "id": "33aa3dec-7d23-439f-a849-c5feb4a6bba1",
   "metadata": {},
   "outputs": [
    {
     "data": {
      "text/plain": [
       "array([[3.        , 1.2       , 0.75      , 1.8       ],\n",
       "       [0.88888889, 0.85714286, 0.875     , 0.66666667],\n",
       "       [0.25      , 2.25      , 0.25      , 0.55555556]])"
      ]
     },
     "execution_count": 35,
     "metadata": {},
     "output_type": "execute_result"
    }
   ],
   "source": [
    "arr1/arr2"
   ]
  },
  {
   "cell_type": "code",
   "execution_count": 37,
   "id": "3025562a-34f2-45d1-a3a7-1f10edbb6351",
   "metadata": {},
   "outputs": [
    {
     "data": {
      "text/plain": [
       "array([[ 4,  1, -2,  4],\n",
       "       [-1, -1, -1, -2],\n",
       "       [-6,  5, -3, -4]])"
      ]
     },
     "execution_count": 37,
     "metadata": {},
     "output_type": "execute_result"
    }
   ],
   "source": [
    "arr1-arr2"
   ]
  },
  {
   "cell_type": "code",
   "execution_count": 38,
   "id": "05e13952-c6f1-433e-b2e1-2cca52ebccbd",
   "metadata": {},
   "outputs": [
    {
     "data": {
      "text/plain": [
       "array([[0, 1, 6, 4],\n",
       "       [8, 6, 7, 4],\n",
       "       [2, 1, 1, 5]])"
      ]
     },
     "execution_count": 38,
     "metadata": {},
     "output_type": "execute_result"
    }
   ],
   "source": [
    "arr1%arr2\n",
    "# give remender "
   ]
  },
  {
   "cell_type": "code",
   "execution_count": 39,
   "id": "49e7db50-588d-4742-b7f5-f4a623ba7e8c",
   "metadata": {},
   "outputs": [
    {
     "data": {
      "text/plain": [
       "array([[       36,      7776,   1679616,     59049],\n",
       "       [134217728,    279936,   5764801,      4096],\n",
       "       [      256,      6561,         1,   1953125]])"
      ]
     },
     "execution_count": 39,
     "metadata": {},
     "output_type": "execute_result"
    }
   ],
   "source": [
    "arr1**arr2"
   ]
  },
  {
   "cell_type": "code",
   "execution_count": null,
   "id": "74be6699-390d-4835-8a69-3d2092e1ac32",
   "metadata": {},
   "outputs": [],
   "source": []
  },
  {
   "cell_type": "code",
   "execution_count": 40,
   "id": "23053b82-a9f3-413e-88e2-c54249166035",
   "metadata": {},
   "outputs": [
    {
     "data": {
      "text/plain": [
       "array([[2, 4, 0, 1],\n",
       "       [8, 6, 0, 4],\n",
       "       [0, 0, 0, 1]])"
      ]
     },
     "execution_count": 40,
     "metadata": {},
     "output_type": "execute_result"
    }
   ],
   "source": [
    "arr1 & arr2\n",
    "# AND operation"
   ]
  },
  {
   "cell_type": "code",
   "execution_count": 41,
   "id": "d325c4e6-402c-41be-ab3c-8b2e7a86c313",
   "metadata": {},
   "outputs": [
    {
     "data": {
      "text/plain": [
       "array([[ -7,  -7,  -7, -10],\n",
       "       [ -9,  -7,  -8,  -5],\n",
       "       [ -3, -10,  -2,  -6]])"
      ]
     },
     "execution_count": 41,
     "metadata": {},
     "output_type": "execute_result"
    }
   ],
   "source": [
    "~arr1"
   ]
  },
  {
   "cell_type": "code",
   "execution_count": 43,
   "id": "e65cfe04-1233-4e9c-b8ef-e95ae10b6745",
   "metadata": {},
   "outputs": [
    {
     "data": {
      "text/plain": [
       "array([[ 6,  7, 14, 13],\n",
       "       [ 9,  7, 15,  6],\n",
       "       [10, 13,  5, 13]])"
      ]
     },
     "execution_count": 43,
     "metadata": {},
     "output_type": "execute_result"
    }
   ],
   "source": [
    "arr1 | arr2"
   ]
  },
  {
   "cell_type": "code",
   "execution_count": 44,
   "id": "36d50311-76ce-42a3-bc79-482a45d8e43a",
   "metadata": {},
   "outputs": [
    {
     "data": {
      "text/plain": [
       "array([[ True,  True, False,  True],\n",
       "       [False, False, False, False],\n",
       "       [False,  True, False, False]])"
      ]
     },
     "execution_count": 44,
     "metadata": {},
     "output_type": "execute_result"
    }
   ],
   "source": [
    "arr1 > arr2"
   ]
  },
  {
   "cell_type": "code",
   "execution_count": null,
   "id": "1cc12df4-aba1-4f33-a624-6111bc9cc2d4",
   "metadata": {},
   "outputs": [],
   "source": []
  },
  {
   "cell_type": "code",
   "execution_count": 45,
   "id": "ac5f178e-4755-4990-8864-c4157e0271ac",
   "metadata": {},
   "outputs": [],
   "source": [
    "# Numpy  -  String Functions."
   ]
  },
  {
   "cell_type": "code",
   "execution_count": 46,
   "id": "686c8925-493d-44aa-935e-e94c3095a900",
   "metadata": {},
   "outputs": [],
   "source": [
    "arr = np.array(['sudh','kumar','pawan','krish'])"
   ]
  },
  {
   "cell_type": "code",
   "execution_count": 47,
   "id": "c05731e4-7dee-41c4-9bb4-ac5c48076935",
   "metadata": {},
   "outputs": [
    {
     "data": {
      "text/plain": [
       "array(['sudh', 'kumar', 'pawan', 'krish'], dtype='<U5')"
      ]
     },
     "execution_count": 47,
     "metadata": {},
     "output_type": "execute_result"
    }
   ],
   "source": [
    "arr"
   ]
  },
  {
   "cell_type": "code",
   "execution_count": 48,
   "id": "88f3742c-7b40-4fdc-8a85-3cb600017c65",
   "metadata": {},
   "outputs": [
    {
     "data": {
      "text/plain": [
       "array(['SUDH', 'KUMAR', 'PAWAN', 'KRISH'], dtype='<U5')"
      ]
     },
     "execution_count": 48,
     "metadata": {},
     "output_type": "execute_result"
    }
   ],
   "source": [
    "np.char.upper(arr)"
   ]
  },
  {
   "cell_type": "code",
   "execution_count": 49,
   "id": "132a03ee-e24c-443d-a662-ecbaaf400845",
   "metadata": {},
   "outputs": [
    {
     "data": {
      "text/plain": [
       "array(['Sudh', 'Kumar', 'Pawan', 'Krish'], dtype='<U5')"
      ]
     },
     "execution_count": 49,
     "metadata": {},
     "output_type": "execute_result"
    }
   ],
   "source": [
    "np.char.title(arr)"
   ]
  },
  {
   "cell_type": "code",
   "execution_count": 50,
   "id": "4ecb868e-64c9-4e47-9218-42401755c581",
   "metadata": {},
   "outputs": [
    {
     "data": {
      "text/plain": [
       "array(['Sudh', 'Kumar', 'Pawan', 'Krish'], dtype='<U5')"
      ]
     },
     "execution_count": 50,
     "metadata": {},
     "output_type": "execute_result"
    }
   ],
   "source": [
    "np.char.capitalize(arr)"
   ]
  },
  {
   "cell_type": "code",
   "execution_count": null,
   "id": "3b8bcd2f-1455-4aac-85c9-8207c64d355c",
   "metadata": {},
   "outputs": [],
   "source": []
  },
  {
   "cell_type": "code",
   "execution_count": 51,
   "id": "c41b3de1-01a5-42a7-a472-3ad80f89f82d",
   "metadata": {},
   "outputs": [],
   "source": [
    "# Numpy  - Mathematical Functions.\n"
   ]
  },
  {
   "cell_type": "code",
   "execution_count": 52,
   "id": "96d337c9-7167-4e5d-8663-c64512516a01",
   "metadata": {},
   "outputs": [
    {
     "data": {
      "text/plain": [
       "array([[6, 6, 6, 9],\n",
       "       [8, 6, 7, 4],\n",
       "       [2, 9, 1, 5]])"
      ]
     },
     "execution_count": 52,
     "metadata": {},
     "output_type": "execute_result"
    }
   ],
   "source": [
    "arr1"
   ]
  },
  {
   "cell_type": "code",
   "execution_count": 53,
   "id": "795d3646-33f1-4fef-8fd5-baf60b3009be",
   "metadata": {},
   "outputs": [
    {
     "data": {
      "text/plain": [
       "array([[-0.2794155 , -0.2794155 , -0.2794155 ,  0.41211849],\n",
       "       [ 0.98935825, -0.2794155 ,  0.6569866 , -0.7568025 ],\n",
       "       [ 0.90929743,  0.41211849,  0.84147098, -0.95892427]])"
      ]
     },
     "execution_count": 53,
     "metadata": {},
     "output_type": "execute_result"
    }
   ],
   "source": [
    "np.sin(arr1)"
   ]
  },
  {
   "cell_type": "code",
   "execution_count": 54,
   "id": "6dd08fa1-bd1b-4fa0-9ae1-18977d9c5087",
   "metadata": {},
   "outputs": [
    {
     "data": {
      "text/plain": [
       "array([[ 0.96017029,  0.96017029,  0.96017029, -0.91113026],\n",
       "       [-0.14550003,  0.96017029,  0.75390225, -0.65364362],\n",
       "       [-0.41614684, -0.91113026,  0.54030231,  0.28366219]])"
      ]
     },
     "execution_count": 54,
     "metadata": {},
     "output_type": "execute_result"
    }
   ],
   "source": [
    "np.cos(arr1)"
   ]
  },
  {
   "cell_type": "code",
   "execution_count": 56,
   "id": "3b8cc197-ddc9-4ad6-af35-13661f12b465",
   "metadata": {},
   "outputs": [
    {
     "data": {
      "text/plain": [
       "array([[-0.29100619, -0.29100619, -0.29100619, -0.45231566],\n",
       "       [-6.79971146, -0.29100619,  0.87144798,  1.15782128],\n",
       "       [-2.18503986, -0.45231566,  1.55740772, -3.38051501]])"
      ]
     },
     "execution_count": 56,
     "metadata": {},
     "output_type": "execute_result"
    }
   ],
   "source": [
    "np.tan(arr1)"
   ]
  },
  {
   "cell_type": "code",
   "execution_count": 57,
   "id": "0eb407ca-0f14-4831-a3b9-209a6d86df20",
   "metadata": {},
   "outputs": [
    {
     "data": {
      "text/plain": [
       "array([[0.99998771, 0.99998771, 0.99998771, 0.99999997],\n",
       "       [0.99999977, 0.99998771, 0.99999834, 0.9993293 ],\n",
       "       [0.96402758, 0.99999997, 0.76159416, 0.9999092 ]])"
      ]
     },
     "execution_count": 57,
     "metadata": {},
     "output_type": "execute_result"
    }
   ],
   "source": [
    "np.tanh(arr1)"
   ]
  },
  {
   "cell_type": "code",
   "execution_count": 58,
   "id": "652a0155-520e-4c30-9d3f-cf68ae109aa4",
   "metadata": {},
   "outputs": [
    {
     "data": {
      "text/plain": [
       "array([[0.77815125, 0.77815125, 0.77815125, 0.95424251],\n",
       "       [0.90308999, 0.77815125, 0.84509804, 0.60205999],\n",
       "       [0.30103   , 0.95424251, 0.        , 0.69897   ]])"
      ]
     },
     "execution_count": 58,
     "metadata": {},
     "output_type": "execute_result"
    }
   ],
   "source": [
    "np.log10(arr1)"
   ]
  },
  {
   "cell_type": "code",
   "execution_count": 59,
   "id": "796cee29-4e70-4795-844f-80d7aa921c64",
   "metadata": {},
   "outputs": [
    {
     "data": {
      "text/plain": [
       "array([[4.03428793e+02, 4.03428793e+02, 4.03428793e+02, 8.10308393e+03],\n",
       "       [2.98095799e+03, 4.03428793e+02, 1.09663316e+03, 5.45981500e+01],\n",
       "       [7.38905610e+00, 8.10308393e+03, 2.71828183e+00, 1.48413159e+02]])"
      ]
     },
     "execution_count": 59,
     "metadata": {},
     "output_type": "execute_result"
    }
   ],
   "source": [
    "np.exp(arr1)"
   ]
  },
  {
   "cell_type": "code",
   "execution_count": 60,
   "id": "be1969df-7f00-419e-b26e-882e5c982f06",
   "metadata": {},
   "outputs": [
    {
     "data": {
      "text/plain": [
       "array([[2.44948974, 2.44948974, 2.44948974, 3.        ],\n",
       "       [2.82842712, 2.44948974, 2.64575131, 2.        ],\n",
       "       [1.41421356, 3.        , 1.        , 2.23606798]])"
      ]
     },
     "execution_count": 60,
     "metadata": {},
     "output_type": "execute_result"
    }
   ],
   "source": [
    "np.sqrt(arr1)"
   ]
  },
  {
   "cell_type": "code",
   "execution_count": 61,
   "id": "318d873d-cc00-4ae1-b664-ea64d34831c0",
   "metadata": {},
   "outputs": [
    {
     "data": {
      "text/plain": [
       "array([[36, 36, 36, 81],\n",
       "       [64, 36, 49, 16],\n",
       "       [ 4, 81,  1, 25]])"
      ]
     },
     "execution_count": 61,
     "metadata": {},
     "output_type": "execute_result"
    }
   ],
   "source": [
    "np.power(arr1,2)"
   ]
  },
  {
   "cell_type": "code",
   "execution_count": 62,
   "id": "61605964-7dcd-467a-8f9d-0d0ad7a3bd1d",
   "metadata": {},
   "outputs": [
    {
     "data": {
      "text/plain": [
       "5.75"
      ]
     },
     "execution_count": 62,
     "metadata": {},
     "output_type": "execute_result"
    }
   ],
   "source": [
    "np.mean(arr1)"
   ]
  },
  {
   "cell_type": "code",
   "execution_count": 63,
   "id": "18eb2434-9ddb-4ad2-be4e-fcd5ff73e330",
   "metadata": {},
   "outputs": [
    {
     "data": {
      "text/plain": [
       "6.0"
      ]
     },
     "execution_count": 63,
     "metadata": {},
     "output_type": "execute_result"
    }
   ],
   "source": [
    "np.median(arr1)"
   ]
  },
  {
   "cell_type": "code",
   "execution_count": 64,
   "id": "753a9b0a-3fdf-4ee0-a758-67e9a431325c",
   "metadata": {},
   "outputs": [
    {
     "data": {
      "text/plain": [
       "2.384848003542364"
      ]
     },
     "execution_count": 64,
     "metadata": {},
     "output_type": "execute_result"
    }
   ],
   "source": [
    "np.std(arr1)"
   ]
  },
  {
   "cell_type": "code",
   "execution_count": 65,
   "id": "86bfa513-92b4-424b-95fd-256056cdaa38",
   "metadata": {},
   "outputs": [
    {
     "data": {
      "text/plain": [
       "5.6875"
      ]
     },
     "execution_count": 65,
     "metadata": {},
     "output_type": "execute_result"
    }
   ],
   "source": [
    "np.var(arr1)"
   ]
  },
  {
   "cell_type": "code",
   "execution_count": 66,
   "id": "4fd6d463-99df-460b-86f4-5ca0e7780e63",
   "metadata": {},
   "outputs": [
    {
     "data": {
      "text/plain": [
       "1"
      ]
     },
     "execution_count": 66,
     "metadata": {},
     "output_type": "execute_result"
    }
   ],
   "source": [
    "np.min(arr1)"
   ]
  },
  {
   "cell_type": "code",
   "execution_count": 67,
   "id": "2c871c5c-9f57-4295-9d6c-f8e7d451147f",
   "metadata": {},
   "outputs": [
    {
     "data": {
      "text/plain": [
       "9"
      ]
     },
     "execution_count": 67,
     "metadata": {},
     "output_type": "execute_result"
    }
   ],
   "source": [
    "np.max(arr1)"
   ]
  },
  {
   "cell_type": "code",
   "execution_count": null,
   "id": "169558ab-4237-473e-8848-703ffd2e38b5",
   "metadata": {},
   "outputs": [],
   "source": []
  }
 ],
 "metadata": {
  "kernelspec": {
   "display_name": "Python 3 (ipykernel)",
   "language": "python",
   "name": "python3"
  },
  "language_info": {
   "codemirror_mode": {
    "name": "ipython",
    "version": 3
   },
   "file_extension": ".py",
   "mimetype": "text/x-python",
   "name": "python",
   "nbconvert_exporter": "python",
   "pygments_lexer": "ipython3",
   "version": "3.10.8"
  }
 },
 "nbformat": 4,
 "nbformat_minor": 5
}
