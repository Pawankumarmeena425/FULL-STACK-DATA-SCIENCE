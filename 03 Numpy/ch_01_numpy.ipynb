{
 "cells": [
  {
   "cell_type": "code",
   "execution_count": 1,
   "id": "34656259-f9d3-4fd5-a21b-38e1bdf901f7",
   "metadata": {},
   "outputs": [],
   "source": [
    "# Numpy = Numerical Python\n",
    "# In numpy we deals with arrays and metrixes"
   ]
  },
  {
   "cell_type": "code",
   "execution_count": 2,
   "id": "3fa25ae8-b3c8-4680-bc1c-16655e947f5c",
   "metadata": {},
   "outputs": [],
   "source": [
    "import numpy as np\n"
   ]
  },
  {
   "cell_type": "code",
   "execution_count": 4,
   "id": "7f836316-8b9b-4688-a086-397c6ec3adc7",
   "metadata": {},
   "outputs": [],
   "source": [
    "l = [1,2,3,4,5,6,7,8]\n"
   ]
  },
  {
   "cell_type": "code",
   "execution_count": 5,
   "id": "154c0208-565c-4f14-910b-eb6bda97116e",
   "metadata": {},
   "outputs": [],
   "source": [
    "ar = np.array(l)"
   ]
  },
  {
   "cell_type": "code",
   "execution_count": 6,
   "id": "dae675b9-c57f-42b1-93b3-7d963ed7416b",
   "metadata": {},
   "outputs": [
    {
     "data": {
      "text/plain": [
       "numpy.ndarray"
      ]
     },
     "execution_count": 6,
     "metadata": {},
     "output_type": "execute_result"
    }
   ],
   "source": [
    "type(ar)"
   ]
  },
  {
   "cell_type": "code",
   "execution_count": 7,
   "id": "c38fcd28-35af-4a2d-b3d1-1be5c8cb212a",
   "metadata": {},
   "outputs": [
    {
     "data": {
      "text/plain": [
       "array([[1, 2, 3],\n",
       "       [4, 5, 6]])"
      ]
     },
     "execution_count": 7,
     "metadata": {},
     "output_type": "execute_result"
    }
   ],
   "source": [
    "np.array([[1,2,3],\n",
    "         [4,5,6]])"
   ]
  },
  {
   "cell_type": "code",
   "execution_count": 8,
   "id": "58667395-2da0-4311-a0e3-abe9686cf41e",
   "metadata": {},
   "outputs": [
    {
     "data": {
      "text/plain": [
       "array([1, 2, 3, 4, 5, 6, 7, 8])"
      ]
     },
     "execution_count": 8,
     "metadata": {},
     "output_type": "execute_result"
    }
   ],
   "source": [
    "np.asarray(l)"
   ]
  },
  {
   "cell_type": "code",
   "execution_count": 9,
   "id": "0899666d-3766-4776-9d3f-c3bd08248a2a",
   "metadata": {},
   "outputs": [
    {
     "data": {
      "text/plain": [
       "array([1, 2, 4, 5, 3])"
      ]
     },
     "execution_count": 9,
     "metadata": {},
     "output_type": "execute_result"
    }
   ],
   "source": [
    "a = [1,2,4,5,3]\n",
    "np.asanyarray(a)"
   ]
  },
  {
   "cell_type": "code",
   "execution_count": 10,
   "id": "96caa1b0-4570-463e-8b30-8cce08eba648",
   "metadata": {},
   "outputs": [],
   "source": [
    "# we can use any method for convert into array\n"
   ]
  },
  {
   "cell_type": "code",
   "execution_count": 11,
   "id": "0bacf8ae-4909-4eb0-a6a4-6494199c0614",
   "metadata": {},
   "outputs": [],
   "source": [
    "mat = np.matrix(a)"
   ]
  },
  {
   "cell_type": "code",
   "execution_count": 12,
   "id": "cbd7a3c1-11b3-469e-8792-64c32a4136b4",
   "metadata": {},
   "outputs": [
    {
     "data": {
      "text/plain": [
       "matrix([[1, 2, 4, 5, 3]])"
      ]
     },
     "execution_count": 12,
     "metadata": {},
     "output_type": "execute_result"
    }
   ],
   "source": [
    "mat"
   ]
  },
  {
   "cell_type": "code",
   "execution_count": 13,
   "id": "c79467a8-44d3-4177-9a68-7d80ad0c1374",
   "metadata": {},
   "outputs": [],
   "source": [
    "# Matrix is bydefault 2-d\n",
    "# Metrix is subset of array"
   ]
  },
  {
   "cell_type": "code",
   "execution_count": 14,
   "id": "8ddaa576-3b46-4d79-9fcf-a69543d61aff",
   "metadata": {},
   "outputs": [
    {
     "data": {
      "text/plain": [
       "matrix([[1, 2, 4, 5, 3]])"
      ]
     },
     "execution_count": 14,
     "metadata": {},
     "output_type": "execute_result"
    }
   ],
   "source": [
    "np.asanyarray(mat)\n",
    "# Not convert into the arrya. Since it convet any list into array ,  and metrix is a subclass of an array means metrix is another form of array."
   ]
  },
  {
   "cell_type": "code",
   "execution_count": 15,
   "id": "32f7b9b1-70b7-4780-8464-c35d28a3688c",
   "metadata": {},
   "outputs": [],
   "source": [
    "a = np.array(l)"
   ]
  },
  {
   "cell_type": "code",
   "execution_count": 16,
   "id": "470b1bdb-9c5b-448f-bd20-6e7b8ffd8b9a",
   "metadata": {},
   "outputs": [],
   "source": [
    "c  = a"
   ]
  },
  {
   "cell_type": "code",
   "execution_count": 17,
   "id": "31ce95e1-c5cf-454b-92e3-244ed90702a1",
   "metadata": {},
   "outputs": [
    {
     "data": {
      "text/plain": [
       "array([1, 2, 3, 4, 5, 6, 7, 8])"
      ]
     },
     "execution_count": 17,
     "metadata": {},
     "output_type": "execute_result"
    }
   ],
   "source": [
    "c"
   ]
  },
  {
   "cell_type": "code",
   "execution_count": 18,
   "id": "05b68357-df30-4d71-920a-52ccfacde654",
   "metadata": {},
   "outputs": [
    {
     "data": {
      "text/plain": [
       "array([1, 2, 3, 4, 5, 6, 7, 8])"
      ]
     },
     "execution_count": 18,
     "metadata": {},
     "output_type": "execute_result"
    }
   ],
   "source": [
    "a"
   ]
  },
  {
   "cell_type": "code",
   "execution_count": 19,
   "id": "441abe9f-4a44-4bcd-9bde-1117bdd56f3b",
   "metadata": {},
   "outputs": [
    {
     "data": {
      "text/plain": [
       "1"
      ]
     },
     "execution_count": 19,
     "metadata": {},
     "output_type": "execute_result"
    }
   ],
   "source": [
    "c[0]"
   ]
  },
  {
   "cell_type": "code",
   "execution_count": 20,
   "id": "b0f85ba1-4a29-465e-b9cf-02efef4b0f2d",
   "metadata": {},
   "outputs": [],
   "source": [
    "c[0] = 1000"
   ]
  },
  {
   "cell_type": "code",
   "execution_count": 21,
   "id": "59d28e10-e427-4a2d-9223-2728e7a303cb",
   "metadata": {},
   "outputs": [
    {
     "data": {
      "text/plain": [
       "array([1000,    2,    3,    4,    5,    6,    7,    8])"
      ]
     },
     "execution_count": 21,
     "metadata": {},
     "output_type": "execute_result"
    }
   ],
   "source": [
    "c"
   ]
  },
  {
   "cell_type": "code",
   "execution_count": 22,
   "id": "b357700c-8154-4d46-96c8-9b0df0fe0637",
   "metadata": {},
   "outputs": [
    {
     "data": {
      "text/plain": [
       "array([1000,    2,    3,    4,    5,    6,    7,    8])"
      ]
     },
     "execution_count": 22,
     "metadata": {},
     "output_type": "execute_result"
    }
   ],
   "source": [
    "a"
   ]
  },
  {
   "cell_type": "code",
   "execution_count": 23,
   "id": "b4540bda-5ed4-4659-93f7-2027b87b610c",
   "metadata": {},
   "outputs": [],
   "source": [
    "# c point to same location in the memmory same as a , so if we change any in the c , it will reflect in the main memory . \n",
    "# Shallow copy \n"
   ]
  },
  {
   "cell_type": "code",
   "execution_count": 24,
   "id": "8a6c54f0-783e-4868-ad94-ddff71b7d6cd",
   "metadata": {},
   "outputs": [],
   "source": [
    "d = np.copy(a)"
   ]
  },
  {
   "cell_type": "code",
   "execution_count": 25,
   "id": "8d4feae7-dae5-4708-b7a1-a538d1a3a385",
   "metadata": {},
   "outputs": [
    {
     "data": {
      "text/plain": [
       "array([1000,    2,    3,    4,    5,    6,    7,    8])"
      ]
     },
     "execution_count": 25,
     "metadata": {},
     "output_type": "execute_result"
    }
   ],
   "source": [
    "d"
   ]
  },
  {
   "cell_type": "code",
   "execution_count": 26,
   "id": "d674ac37-065e-489d-bcba-6a871d480e1f",
   "metadata": {},
   "outputs": [
    {
     "data": {
      "text/plain": [
       "array([1000,    2,    3,    4,    5,    6,    7,    8])"
      ]
     },
     "execution_count": 26,
     "metadata": {},
     "output_type": "execute_result"
    }
   ],
   "source": [
    "a"
   ]
  },
  {
   "cell_type": "code",
   "execution_count": 27,
   "id": "90fcac30-c044-49f1-a930-e78bd91b4f5a",
   "metadata": {},
   "outputs": [],
   "source": [
    "a[2] = 400"
   ]
  },
  {
   "cell_type": "code",
   "execution_count": 28,
   "id": "38d74180-6ff7-4256-a72e-df3538388867",
   "metadata": {},
   "outputs": [
    {
     "data": {
      "text/plain": [
       "array([1000,    2,    3,    4,    5,    6,    7,    8])"
      ]
     },
     "execution_count": 28,
     "metadata": {},
     "output_type": "execute_result"
    }
   ],
   "source": [
    "d"
   ]
  },
  {
   "cell_type": "code",
   "execution_count": 29,
   "id": "a05dd1b6-1614-4a5e-b761-6217cb7fc6a0",
   "metadata": {},
   "outputs": [],
   "source": [
    "# Here a is copy in the d in new location , so if we changes in the a it will not reflect in the d array\n",
    "# Deep copy"
   ]
  },
  {
   "cell_type": "code",
   "execution_count": 30,
   "id": "b2dc6327-6da7-4fd0-a2b5-d65d314da236",
   "metadata": {},
   "outputs": [
    {
     "data": {
      "text/plain": [
       "array([[ True, False, False],\n",
       "       [False,  True, False],\n",
       "       [False, False,  True]])"
      ]
     },
     "execution_count": 30,
     "metadata": {},
     "output_type": "execute_result"
    }
   ],
   "source": [
    "np.fromfunction(lambda i,j : i==j , (3,3))\n",
    "# 3,3 -->> 3*3 metrix\n"
   ]
  },
  {
   "cell_type": "code",
   "execution_count": 31,
   "id": "318c02b0-80aa-426a-b127-81de25f9c3fb",
   "metadata": {},
   "outputs": [
    {
     "data": {
      "text/plain": [
       "array([[0., 0., 0.],\n",
       "       [0., 1., 2.],\n",
       "       [0., 2., 4.]])"
      ]
     },
     "execution_count": 31,
     "metadata": {},
     "output_type": "execute_result"
    }
   ],
   "source": [
    "np.fromfunction(lambda i,j : i*j , (3,3))\n"
   ]
  },
  {
   "cell_type": "code",
   "execution_count": 32,
   "id": "2a2a7283-c327-4bf5-a0e4-ec378486e008",
   "metadata": {},
   "outputs": [],
   "source": [
    "iterable = (i*i for i in range(5))"
   ]
  },
  {
   "cell_type": "code",
   "execution_count": 33,
   "id": "bb6f4be7-6b70-44a2-9e7a-760a326b3d82",
   "metadata": {},
   "outputs": [
    {
     "data": {
      "text/plain": [
       "array([ 0.,  1.,  4.,  9., 16.])"
      ]
     },
     "execution_count": 33,
     "metadata": {},
     "output_type": "execute_result"
    }
   ],
   "source": [
    "np.fromiter(iterable,float)"
   ]
  },
  {
   "cell_type": "code",
   "execution_count": 34,
   "id": "2f3555eb-c4aa-4676-bd0d-fc7b1339d5fc",
   "metadata": {},
   "outputs": [
    {
     "data": {
      "text/plain": [
       "array([312.,  34.,  23., 534., 232.])"
      ]
     },
     "execution_count": 34,
     "metadata": {},
     "output_type": "execute_result"
    }
   ],
   "source": [
    "np.fromstring('312 34 23 534 232' , sep = ' ')"
   ]
  },
  {
   "cell_type": "code",
   "execution_count": 35,
   "id": "3a3e6620-8708-4a4e-b5b2-d049b057f2a2",
   "metadata": {},
   "outputs": [
    {
     "data": {
      "text/plain": [
       "array([  23.,   34.,  212., 3453.,   32.])"
      ]
     },
     "execution_count": 35,
     "metadata": {},
     "output_type": "execute_result"
    }
   ],
   "source": [
    "np.fromstring('23,34,212,3453,32',sep = ',')"
   ]
  },
  {
   "cell_type": "code",
   "execution_count": 36,
   "id": "4d4317cc-f38a-4052-9b5a-71fffffad5db",
   "metadata": {},
   "outputs": [],
   "source": [
    "#Numpy - Data Types "
   ]
  },
  {
   "cell_type": "code",
   "execution_count": 37,
   "id": "21c7f993-6f66-490a-ac89-991ca23aab9f",
   "metadata": {},
   "outputs": [],
   "source": [
    "l = [3,2,5,6,6,3,2]\n"
   ]
  },
  {
   "cell_type": "code",
   "execution_count": 38,
   "id": "ed4d1971-7ba5-4171-bbda-1d919d235625",
   "metadata": {},
   "outputs": [],
   "source": [
    "ar = np.array(l)"
   ]
  },
  {
   "cell_type": "code",
   "execution_count": 39,
   "id": "a4df2d82-0340-486d-801c-96ac7318e556",
   "metadata": {},
   "outputs": [
    {
     "data": {
      "text/plain": [
       "array([3, 2, 5, 6, 6, 3, 2])"
      ]
     },
     "execution_count": 39,
     "metadata": {},
     "output_type": "execute_result"
    }
   ],
   "source": [
    "ar"
   ]
  },
  {
   "cell_type": "code",
   "execution_count": 40,
   "id": "f318ad9f-d491-4cf6-8bdd-378242492a86",
   "metadata": {},
   "outputs": [
    {
     "data": {
      "text/plain": [
       "1"
      ]
     },
     "execution_count": 40,
     "metadata": {},
     "output_type": "execute_result"
    }
   ],
   "source": [
    "ar.ndim"
   ]
  },
  {
   "cell_type": "code",
   "execution_count": 41,
   "id": "9b750e77-732c-4456-9005-cf56be5a08a4",
   "metadata": {},
   "outputs": [],
   "source": [
    "ar2 = np.array([[3,3,5,5],[5,3,7,4]])"
   ]
  },
  {
   "cell_type": "code",
   "execution_count": 42,
   "id": "42be8df3-b68f-4b27-a6f2-5adbe8b71b5f",
   "metadata": {},
   "outputs": [
    {
     "data": {
      "text/plain": [
       "array([[3, 3, 5, 5],\n",
       "       [5, 3, 7, 4]])"
      ]
     },
     "execution_count": 42,
     "metadata": {},
     "output_type": "execute_result"
    }
   ],
   "source": [
    "ar2"
   ]
  },
  {
   "cell_type": "raw",
   "id": "b47e297a-be3d-4e14-857b-5e52a9fd27ad",
   "metadata": {},
   "source": []
  },
  {
   "cell_type": "code",
   "execution_count": 43,
   "id": "3b42d696-2515-4328-9066-d45dfb7a4069",
   "metadata": {},
   "outputs": [
    {
     "data": {
      "text/plain": [
       "7"
      ]
     },
     "execution_count": 43,
     "metadata": {},
     "output_type": "execute_result"
    }
   ],
   "source": [
    "ar.size"
   ]
  },
  {
   "cell_type": "code",
   "execution_count": 44,
   "id": "08a0ed87-7ccc-48be-9d88-0964d93cc976",
   "metadata": {},
   "outputs": [
    {
     "data": {
      "text/plain": [
       "8"
      ]
     },
     "execution_count": 44,
     "metadata": {},
     "output_type": "execute_result"
    }
   ],
   "source": [
    "ar2.size"
   ]
  },
  {
   "cell_type": "code",
   "execution_count": 45,
   "id": "76c78e20-2149-44c9-85c8-537aa9616039",
   "metadata": {},
   "outputs": [
    {
     "data": {
      "text/plain": [
       "(7,)"
      ]
     },
     "execution_count": 45,
     "metadata": {},
     "output_type": "execute_result"
    }
   ],
   "source": [
    "ar.shape"
   ]
  },
  {
   "cell_type": "code",
   "execution_count": 46,
   "id": "d49e169a-36f0-478d-af24-1aa08bb6e239",
   "metadata": {},
   "outputs": [
    {
     "data": {
      "text/plain": [
       "(2, 4)"
      ]
     },
     "execution_count": 46,
     "metadata": {},
     "output_type": "execute_result"
    }
   ],
   "source": [
    "ar2.shape"
   ]
  },
  {
   "cell_type": "code",
   "execution_count": 47,
   "id": "d71d6938-dc9e-466d-8b9b-9eeda809f323",
   "metadata": {},
   "outputs": [
    {
     "data": {
      "text/plain": [
       "dtype('int64')"
      ]
     },
     "execution_count": 47,
     "metadata": {},
     "output_type": "execute_result"
    }
   ],
   "source": [
    "ar.dtype"
   ]
  },
  {
   "cell_type": "code",
   "execution_count": 48,
   "id": "e548f08e-4beb-4c66-913e-b76ab14690ac",
   "metadata": {},
   "outputs": [
    {
     "data": {
      "text/plain": [
       "dtype('int64')"
      ]
     },
     "execution_count": 48,
     "metadata": {},
     "output_type": "execute_result"
    }
   ],
   "source": [
    "ar2.dtype"
   ]
  },
  {
   "cell_type": "code",
   "execution_count": 49,
   "id": "d2c3beaf-5c36-4a06-88e8-a9413fc47b8a",
   "metadata": {},
   "outputs": [],
   "source": [
    "ar22 = np.array([(1.2,32,34),(64,3,4)])"
   ]
  },
  {
   "cell_type": "code",
   "execution_count": 50,
   "id": "6a2e5546-1410-4540-8419-1db7556fc0eb",
   "metadata": {},
   "outputs": [
    {
     "data": {
      "text/plain": [
       "array([[ 1.2, 32. , 34. ],\n",
       "       [64. ,  3. ,  4. ]])"
      ]
     },
     "execution_count": 50,
     "metadata": {},
     "output_type": "execute_result"
    }
   ],
   "source": [
    "ar22"
   ]
  },
  {
   "cell_type": "code",
   "execution_count": 51,
   "id": "5ffb0944-86cd-4a39-9ebc-6dbc3d268a5b",
   "metadata": {},
   "outputs": [
    {
     "data": {
      "text/plain": [
       "dtype('float64')"
      ]
     },
     "execution_count": 51,
     "metadata": {},
     "output_type": "execute_result"
    }
   ],
   "source": [
    "ar22.dtype"
   ]
  },
  {
   "cell_type": "code",
   "execution_count": 52,
   "id": "08a54ea3-4e22-4bf4-ad22-ac217309a1ba",
   "metadata": {},
   "outputs": [
    {
     "data": {
      "text/plain": [
       "range(0, 10)"
      ]
     },
     "execution_count": 52,
     "metadata": {},
     "output_type": "execute_result"
    }
   ],
   "source": [
    "range(10)"
   ]
  },
  {
   "cell_type": "code",
   "execution_count": 53,
   "id": "d9476e18-c2c2-401f-bbc6-2b25d4979179",
   "metadata": {},
   "outputs": [
    {
     "data": {
      "text/plain": [
       "[0, 1, 2, 3, 4, 5, 6, 7, 8, 9]"
      ]
     },
     "execution_count": 53,
     "metadata": {},
     "output_type": "execute_result"
    }
   ],
   "source": [
    "list(range(10))"
   ]
  },
  {
   "cell_type": "code",
   "execution_count": 54,
   "id": "00e83988-54f1-4a6c-a845-cc5a79704a86",
   "metadata": {},
   "outputs": [
    {
     "ename": "TypeError",
     "evalue": "'float' object cannot be interpreted as an integer",
     "output_type": "error",
     "traceback": [
      "\u001b[0;31m---------------------------------------------------------------------------\u001b[0m",
      "\u001b[0;31mTypeError\u001b[0m                                 Traceback (most recent call last)",
      "Cell \u001b[0;32mIn[54], line 1\u001b[0m\n\u001b[0;32m----> 1\u001b[0m \u001b[38;5;28mlist\u001b[39m(\u001b[38;5;28;43mrange\u001b[39;49m\u001b[43m(\u001b[49m\u001b[38;5;241;43m0.5\u001b[39;49m\u001b[43m \u001b[49m\u001b[43m,\u001b[49m\u001b[43m \u001b[49m\u001b[38;5;241;43m5\u001b[39;49m\u001b[43m)\u001b[49m)\n",
      "\u001b[0;31mTypeError\u001b[0m: 'float' object cannot be interpreted as an integer"
     ]
    }
   ],
   "source": [
    "list(range(0.5 , 5))"
   ]
  },
  {
   "cell_type": "code",
   "execution_count": 55,
   "id": "708bfd7f-16df-4dda-95f6-443630501419",
   "metadata": {},
   "outputs": [
    {
     "data": {
      "text/plain": [
       "array([2.3, 3.3, 4.3, 5.3])"
      ]
     },
     "execution_count": 55,
     "metadata": {},
     "output_type": "execute_result"
    }
   ],
   "source": [
    "np.arange(2.3,5.6)"
   ]
  },
  {
   "cell_type": "code",
   "execution_count": 56,
   "id": "85bf4b8b-1ae4-4831-8fe6-4e8a940a6ab6",
   "metadata": {},
   "outputs": [
    {
     "data": {
      "text/plain": [
       "array([2.3, 2.5, 2.7, 2.9, 3.1, 3.3, 3.5, 3.7, 3.9, 4.1, 4.3, 4.5, 4.7,\n",
       "       4.9, 5.1, 5.3, 5.5])"
      ]
     },
     "execution_count": 56,
     "metadata": {},
     "output_type": "execute_result"
    }
   ],
   "source": [
    "np.arange(2.3,5.6,0.2)"
   ]
  },
  {
   "cell_type": "code",
   "execution_count": 58,
   "id": "f1cefb1e-5bc4-497b-a89c-20cf1fe2e174",
   "metadata": {},
   "outputs": [
    {
     "data": {
      "text/plain": [
       "[2.3,\n",
       " 2.5,\n",
       " 2.7,\n",
       " 2.9000000000000004,\n",
       " 3.1000000000000005,\n",
       " 3.3000000000000007,\n",
       " 3.500000000000001,\n",
       " 3.700000000000001,\n",
       " 3.9000000000000012,\n",
       " 4.100000000000001,\n",
       " 4.300000000000002,\n",
       " 4.500000000000002,\n",
       " 4.700000000000002,\n",
       " 4.900000000000002,\n",
       " 5.100000000000002,\n",
       " 5.3000000000000025,\n",
       " 5.500000000000003]"
      ]
     },
     "execution_count": 58,
     "metadata": {},
     "output_type": "execute_result"
    }
   ],
   "source": [
    "list(np.arange(2.3,5.6,0.2))"
   ]
  },
  {
   "cell_type": "code",
   "execution_count": 60,
   "id": "a179039b-10f6-427c-b3e7-6b73ea1706e2",
   "metadata": {},
   "outputs": [
    {
     "data": {
      "text/plain": [
       "array([1.        , 1.44444444, 1.88888889, 2.33333333, 2.77777778,\n",
       "       3.22222222, 3.66666667, 4.11111111, 4.55555556, 5.        ])"
      ]
     },
     "execution_count": 60,
     "metadata": {},
     "output_type": "execute_result"
    }
   ],
   "source": [
    "np.linspace(1,5,10)\n",
    "# it will produce n data between the give range "
   ]
  },
  {
   "cell_type": "code",
   "execution_count": 61,
   "id": "d2ca1ba7-f1e6-499d-a68b-2a3219e1bdce",
   "metadata": {},
   "outputs": [
    {
     "data": {
      "text/plain": [
       "array([0., 0., 0., 0., 0.])"
      ]
     },
     "execution_count": 61,
     "metadata": {},
     "output_type": "execute_result"
    }
   ],
   "source": [
    "np.zeros(5)"
   ]
  },
  {
   "cell_type": "code",
   "execution_count": 62,
   "id": "b1b9d535-733c-4c2e-a2e2-269e502fc6f1",
   "metadata": {},
   "outputs": [
    {
     "data": {
      "text/plain": [
       "array([[0., 0., 0., 0.],\n",
       "       [0., 0., 0., 0.],\n",
       "       [0., 0., 0., 0.]])"
      ]
     },
     "execution_count": 62,
     "metadata": {},
     "output_type": "execute_result"
    }
   ],
   "source": [
    "np.zeros((3,4))"
   ]
  },
  {
   "cell_type": "code",
   "execution_count": 63,
   "id": "db4e8a60-edc6-44d5-88c5-01e831541926",
   "metadata": {},
   "outputs": [
    {
     "data": {
      "text/plain": [
       "array([[[0., 0., 0., 0., 0.],\n",
       "        [0., 0., 0., 0., 0.],\n",
       "        [0., 0., 0., 0., 0.],\n",
       "        [0., 0., 0., 0., 0.]],\n",
       "\n",
       "       [[0., 0., 0., 0., 0.],\n",
       "        [0., 0., 0., 0., 0.],\n",
       "        [0., 0., 0., 0., 0.],\n",
       "        [0., 0., 0., 0., 0.]],\n",
       "\n",
       "       [[0., 0., 0., 0., 0.],\n",
       "        [0., 0., 0., 0., 0.],\n",
       "        [0., 0., 0., 0., 0.],\n",
       "        [0., 0., 0., 0., 0.]]])"
      ]
     },
     "execution_count": 63,
     "metadata": {},
     "output_type": "execute_result"
    }
   ],
   "source": [
    "np.zeros((3,4,5))\n",
    "# 3-d"
   ]
  },
  {
   "cell_type": "code",
   "execution_count": 66,
   "id": "83846bc8-94f2-451d-847a-463543abc2f3",
   "metadata": {},
   "outputs": [
    {
     "data": {
      "text/plain": [
       "array([[[[0., 0., 0., 0., 0.],\n",
       "         [0., 0., 0., 0., 0.],\n",
       "         [0., 0., 0., 0., 0.]],\n",
       "\n",
       "        [[0., 0., 0., 0., 0.],\n",
       "         [0., 0., 0., 0., 0.],\n",
       "         [0., 0., 0., 0., 0.]],\n",
       "\n",
       "        [[0., 0., 0., 0., 0.],\n",
       "         [0., 0., 0., 0., 0.],\n",
       "         [0., 0., 0., 0., 0.]],\n",
       "\n",
       "        [[0., 0., 0., 0., 0.],\n",
       "         [0., 0., 0., 0., 0.],\n",
       "         [0., 0., 0., 0., 0.]]],\n",
       "\n",
       "\n",
       "       [[[0., 0., 0., 0., 0.],\n",
       "         [0., 0., 0., 0., 0.],\n",
       "         [0., 0., 0., 0., 0.]],\n",
       "\n",
       "        [[0., 0., 0., 0., 0.],\n",
       "         [0., 0., 0., 0., 0.],\n",
       "         [0., 0., 0., 0., 0.]],\n",
       "\n",
       "        [[0., 0., 0., 0., 0.],\n",
       "         [0., 0., 0., 0., 0.],\n",
       "         [0., 0., 0., 0., 0.]],\n",
       "\n",
       "        [[0., 0., 0., 0., 0.],\n",
       "         [0., 0., 0., 0., 0.],\n",
       "         [0., 0., 0., 0., 0.]]]])"
      ]
     },
     "execution_count": 66,
     "metadata": {},
     "output_type": "execute_result"
    }
   ],
   "source": [
    "np.zeros((2,4,3,5))"
   ]
  },
  {
   "cell_type": "code",
   "execution_count": 71,
   "id": "a4dc9aa8-dcb6-4f68-b467-b8134cedb981",
   "metadata": {},
   "outputs": [],
   "source": [
    "ar4 = np.zeros((5,3,3,3))"
   ]
  },
  {
   "cell_type": "code",
   "execution_count": 72,
   "id": "db24df34-a42c-46de-99b1-cd12a34ce818",
   "metadata": {},
   "outputs": [
    {
     "data": {
      "text/plain": [
       "4"
      ]
     },
     "execution_count": 72,
     "metadata": {},
     "output_type": "execute_result"
    }
   ],
   "source": [
    "ar4.ndim"
   ]
  },
  {
   "cell_type": "code",
   "execution_count": 73,
   "id": "d3728fcf-737d-4b28-90fc-386b86d8051e",
   "metadata": {},
   "outputs": [
    {
     "data": {
      "text/plain": [
       "array([[[[0., 0., 0.],\n",
       "         [0., 0., 0.],\n",
       "         [0., 0., 0.]],\n",
       "\n",
       "        [[0., 0., 0.],\n",
       "         [0., 0., 0.],\n",
       "         [0., 0., 0.]],\n",
       "\n",
       "        [[0., 0., 0.],\n",
       "         [0., 0., 0.],\n",
       "         [0., 0., 0.]]],\n",
       "\n",
       "\n",
       "       [[[0., 0., 0.],\n",
       "         [0., 0., 0.],\n",
       "         [0., 0., 0.]],\n",
       "\n",
       "        [[0., 0., 0.],\n",
       "         [0., 0., 0.],\n",
       "         [0., 0., 0.]],\n",
       "\n",
       "        [[0., 0., 0.],\n",
       "         [0., 0., 0.],\n",
       "         [0., 0., 0.]]],\n",
       "\n",
       "\n",
       "       [[[0., 0., 0.],\n",
       "         [0., 0., 0.],\n",
       "         [0., 0., 0.]],\n",
       "\n",
       "        [[0., 0., 0.],\n",
       "         [0., 0., 0.],\n",
       "         [0., 0., 0.]],\n",
       "\n",
       "        [[0., 0., 0.],\n",
       "         [0., 0., 0.],\n",
       "         [0., 0., 0.]]],\n",
       "\n",
       "\n",
       "       [[[0., 0., 0.],\n",
       "         [0., 0., 0.],\n",
       "         [0., 0., 0.]],\n",
       "\n",
       "        [[0., 0., 0.],\n",
       "         [0., 0., 0.],\n",
       "         [0., 0., 0.]],\n",
       "\n",
       "        [[0., 0., 0.],\n",
       "         [0., 0., 0.],\n",
       "         [0., 0., 0.]]],\n",
       "\n",
       "\n",
       "       [[[0., 0., 0.],\n",
       "         [0., 0., 0.],\n",
       "         [0., 0., 0.]],\n",
       "\n",
       "        [[0., 0., 0.],\n",
       "         [0., 0., 0.],\n",
       "         [0., 0., 0.]],\n",
       "\n",
       "        [[0., 0., 0.],\n",
       "         [0., 0., 0.],\n",
       "         [0., 0., 0.]]]])"
      ]
     },
     "execution_count": 73,
     "metadata": {},
     "output_type": "execute_result"
    }
   ],
   "source": [
    "ar4"
   ]
  },
  {
   "cell_type": "code",
   "execution_count": 3,
   "id": "7d1221d7-36b4-4f72-9f1c-68130e4c2133",
   "metadata": {},
   "outputs": [
    {
     "data": {
      "text/plain": [
       "array([1., 1., 1., 1.])"
      ]
     },
     "execution_count": 3,
     "metadata": {},
     "output_type": "execute_result"
    }
   ],
   "source": [
    "np.ones(4)"
   ]
  },
  {
   "cell_type": "code",
   "execution_count": 5,
   "id": "1899dba4-07c8-44b4-8102-dbaaf954b0dd",
   "metadata": {},
   "outputs": [],
   "source": [
    "one = np.ones((2,3,3))"
   ]
  },
  {
   "cell_type": "code",
   "execution_count": 6,
   "id": "b8e13dc1-9a1b-4096-9fcb-d29dfce9d30c",
   "metadata": {},
   "outputs": [
    {
     "data": {
      "text/plain": [
       "array([[[1., 1., 1.],\n",
       "        [1., 1., 1.],\n",
       "        [1., 1., 1.]],\n",
       "\n",
       "       [[1., 1., 1.],\n",
       "        [1., 1., 1.],\n",
       "        [1., 1., 1.]]])"
      ]
     },
     "execution_count": 6,
     "metadata": {},
     "output_type": "execute_result"
    }
   ],
   "source": [
    "one"
   ]
  },
  {
   "cell_type": "code",
   "execution_count": 7,
   "id": "999efbdc-8a8b-4cc9-976b-c1f4370cf005",
   "metadata": {},
   "outputs": [
    {
     "data": {
      "text/plain": [
       "array([[[6., 6., 6.],\n",
       "        [6., 6., 6.],\n",
       "        [6., 6., 6.]],\n",
       "\n",
       "       [[6., 6., 6.],\n",
       "        [6., 6., 6.],\n",
       "        [6., 6., 6.]]])"
      ]
     },
     "execution_count": 7,
     "metadata": {},
     "output_type": "execute_result"
    }
   ],
   "source": [
    "one+5"
   ]
  },
  {
   "cell_type": "code",
   "execution_count": 8,
   "id": "38068050-110a-4f10-83c0-c7edcdd55228",
   "metadata": {},
   "outputs": [
    {
     "data": {
      "text/plain": [
       "array([[[5., 5., 5.],\n",
       "        [5., 5., 5.],\n",
       "        [5., 5., 5.]],\n",
       "\n",
       "       [[5., 5., 5.],\n",
       "        [5., 5., 5.],\n",
       "        [5., 5., 5.]]])"
      ]
     },
     "execution_count": 8,
     "metadata": {},
     "output_type": "execute_result"
    }
   ],
   "source": [
    "one*5"
   ]
  },
  {
   "cell_type": "code",
   "execution_count": 9,
   "id": "93f19ddc-1bd4-4af8-b8de-b03650fb862b",
   "metadata": {},
   "outputs": [
    {
     "data": {
      "text/plain": [
       "array([[4.65276984e-310, 0.00000000e+000, 0.00000000e+000,\n",
       "        0.00000000e+000, 0.00000000e+000],\n",
       "       [0.00000000e+000, 0.00000000e+000, 0.00000000e+000,\n",
       "        0.00000000e+000, 0.00000000e+000],\n",
       "       [0.00000000e+000, 0.00000000e+000, 0.00000000e+000,\n",
       "        0.00000000e+000, 6.95238591e-310]])"
      ]
     },
     "execution_count": 9,
     "metadata": {},
     "output_type": "execute_result"
    }
   ],
   "source": [
    "np.empty((3,5))"
   ]
  },
  {
   "cell_type": "code",
   "execution_count": 10,
   "id": "20dd484a-d3f7-493a-9d46-676dc8f049f7",
   "metadata": {},
   "outputs": [
    {
     "data": {
      "text/plain": [
       "array([[1., 0., 0., 0.],\n",
       "       [0., 1., 0., 0.],\n",
       "       [0., 0., 1., 0.],\n",
       "       [0., 0., 0., 1.]])"
      ]
     },
     "execution_count": 10,
     "metadata": {},
     "output_type": "execute_result"
    }
   ],
   "source": [
    "np.eye(4)\n",
    "# except the diogonal all elements are zeros"
   ]
  },
  {
   "cell_type": "code",
   "execution_count": 11,
   "id": "e236f8bc-d522-4c71-877e-2a3187dea1eb",
   "metadata": {},
   "outputs": [
    {
     "data": {
      "text/plain": [
       "array([2.        , 2.10526316, 2.21052632, 2.31578947, 2.42105263,\n",
       "       2.52631579, 2.63157895, 2.73684211, 2.84210526, 2.94736842,\n",
       "       3.05263158, 3.15789474, 3.26315789, 3.36842105, 3.47368421,\n",
       "       3.57894737, 3.68421053, 3.78947368, 3.89473684, 4.        ])"
      ]
     },
     "execution_count": 11,
     "metadata": {},
     "output_type": "execute_result"
    }
   ],
   "source": [
    "np.linspace(2,4,20)\n",
    "# divide range into equal n parts"
   ]
  },
  {
   "cell_type": "code",
   "execution_count": 12,
   "id": "8c1a55f1-181d-4c10-9fe0-a837ea1ec9f2",
   "metadata": {},
   "outputs": [
    {
     "data": {
      "text/plain": [
       "array([   100.        ,    215.443469  ,    464.15888336,   1000.        ,\n",
       "         2154.43469003,   4641.58883361,  10000.        ,  21544.34690032,\n",
       "        46415.88833613, 100000.        ])"
      ]
     },
     "execution_count": 12,
     "metadata": {},
     "output_type": "execute_result"
    }
   ],
   "source": [
    "np.logspace(2,5,10)"
   ]
  },
  {
   "cell_type": "code",
   "execution_count": 13,
   "id": "2b6946f8-2771-40f6-91df-8e14e388c402",
   "metadata": {},
   "outputs": [
    {
     "data": {
      "text/plain": [
       "array([ 4.        ,  5.0396842 ,  6.34960421,  8.        , 10.0793684 ,\n",
       "       12.69920842, 16.        , 20.1587368 , 25.39841683, 32.        ])"
      ]
     },
     "execution_count": 13,
     "metadata": {},
     "output_type": "execute_result"
    }
   ],
   "source": [
    "np.logspace(2,5,10 , base =2)"
   ]
  },
  {
   "cell_type": "code",
   "execution_count": 14,
   "id": "083f27c9-405e-4025-9efb-87ea442bee72",
   "metadata": {},
   "outputs": [
    {
     "data": {
      "text/plain": [
       "array([[ 1.2483099 , -1.29392634,  1.21449557, -0.19265139],\n",
       "       [-1.77858355, -0.06552392, -0.43359423, -0.92337424],\n",
       "       [ 1.54669211,  2.95968168, -0.87727597,  0.16514518]])"
      ]
     },
     "execution_count": 14,
     "metadata": {},
     "output_type": "execute_result"
    }
   ],
   "source": [
    "np.random.randn(3,4)"
   ]
  },
  {
   "cell_type": "code",
   "execution_count": 15,
   "id": "7c765172-e406-4ba1-b162-bbea9694d43c",
   "metadata": {},
   "outputs": [
    {
     "data": {
      "text/plain": [
       "array([[[-7.78709734e-01, -1.44487505e+00,  7.90171116e-01,\n",
       "          6.47762750e-01],\n",
       "        [ 2.76836173e+00, -1.33598946e+00,  3.01806292e-01,\n",
       "         -3.29234826e-02],\n",
       "        [ 8.44558160e-01,  7.61229981e-02,  9.61214125e-01,\n",
       "         -1.52738859e-01]],\n",
       "\n",
       "       [[ 1.45566734e+00, -3.68276880e-01,  1.86264337e+00,\n",
       "          6.22836859e-01],\n",
       "        [ 8.19283151e-01,  3.03308946e-02, -1.60904169e+00,\n",
       "          5.62973514e-01],\n",
       "        [-7.98524043e-01,  7.98209703e-01,  2.18455753e+00,\n",
       "          2.52909443e-03]]])"
      ]
     },
     "execution_count": 15,
     "metadata": {},
     "output_type": "execute_result"
    }
   ],
   "source": [
    "np.random.randn(2,3,4)"
   ]
  },
  {
   "cell_type": "code",
   "execution_count": 16,
   "id": "6247de58-294c-47f1-8f33-22d3834da60e",
   "metadata": {},
   "outputs": [],
   "source": [
    "arr = np.random.randn(3,4)\n",
    "# Here mean of element is equal to zero and std is one"
   ]
  },
  {
   "cell_type": "code",
   "execution_count": 17,
   "id": "0dfd7b6b-9701-40ea-9ceb-6e0d683a6c3a",
   "metadata": {},
   "outputs": [],
   "source": [
    "import pandas as pd"
   ]
  },
  {
   "cell_type": "code",
   "execution_count": 18,
   "id": "94fe2eee-84e5-4cd3-80c2-1fe00c18bb12",
   "metadata": {},
   "outputs": [
    {
     "data": {
      "text/html": [
       "<div>\n",
       "<style scoped>\n",
       "    .dataframe tbody tr th:only-of-type {\n",
       "        vertical-align: middle;\n",
       "    }\n",
       "\n",
       "    .dataframe tbody tr th {\n",
       "        vertical-align: top;\n",
       "    }\n",
       "\n",
       "    .dataframe thead th {\n",
       "        text-align: right;\n",
       "    }\n",
       "</style>\n",
       "<table border=\"1\" class=\"dataframe\">\n",
       "  <thead>\n",
       "    <tr style=\"text-align: right;\">\n",
       "      <th></th>\n",
       "      <th>0</th>\n",
       "      <th>1</th>\n",
       "      <th>2</th>\n",
       "      <th>3</th>\n",
       "    </tr>\n",
       "  </thead>\n",
       "  <tbody>\n",
       "    <tr>\n",
       "      <th>0</th>\n",
       "      <td>0.381879</td>\n",
       "      <td>-1.356621</td>\n",
       "      <td>1.370295</td>\n",
       "      <td>-2.168194</td>\n",
       "    </tr>\n",
       "    <tr>\n",
       "      <th>1</th>\n",
       "      <td>-0.149477</td>\n",
       "      <td>0.315134</td>\n",
       "      <td>-0.177308</td>\n",
       "      <td>-0.384109</td>\n",
       "    </tr>\n",
       "    <tr>\n",
       "      <th>2</th>\n",
       "      <td>0.667880</td>\n",
       "      <td>1.973687</td>\n",
       "      <td>0.933447</td>\n",
       "      <td>-0.361561</td>\n",
       "    </tr>\n",
       "  </tbody>\n",
       "</table>\n",
       "</div>"
      ],
      "text/plain": [
       "          0         1         2         3\n",
       "0  0.381879 -1.356621  1.370295 -2.168194\n",
       "1 -0.149477  0.315134 -0.177308 -0.384109\n",
       "2  0.667880  1.973687  0.933447 -0.361561"
      ]
     },
     "execution_count": 18,
     "metadata": {},
     "output_type": "execute_result"
    }
   ],
   "source": [
    "pd.DataFrame(arr)"
   ]
  },
  {
   "cell_type": "code",
   "execution_count": null,
   "id": "d1d9f111-9779-4400-84ac-084d2d0cad09",
   "metadata": {},
   "outputs": [],
   "source": []
  },
  {
   "cell_type": "code",
   "execution_count": 19,
   "id": "86dc58c0-707b-4e73-a66c-65ab4a7160c6",
   "metadata": {},
   "outputs": [
    {
     "data": {
      "text/plain": [
       "array([[0.00946007, 0.4204764 , 0.42973433, 0.77639423],\n",
       "       [0.5460897 , 0.34381875, 0.96785749, 0.09280734],\n",
       "       [0.45666271, 0.06134333, 0.4576825 , 0.7503869 ]])"
      ]
     },
     "execution_count": 19,
     "metadata": {},
     "output_type": "execute_result"
    }
   ],
   "source": [
    "np.random.rand(3,4)\n"
   ]
  },
  {
   "cell_type": "code",
   "execution_count": 20,
   "id": "f6c81745-d097-45a2-b951-6601afce6f56",
   "metadata": {},
   "outputs": [
    {
     "data": {
      "text/plain": [
       "array([[ 5, 86, 59, 69],\n",
       "       [ 4, 30, 88, 77],\n",
       "       [96, 48, 71, 67]])"
      ]
     },
     "execution_count": 20,
     "metadata": {},
     "output_type": "execute_result"
    }
   ],
   "source": [
    "np.random.randint(1,100,(3,4))"
   ]
  },
  {
   "cell_type": "code",
   "execution_count": 21,
   "id": "eab6ae82-3eee-45df-9491-e802fc4e386a",
   "metadata": {},
   "outputs": [
    {
     "data": {
      "text/html": [
       "<div>\n",
       "<style scoped>\n",
       "    .dataframe tbody tr th:only-of-type {\n",
       "        vertical-align: middle;\n",
       "    }\n",
       "\n",
       "    .dataframe tbody tr th {\n",
       "        vertical-align: top;\n",
       "    }\n",
       "\n",
       "    .dataframe thead th {\n",
       "        text-align: right;\n",
       "    }\n",
       "</style>\n",
       "<table border=\"1\" class=\"dataframe\">\n",
       "  <thead>\n",
       "    <tr style=\"text-align: right;\">\n",
       "      <th></th>\n",
       "      <th>0</th>\n",
       "      <th>1</th>\n",
       "      <th>2</th>\n",
       "      <th>3</th>\n",
       "      <th>4</th>\n",
       "      <th>5</th>\n",
       "      <th>6</th>\n",
       "      <th>7</th>\n",
       "      <th>8</th>\n",
       "      <th>9</th>\n",
       "      <th>...</th>\n",
       "      <th>40</th>\n",
       "      <th>41</th>\n",
       "      <th>42</th>\n",
       "      <th>43</th>\n",
       "      <th>44</th>\n",
       "      <th>45</th>\n",
       "      <th>46</th>\n",
       "      <th>47</th>\n",
       "      <th>48</th>\n",
       "      <th>49</th>\n",
       "    </tr>\n",
       "  </thead>\n",
       "  <tbody>\n",
       "    <tr>\n",
       "      <th>0</th>\n",
       "      <td>246</td>\n",
       "      <td>524</td>\n",
       "      <td>361</td>\n",
       "      <td>583</td>\n",
       "      <td>344</td>\n",
       "      <td>276</td>\n",
       "      <td>179</td>\n",
       "      <td>99</td>\n",
       "      <td>499</td>\n",
       "      <td>654</td>\n",
       "      <td>...</td>\n",
       "      <td>865</td>\n",
       "      <td>60</td>\n",
       "      <td>843</td>\n",
       "      <td>619</td>\n",
       "      <td>883</td>\n",
       "      <td>680</td>\n",
       "      <td>565</td>\n",
       "      <td>852</td>\n",
       "      <td>919</td>\n",
       "      <td>785</td>\n",
       "    </tr>\n",
       "    <tr>\n",
       "      <th>1</th>\n",
       "      <td>679</td>\n",
       "      <td>550</td>\n",
       "      <td>271</td>\n",
       "      <td>94</td>\n",
       "      <td>435</td>\n",
       "      <td>476</td>\n",
       "      <td>100</td>\n",
       "      <td>614</td>\n",
       "      <td>382</td>\n",
       "      <td>65</td>\n",
       "      <td>...</td>\n",
       "      <td>600</td>\n",
       "      <td>397</td>\n",
       "      <td>903</td>\n",
       "      <td>183</td>\n",
       "      <td>250</td>\n",
       "      <td>10</td>\n",
       "      <td>670</td>\n",
       "      <td>285</td>\n",
       "      <td>482</td>\n",
       "      <td>943</td>\n",
       "    </tr>\n",
       "    <tr>\n",
       "      <th>2</th>\n",
       "      <td>234</td>\n",
       "      <td>422</td>\n",
       "      <td>697</td>\n",
       "      <td>189</td>\n",
       "      <td>278</td>\n",
       "      <td>563</td>\n",
       "      <td>584</td>\n",
       "      <td>807</td>\n",
       "      <td>267</td>\n",
       "      <td>305</td>\n",
       "      <td>...</td>\n",
       "      <td>74</td>\n",
       "      <td>82</td>\n",
       "      <td>920</td>\n",
       "      <td>951</td>\n",
       "      <td>267</td>\n",
       "      <td>960</td>\n",
       "      <td>152</td>\n",
       "      <td>889</td>\n",
       "      <td>870</td>\n",
       "      <td>383</td>\n",
       "    </tr>\n",
       "    <tr>\n",
       "      <th>3</th>\n",
       "      <td>576</td>\n",
       "      <td>462</td>\n",
       "      <td>162</td>\n",
       "      <td>329</td>\n",
       "      <td>59</td>\n",
       "      <td>129</td>\n",
       "      <td>599</td>\n",
       "      <td>370</td>\n",
       "      <td>881</td>\n",
       "      <td>781</td>\n",
       "      <td>...</td>\n",
       "      <td>250</td>\n",
       "      <td>443</td>\n",
       "      <td>794</td>\n",
       "      <td>441</td>\n",
       "      <td>294</td>\n",
       "      <td>224</td>\n",
       "      <td>915</td>\n",
       "      <td>807</td>\n",
       "      <td>240</td>\n",
       "      <td>532</td>\n",
       "    </tr>\n",
       "    <tr>\n",
       "      <th>4</th>\n",
       "      <td>232</td>\n",
       "      <td>772</td>\n",
       "      <td>244</td>\n",
       "      <td>453</td>\n",
       "      <td>547</td>\n",
       "      <td>236</td>\n",
       "      <td>288</td>\n",
       "      <td>667</td>\n",
       "      <td>225</td>\n",
       "      <td>215</td>\n",
       "      <td>...</td>\n",
       "      <td>244</td>\n",
       "      <td>34</td>\n",
       "      <td>802</td>\n",
       "      <td>499</td>\n",
       "      <td>614</td>\n",
       "      <td>838</td>\n",
       "      <td>233</td>\n",
       "      <td>593</td>\n",
       "      <td>61</td>\n",
       "      <td>73</td>\n",
       "    </tr>\n",
       "    <tr>\n",
       "      <th>...</th>\n",
       "      <td>...</td>\n",
       "      <td>...</td>\n",
       "      <td>...</td>\n",
       "      <td>...</td>\n",
       "      <td>...</td>\n",
       "      <td>...</td>\n",
       "      <td>...</td>\n",
       "      <td>...</td>\n",
       "      <td>...</td>\n",
       "      <td>...</td>\n",
       "      <td>...</td>\n",
       "      <td>...</td>\n",
       "      <td>...</td>\n",
       "      <td>...</td>\n",
       "      <td>...</td>\n",
       "      <td>...</td>\n",
       "      <td>...</td>\n",
       "      <td>...</td>\n",
       "      <td>...</td>\n",
       "      <td>...</td>\n",
       "      <td>...</td>\n",
       "    </tr>\n",
       "    <tr>\n",
       "      <th>495</th>\n",
       "      <td>644</td>\n",
       "      <td>374</td>\n",
       "      <td>165</td>\n",
       "      <td>207</td>\n",
       "      <td>410</td>\n",
       "      <td>423</td>\n",
       "      <td>905</td>\n",
       "      <td>848</td>\n",
       "      <td>49</td>\n",
       "      <td>897</td>\n",
       "      <td>...</td>\n",
       "      <td>389</td>\n",
       "      <td>638</td>\n",
       "      <td>185</td>\n",
       "      <td>251</td>\n",
       "      <td>583</td>\n",
       "      <td>980</td>\n",
       "      <td>6</td>\n",
       "      <td>793</td>\n",
       "      <td>93</td>\n",
       "      <td>452</td>\n",
       "    </tr>\n",
       "    <tr>\n",
       "      <th>496</th>\n",
       "      <td>296</td>\n",
       "      <td>710</td>\n",
       "      <td>845</td>\n",
       "      <td>983</td>\n",
       "      <td>392</td>\n",
       "      <td>159</td>\n",
       "      <td>640</td>\n",
       "      <td>952</td>\n",
       "      <td>233</td>\n",
       "      <td>525</td>\n",
       "      <td>...</td>\n",
       "      <td>604</td>\n",
       "      <td>418</td>\n",
       "      <td>964</td>\n",
       "      <td>60</td>\n",
       "      <td>236</td>\n",
       "      <td>9</td>\n",
       "      <td>100</td>\n",
       "      <td>388</td>\n",
       "      <td>237</td>\n",
       "      <td>488</td>\n",
       "    </tr>\n",
       "    <tr>\n",
       "      <th>497</th>\n",
       "      <td>184</td>\n",
       "      <td>808</td>\n",
       "      <td>891</td>\n",
       "      <td>891</td>\n",
       "      <td>354</td>\n",
       "      <td>351</td>\n",
       "      <td>946</td>\n",
       "      <td>369</td>\n",
       "      <td>505</td>\n",
       "      <td>899</td>\n",
       "      <td>...</td>\n",
       "      <td>146</td>\n",
       "      <td>634</td>\n",
       "      <td>699</td>\n",
       "      <td>702</td>\n",
       "      <td>209</td>\n",
       "      <td>477</td>\n",
       "      <td>168</td>\n",
       "      <td>252</td>\n",
       "      <td>198</td>\n",
       "      <td>943</td>\n",
       "    </tr>\n",
       "    <tr>\n",
       "      <th>498</th>\n",
       "      <td>595</td>\n",
       "      <td>244</td>\n",
       "      <td>300</td>\n",
       "      <td>434</td>\n",
       "      <td>232</td>\n",
       "      <td>363</td>\n",
       "      <td>349</td>\n",
       "      <td>372</td>\n",
       "      <td>263</td>\n",
       "      <td>863</td>\n",
       "      <td>...</td>\n",
       "      <td>445</td>\n",
       "      <td>858</td>\n",
       "      <td>389</td>\n",
       "      <td>7</td>\n",
       "      <td>199</td>\n",
       "      <td>617</td>\n",
       "      <td>988</td>\n",
       "      <td>889</td>\n",
       "      <td>142</td>\n",
       "      <td>554</td>\n",
       "    </tr>\n",
       "    <tr>\n",
       "      <th>499</th>\n",
       "      <td>198</td>\n",
       "      <td>205</td>\n",
       "      <td>756</td>\n",
       "      <td>75</td>\n",
       "      <td>283</td>\n",
       "      <td>349</td>\n",
       "      <td>68</td>\n",
       "      <td>720</td>\n",
       "      <td>63</td>\n",
       "      <td>687</td>\n",
       "      <td>...</td>\n",
       "      <td>54</td>\n",
       "      <td>422</td>\n",
       "      <td>262</td>\n",
       "      <td>903</td>\n",
       "      <td>139</td>\n",
       "      <td>463</td>\n",
       "      <td>959</td>\n",
       "      <td>359</td>\n",
       "      <td>992</td>\n",
       "      <td>482</td>\n",
       "    </tr>\n",
       "  </tbody>\n",
       "</table>\n",
       "<p>500 rows × 50 columns</p>\n",
       "</div>"
      ],
      "text/plain": [
       "      0    1    2    3    4    5    6    7    8    9   ...   40   41   42  \\\n",
       "0    246  524  361  583  344  276  179   99  499  654  ...  865   60  843   \n",
       "1    679  550  271   94  435  476  100  614  382   65  ...  600  397  903   \n",
       "2    234  422  697  189  278  563  584  807  267  305  ...   74   82  920   \n",
       "3    576  462  162  329   59  129  599  370  881  781  ...  250  443  794   \n",
       "4    232  772  244  453  547  236  288  667  225  215  ...  244   34  802   \n",
       "..   ...  ...  ...  ...  ...  ...  ...  ...  ...  ...  ...  ...  ...  ...   \n",
       "495  644  374  165  207  410  423  905  848   49  897  ...  389  638  185   \n",
       "496  296  710  845  983  392  159  640  952  233  525  ...  604  418  964   \n",
       "497  184  808  891  891  354  351  946  369  505  899  ...  146  634  699   \n",
       "498  595  244  300  434  232  363  349  372  263  863  ...  445  858  389   \n",
       "499  198  205  756   75  283  349   68  720   63  687  ...   54  422  262   \n",
       "\n",
       "      43   44   45   46   47   48   49  \n",
       "0    619  883  680  565  852  919  785  \n",
       "1    183  250   10  670  285  482  943  \n",
       "2    951  267  960  152  889  870  383  \n",
       "3    441  294  224  915  807  240  532  \n",
       "4    499  614  838  233  593   61   73  \n",
       "..   ...  ...  ...  ...  ...  ...  ...  \n",
       "495  251  583  980    6  793   93  452  \n",
       "496   60  236    9  100  388  237  488  \n",
       "497  702  209  477  168  252  198  943  \n",
       "498    7  199  617  988  889  142  554  \n",
       "499  903  139  463  959  359  992  482  \n",
       "\n",
       "[500 rows x 50 columns]"
      ]
     },
     "execution_count": 21,
     "metadata": {},
     "output_type": "execute_result"
    }
   ],
   "source": [
    "pd.DataFrame(np.random.randint(1,1000,(500,50)))"
   ]
  },
  {
   "cell_type": "code",
   "execution_count": 23,
   "id": "63a578c5-00f1-44b8-aaa2-e0e92085ee02",
   "metadata": {},
   "outputs": [],
   "source": [
    "pd.DataFrame(np.random.randint(1,1000,(500,50))).to_csv('test.csv')\n"
   ]
  },
  {
   "cell_type": "code",
   "execution_count": 24,
   "id": "b8426777-f93b-44b1-90ec-0b6e6d54027f",
   "metadata": {},
   "outputs": [],
   "source": [
    "arr = np.random.rand(3,4)"
   ]
  },
  {
   "cell_type": "code",
   "execution_count": 25,
   "id": "d7d8de7d-2b43-4545-92da-10edf1e53885",
   "metadata": {},
   "outputs": [
    {
     "data": {
      "text/plain": [
       "array([[0.92087675, 0.18504208, 0.09642202, 0.61034129],\n",
       "       [0.5068335 , 0.55921064, 0.90276258, 0.19663501],\n",
       "       [0.77587434, 0.51360548, 0.97095379, 0.01336972]])"
      ]
     },
     "execution_count": 25,
     "metadata": {},
     "output_type": "execute_result"
    }
   ],
   "source": [
    "arr"
   ]
  },
  {
   "cell_type": "code",
   "execution_count": 27,
   "id": "13c82a36-ad10-421f-8fd9-a92a49485b7e",
   "metadata": {},
   "outputs": [
    {
     "data": {
      "text/plain": [
       "array([[0.92087675, 0.18504208],\n",
       "       [0.09642202, 0.61034129],\n",
       "       [0.5068335 , 0.55921064],\n",
       "       [0.90276258, 0.19663501],\n",
       "       [0.77587434, 0.51360548],\n",
       "       [0.97095379, 0.01336972]])"
      ]
     },
     "execution_count": 27,
     "metadata": {},
     "output_type": "execute_result"
    }
   ],
   "source": [
    "# How to change sape of the array\n",
    "arr.reshape(6,2)\n",
    "# but total element must be equal to the array elements"
   ]
  },
  {
   "cell_type": "code",
   "execution_count": 28,
   "id": "9d80c285-eaed-4f1e-afe3-27352c4b9689",
   "metadata": {},
   "outputs": [
    {
     "ename": "ValueError",
     "evalue": "cannot reshape array of size 12 into shape (6,7)",
     "output_type": "error",
     "traceback": [
      "\u001b[0;31m---------------------------------------------------------------------------\u001b[0m",
      "\u001b[0;31mValueError\u001b[0m                                Traceback (most recent call last)",
      "Cell \u001b[0;32mIn[28], line 1\u001b[0m\n\u001b[0;32m----> 1\u001b[0m \u001b[43marr\u001b[49m\u001b[38;5;241;43m.\u001b[39;49m\u001b[43mreshape\u001b[49m\u001b[43m(\u001b[49m\u001b[38;5;241;43m6\u001b[39;49m\u001b[43m,\u001b[49m\u001b[38;5;241;43m7\u001b[39;49m\u001b[43m)\u001b[49m\n",
      "\u001b[0;31mValueError\u001b[0m: cannot reshape array of size 12 into shape (6,7)"
     ]
    }
   ],
   "source": [
    "arr.reshape(6,7)"
   ]
  },
  {
   "cell_type": "code",
   "execution_count": 30,
   "id": "70e202d9-29e0-49b2-8dd1-fc906376f63e",
   "metadata": {},
   "outputs": [
    {
     "data": {
      "text/plain": [
       "array([[0.92087675, 0.18504208],\n",
       "       [0.09642202, 0.61034129],\n",
       "       [0.5068335 , 0.55921064],\n",
       "       [0.90276258, 0.19663501],\n",
       "       [0.77587434, 0.51360548],\n",
       "       [0.97095379, 0.01336972]])"
      ]
     },
     "execution_count": 30,
     "metadata": {},
     "output_type": "execute_result"
    }
   ],
   "source": [
    "arr.reshape(6,-1)"
   ]
  },
  {
   "cell_type": "code",
   "execution_count": 31,
   "id": "d7ec86d7-5372-42b0-a313-7681ff0b7613",
   "metadata": {},
   "outputs": [
    {
     "data": {
      "text/plain": [
       "array([[0.92087675, 0.18504208],\n",
       "       [0.09642202, 0.61034129],\n",
       "       [0.5068335 , 0.55921064],\n",
       "       [0.90276258, 0.19663501],\n",
       "       [0.77587434, 0.51360548],\n",
       "       [0.97095379, 0.01336972]])"
      ]
     },
     "execution_count": 31,
     "metadata": {},
     "output_type": "execute_result"
    }
   ],
   "source": [
    "arr.reshape(6,-34)"
   ]
  },
  {
   "cell_type": "code",
   "execution_count": 35,
   "id": "65d49003-810e-4071-bf30-41374b011e56",
   "metadata": {},
   "outputs": [],
   "source": [
    "# How to featch data\n",
    "arr1 = arr.reshape(6,2)"
   ]
  },
  {
   "cell_type": "code",
   "execution_count": 36,
   "id": "49d334f0-828c-46fc-a2eb-4719bceda7b0",
   "metadata": {},
   "outputs": [
    {
     "data": {
      "text/plain": [
       "array([[0.92087675, 0.18504208],\n",
       "       [0.09642202, 0.61034129],\n",
       "       [0.5068335 , 0.55921064],\n",
       "       [0.90276258, 0.19663501],\n",
       "       [0.77587434, 0.51360548],\n",
       "       [0.97095379, 0.01336972]])"
      ]
     },
     "execution_count": 36,
     "metadata": {},
     "output_type": "execute_result"
    }
   ],
   "source": [
    "arr1"
   ]
  },
  {
   "cell_type": "code",
   "execution_count": 37,
   "id": "67bbb286-6122-4a18-bb3e-67ed19179b41",
   "metadata": {},
   "outputs": [
    {
     "data": {
      "text/plain": [
       "0.6103412904482449"
      ]
     },
     "execution_count": 37,
     "metadata": {},
     "output_type": "execute_result"
    }
   ],
   "source": [
    "arr1[1][1]"
   ]
  },
  {
   "cell_type": "code",
   "execution_count": 38,
   "id": "e5ec3098-0374-4caa-9c4c-d50100c2da53",
   "metadata": {},
   "outputs": [
    {
     "data": {
      "text/plain": [
       "array([[0.5068335 , 0.55921064],\n",
       "       [0.90276258, 0.19663501],\n",
       "       [0.77587434, 0.51360548]])"
      ]
     },
     "execution_count": 38,
     "metadata": {},
     "output_type": "execute_result"
    }
   ],
   "source": [
    "arr1[2:5]"
   ]
  },
  {
   "cell_type": "code",
   "execution_count": 39,
   "id": "35a0de6c-e55b-4782-8e4d-0cf43de838eb",
   "metadata": {},
   "outputs": [
    {
     "data": {
      "text/plain": [
       "array([0.55921064, 0.19663501, 0.51360548])"
      ]
     },
     "execution_count": 39,
     "metadata": {},
     "output_type": "execute_result"
    }
   ],
   "source": [
    "arr1[2:5 , 1]"
   ]
  },
  {
   "cell_type": "code",
   "execution_count": 41,
   "id": "a527046c-f83f-4e45-941c-fce60beda8c8",
   "metadata": {},
   "outputs": [],
   "source": [
    "arr = np.random.randint(1,100,(5,5))"
   ]
  },
  {
   "cell_type": "code",
   "execution_count": 42,
   "id": "e4de9348-b96c-4cac-bc5f-1a0a78eafa6c",
   "metadata": {},
   "outputs": [
    {
     "data": {
      "text/plain": [
       "array([[ 7, 22, 81, 87, 27],\n",
       "       [58, 23, 75, 61, 41],\n",
       "       [ 6,  3, 83, 83, 73],\n",
       "       [ 4, 92,  4, 40, 97],\n",
       "       [65, 52, 98, 67, 92]])"
      ]
     },
     "execution_count": 42,
     "metadata": {},
     "output_type": "execute_result"
    }
   ],
   "source": [
    "arr"
   ]
  },
  {
   "cell_type": "code",
   "execution_count": 43,
   "id": "14460f19-3066-4055-b17c-7225d63387d5",
   "metadata": {},
   "outputs": [
    {
     "data": {
      "text/plain": [
       "array([[False, False,  True,  True, False],\n",
       "       [ True, False,  True,  True, False],\n",
       "       [False, False,  True,  True,  True],\n",
       "       [False,  True, False, False,  True],\n",
       "       [ True,  True,  True,  True,  True]])"
      ]
     },
     "execution_count": 43,
     "metadata": {},
     "output_type": "execute_result"
    }
   ],
   "source": [
    "# fetch data which is greather that 50\n",
    "arr>50"
   ]
  },
  {
   "cell_type": "code",
   "execution_count": 44,
   "id": "fce7d8ee-37e3-462f-baad-2daaadea814e",
   "metadata": {},
   "outputs": [
    {
     "data": {
      "text/plain": [
       "array([81, 87, 58, 75, 61, 83, 83, 73, 92, 97, 65, 52, 98, 67, 92])"
      ]
     },
     "execution_count": 44,
     "metadata": {},
     "output_type": "execute_result"
    }
   ],
   "source": [
    "arr[arr>50]"
   ]
  },
  {
   "cell_type": "code",
   "execution_count": 45,
   "id": "06b68620-a665-4afe-84bf-de90b17c19e9",
   "metadata": {},
   "outputs": [
    {
     "data": {
      "text/plain": [
       "array([[ 3, 83],\n",
       "       [92,  4]])"
      ]
     },
     "execution_count": 45,
     "metadata": {},
     "output_type": "execute_result"
    }
   ],
   "source": [
    "arr[2:4 , [1,2]]"
   ]
  },
  {
   "cell_type": "code",
   "execution_count": 46,
   "id": "9b6bbb45-99b3-4c9a-80b8-119213cbbb1a",
   "metadata": {},
   "outputs": [],
   "source": [
    "arr[0][0] = 500"
   ]
  },
  {
   "cell_type": "code",
   "execution_count": 47,
   "id": "c7dfa20f-7525-4b32-8598-28be11e5005a",
   "metadata": {},
   "outputs": [
    {
     "data": {
      "text/plain": [
       "array([[500,  22,  81,  87,  27],\n",
       "       [ 58,  23,  75,  61,  41],\n",
       "       [  6,   3,  83,  83,  73],\n",
       "       [  4,  92,   4,  40,  97],\n",
       "       [ 65,  52,  98,  67,  92]])"
      ]
     },
     "execution_count": 47,
     "metadata": {},
     "output_type": "execute_result"
    }
   ],
   "source": [
    "arr"
   ]
  },
  {
   "cell_type": "code",
   "execution_count": 49,
   "id": "369b7937-1143-4f12-b1eb-7f29ae06b441",
   "metadata": {},
   "outputs": [],
   "source": [
    "arr1  = np.random.randint(1,3,(3,3))\n",
    "arr2  = np.random.randint(1,3,(3,3))"
   ]
  },
  {
   "cell_type": "code",
   "execution_count": 50,
   "id": "ad999005-a95f-4cb5-a4c4-4bb083f45e06",
   "metadata": {},
   "outputs": [
    {
     "data": {
      "text/plain": [
       "array([[2, 1, 1],\n",
       "       [2, 1, 2],\n",
       "       [1, 2, 2]])"
      ]
     },
     "execution_count": 50,
     "metadata": {},
     "output_type": "execute_result"
    }
   ],
   "source": [
    "arr1"
   ]
  },
  {
   "cell_type": "code",
   "execution_count": 51,
   "id": "2e59bad1-83eb-4a06-9b37-8b2f1ef90b4b",
   "metadata": {},
   "outputs": [
    {
     "data": {
      "text/plain": [
       "array([[2, 1, 2],\n",
       "       [2, 1, 2],\n",
       "       [1, 2, 1]])"
      ]
     },
     "execution_count": 51,
     "metadata": {},
     "output_type": "execute_result"
    }
   ],
   "source": [
    "arr2"
   ]
  },
  {
   "cell_type": "code",
   "execution_count": 52,
   "id": "402e6ab2-9638-4391-9d2a-eddef96c440f",
   "metadata": {},
   "outputs": [
    {
     "data": {
      "text/plain": [
       "array([[4, 2, 3],\n",
       "       [4, 2, 4],\n",
       "       [2, 4, 3]])"
      ]
     },
     "execution_count": 52,
     "metadata": {},
     "output_type": "execute_result"
    }
   ],
   "source": [
    "arr1+arr2"
   ]
  },
  {
   "cell_type": "code",
   "execution_count": 53,
   "id": "cffb327f-c625-484a-a02f-a05faca6d2e0",
   "metadata": {},
   "outputs": [
    {
     "data": {
      "text/plain": [
       "array([[ 0,  0, -1],\n",
       "       [ 0,  0,  0],\n",
       "       [ 0,  0,  1]])"
      ]
     },
     "execution_count": 53,
     "metadata": {},
     "output_type": "execute_result"
    }
   ],
   "source": [
    "arr1-arr2"
   ]
  },
  {
   "cell_type": "code",
   "execution_count": 54,
   "id": "0ef79a6d-9d28-4b15-9976-fba9a5626bc0",
   "metadata": {},
   "outputs": [
    {
     "data": {
      "text/plain": [
       "array([[1. , 1. , 0.5],\n",
       "       [1. , 1. , 1. ],\n",
       "       [1. , 1. , 2. ]])"
      ]
     },
     "execution_count": 54,
     "metadata": {},
     "output_type": "execute_result"
    }
   ],
   "source": [
    "arr1/arr2"
   ]
  },
  {
   "cell_type": "code",
   "execution_count": 55,
   "id": "2b82ad7c-a6ce-4588-b96d-b87de9cdcce4",
   "metadata": {},
   "outputs": [
    {
     "data": {
      "text/plain": [
       "array([[4, 1, 2],\n",
       "       [4, 1, 4],\n",
       "       [1, 4, 2]])"
      ]
     },
     "execution_count": 55,
     "metadata": {},
     "output_type": "execute_result"
    }
   ],
   "source": [
    "arr1*arr2\n",
    "# It is not a metrix multiplation , it is simple indexing multiplation"
   ]
  },
  {
   "cell_type": "code",
   "execution_count": 56,
   "id": "a9692e4f-7087-4567-b522-1be6975dc5e7",
   "metadata": {},
   "outputs": [
    {
     "data": {
      "text/plain": [
       "array([[7, 5, 7],\n",
       "       [8, 7, 8],\n",
       "       [8, 7, 8]])"
      ]
     },
     "execution_count": 56,
     "metadata": {},
     "output_type": "execute_result"
    }
   ],
   "source": [
    "arr1@arr2\n",
    "# it ie metrix multiplation"
   ]
  },
  {
   "cell_type": "code",
   "execution_count": 58,
   "id": "82de3429-056d-4753-802f-935e65fcadca",
   "metadata": {},
   "outputs": [
    {
     "name": "stderr",
     "output_type": "stream",
     "text": [
      "/tmp/ipykernel_77/1510032488.py:1: RuntimeWarning: divide by zero encountered in divide\n",
      "  arr1/0\n"
     ]
    },
    {
     "data": {
      "text/plain": [
       "array([[inf, inf, inf],\n",
       "       [inf, inf, inf],\n",
       "       [inf, inf, inf]])"
      ]
     },
     "execution_count": 58,
     "metadata": {},
     "output_type": "execute_result"
    }
   ],
   "source": [
    "arr1/0"
   ]
  },
  {
   "cell_type": "code",
   "execution_count": 59,
   "id": "f2df259d-fe5c-4957-94a9-8513df6f4127",
   "metadata": {},
   "outputs": [
    {
     "data": {
      "text/plain": [
       "array([[102, 101, 101],\n",
       "       [102, 101, 102],\n",
       "       [101, 102, 102]])"
      ]
     },
     "execution_count": 59,
     "metadata": {},
     "output_type": "execute_result"
    }
   ],
   "source": [
    "arr1+100"
   ]
  },
  {
   "cell_type": "code",
   "execution_count": 60,
   "id": "575fc7ca-ab59-4919-ae77-a54b64fb75f3",
   "metadata": {},
   "outputs": [
    {
     "data": {
      "text/plain": [
       "array([[4, 1, 1],\n",
       "       [4, 1, 4],\n",
       "       [1, 4, 4]])"
      ]
     },
     "execution_count": 60,
     "metadata": {},
     "output_type": "execute_result"
    }
   ],
   "source": [
    "arr1**2\n",
    "# power of two"
   ]
  },
  {
   "cell_type": "code",
   "execution_count": 61,
   "id": "e0b00b0c-403c-49c6-8d6a-1d7dd8dfdf1e",
   "metadata": {},
   "outputs": [],
   "source": [
    "# Numpyn -  Broadcasting"
   ]
  },
  {
   "cell_type": "code",
   "execution_count": 63,
   "id": "f96517f9-ab3e-4603-bfec-1b6a9bcca122",
   "metadata": {},
   "outputs": [],
   "source": [
    "arr = np.zeros((4,4))"
   ]
  },
  {
   "cell_type": "code",
   "execution_count": 66,
   "id": "269db234-0387-42a2-aa19-f935c3772bb0",
   "metadata": {},
   "outputs": [],
   "source": [
    "row = np.array([1,2,3,4])"
   ]
  },
  {
   "cell_type": "code",
   "execution_count": 67,
   "id": "3c5cd1a2-2445-43f1-a48b-7041603486f2",
   "metadata": {},
   "outputs": [
    {
     "data": {
      "text/plain": [
       "array([1, 2, 3, 4])"
      ]
     },
     "execution_count": 67,
     "metadata": {},
     "output_type": "execute_result"
    }
   ],
   "source": [
    "row"
   ]
  },
  {
   "cell_type": "code",
   "execution_count": 68,
   "id": "31bf3fe5-3bb8-4dac-bfc3-c7120832583b",
   "metadata": {},
   "outputs": [
    {
     "data": {
      "text/plain": [
       "array([[1., 2., 3., 4.],\n",
       "       [1., 2., 3., 4.],\n",
       "       [1., 2., 3., 4.],\n",
       "       [1., 2., 3., 4.]])"
      ]
     },
     "execution_count": 68,
     "metadata": {},
     "output_type": "execute_result"
    }
   ],
   "source": [
    "arr + row\n",
    "# addditon on all the row value , "
   ]
  },
  {
   "cell_type": "code",
   "execution_count": 69,
   "id": "2762b753-91f7-4b49-a8eb-aa192f309895",
   "metadata": {},
   "outputs": [
    {
     "data": {
      "text/plain": [
       "array([1, 2, 3, 4])"
      ]
     },
     "execution_count": 69,
     "metadata": {},
     "output_type": "execute_result"
    }
   ],
   "source": [
    "# how to add column wise\n",
    "row.T\n",
    "# not able to tranpose , because it is one dimentional"
   ]
  },
  {
   "cell_type": "code",
   "execution_count": 70,
   "id": "69897696-a128-4321-95dd-404d8b61e8b2",
   "metadata": {},
   "outputs": [],
   "source": [
    "col = np.array([[1,2,4,5]])"
   ]
  },
  {
   "cell_type": "code",
   "execution_count": 71,
   "id": "dae8fb40-f373-4026-8f71-793d7f0e62b1",
   "metadata": {},
   "outputs": [
    {
     "data": {
      "text/plain": [
       "array([[1],\n",
       "       [2],\n",
       "       [4],\n",
       "       [5]])"
      ]
     },
     "execution_count": 71,
     "metadata": {},
     "output_type": "execute_result"
    }
   ],
   "source": [
    "col.T"
   ]
  },
  {
   "cell_type": "code",
   "execution_count": 73,
   "id": "cbb40c6c-2a81-41fc-954c-742628f1e37c",
   "metadata": {},
   "outputs": [
    {
     "data": {
      "text/plain": [
       "array([[1., 1., 1., 1.],\n",
       "       [2., 2., 2., 2.],\n",
       "       [4., 4., 4., 4.],\n",
       "       [5., 5., 5., 5.]])"
      ]
     },
     "execution_count": 73,
     "metadata": {},
     "output_type": "execute_result"
    }
   ],
   "source": [
    "arr+col.T\n",
    "# column wise broadcasting"
   ]
  },
  {
   "cell_type": "code",
   "execution_count": 75,
   "id": "9f925f36-4988-4b09-98cb-3f4003c74e34",
   "metadata": {},
   "outputs": [],
   "source": [
    "arr1 = np.random.randint(1,4,(3,4))"
   ]
  },
  {
   "cell_type": "code",
   "execution_count": 76,
   "id": "35fd31d5-7e5b-40f1-a8a0-59262d5d687c",
   "metadata": {},
   "outputs": [
    {
     "data": {
      "text/plain": [
       "array([[1, 1, 1, 3],\n",
       "       [2, 2, 1, 3],\n",
       "       [2, 3, 3, 3]])"
      ]
     },
     "execution_count": 76,
     "metadata": {},
     "output_type": "execute_result"
    }
   ],
   "source": [
    "arr1"
   ]
  },
  {
   "cell_type": "code",
   "execution_count": 77,
   "id": "b6514e46-c783-46c0-8a5a-7c8d589286d4",
   "metadata": {},
   "outputs": [
    {
     "data": {
      "text/plain": [
       "array([[1.        , 1.        , 1.        , 1.73205081],\n",
       "       [1.41421356, 1.41421356, 1.        , 1.73205081],\n",
       "       [1.41421356, 1.73205081, 1.73205081, 1.73205081]])"
      ]
     },
     "execution_count": 77,
     "metadata": {},
     "output_type": "execute_result"
    }
   ],
   "source": [
    "np.sqrt(arr1)"
   ]
  },
  {
   "cell_type": "code",
   "execution_count": 78,
   "id": "0e4306b6-3ce8-4ec0-af7a-c33167a034c2",
   "metadata": {},
   "outputs": [
    {
     "data": {
      "text/plain": [
       "array([[ 2.71828183,  2.71828183,  2.71828183, 20.08553692],\n",
       "       [ 7.3890561 ,  7.3890561 ,  2.71828183, 20.08553692],\n",
       "       [ 7.3890561 , 20.08553692, 20.08553692, 20.08553692]])"
      ]
     },
     "execution_count": 78,
     "metadata": {},
     "output_type": "execute_result"
    }
   ],
   "source": [
    "np.exp(arr1)"
   ]
  },
  {
   "cell_type": "code",
   "execution_count": 79,
   "id": "39fce340-1dfe-45a1-b731-e245acad81ad",
   "metadata": {},
   "outputs": [
    {
     "data": {
      "text/plain": [
       "array([[0.        , 0.        , 0.        , 0.47712125],\n",
       "       [0.30103   , 0.30103   , 0.        , 0.47712125],\n",
       "       [0.30103   , 0.47712125, 0.47712125, 0.47712125]])"
      ]
     },
     "execution_count": 79,
     "metadata": {},
     "output_type": "execute_result"
    }
   ],
   "source": [
    "np.log10(arr1)"
   ]
  },
  {
   "cell_type": "code",
   "execution_count": null,
   "id": "f78bd7cd-cadc-4b8f-9ea2-9f24668c0c94",
   "metadata": {},
   "outputs": [],
   "source": []
  },
  {
   "cell_type": "code",
   "execution_count": null,
   "id": "ff997441-e2e0-45b6-9b88-1361d8ab7496",
   "metadata": {},
   "outputs": [],
   "source": [
    "# Images is in the form of the array . Colorful images is 2-d  , black and white is 1-d"
   ]
  }
 ],
 "metadata": {
  "kernelspec": {
   "display_name": "Python 3 (ipykernel)",
   "language": "python",
   "name": "python3"
  },
  "language_info": {
   "codemirror_mode": {
    "name": "ipython",
    "version": 3
   },
   "file_extension": ".py",
   "mimetype": "text/x-python",
   "name": "python",
   "nbconvert_exporter": "python",
   "pygments_lexer": "ipython3",
   "version": "3.10.8"
  }
 },
 "nbformat": 4,
 "nbformat_minor": 5
}
