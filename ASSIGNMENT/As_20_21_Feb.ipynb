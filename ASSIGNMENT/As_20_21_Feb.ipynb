{
 "cells": [
  {
   "cell_type": "code",
   "execution_count": null,
   "id": "2006a01a-9a8a-4113-8e03-f7a14cf12cec",
   "metadata": {},
   "outputs": [],
   "source": [
    "# Q1. What is Web Scraping? Why is it Used? Give three areas where Web Scraping is used to get data.\n",
    "\n",
    "'''Web Scraping : web Scraping is also known as data extraction , it is a tachenique of extracting data from a website automatically from any website \n",
    "some tools of code. It analysic website Html structure and extract data base on some conditions , keywords or tags.  '''\n",
    "\n",
    "# 1. web scraping is use to data collection , it is used in many oraginasition for data gathering.\n",
    "# 2. web scraping is use for compatative analysis, it gather data form many website and compare information on the base of their priority.\n",
    "\n",
    "\n",
    "# Web scraping is used in the E-commarace , Social Media ,  research and analysis , stock market analysis."
   ]
  },
  {
   "cell_type": "code",
   "execution_count": null,
   "id": "1d1efd0e-3bc5-411b-ae10-f7250f510d03",
   "metadata": {},
   "outputs": [],
   "source": []
  },
  {
   "cell_type": "code",
   "execution_count": 2,
   "id": "49bc2faf-5504-4cbb-8a28-0976a38417bf",
   "metadata": {},
   "outputs": [],
   "source": [
    "# Q2. What are the different methods used for Web Scraping?\n",
    "\n",
    "# methods for web scraping : \n",
    "# 1. parsing HTML :  This involves parsing the HTML code of a website using a programming language like Python or JavaScript to extract specific information.\n",
    "# 2 . Using Web Scraping Tools: Web scraping tools like BeautifulSoup, Scrapy, and Puppeteer are available that can help automate the process of extracting data from websites.\n",
    "# 3. Using APIs: Some websites offer APIs that allow developers to access specific data in a structured way.This is more reliable method.\n"
   ]
  },
  {
   "cell_type": "code",
   "execution_count": null,
   "id": "c599463f-d5c2-4e45-97ac-5702c47077f1",
   "metadata": {},
   "outputs": [],
   "source": []
  },
  {
   "cell_type": "code",
   "execution_count": null,
   "id": "7b3e254e-ec55-4a2e-9d31-e5f557dc26fa",
   "metadata": {},
   "outputs": [],
   "source": [
    "# Q3. What is Beautiful Soup? Why is it used?\n",
    "\n",
    "'''Beautifuol soup : Beautiful Soup is a Python library used for web scraping purposes. It is designed to make parsing HTML and XML files \n",
    "easier and more efficient. It make web page HTML code more structure.'''\n",
    "\n",
    "# Beautiful Soup is used for various web scraping tasks, such as:\n",
    "# 1 Extracting Data : it is used ot extract data form any website in more structure way\n",
    "# 2. Parsing HTML and XML:Beautiful Soup can parse HTML and XML files, making it possible to extract data from complex web pages and APIs.\n",
    "# 3 . Automating Web Scraping\n",
    "# 4 . Cleaning HTML Data\n",
    "\n",
    "\n"
   ]
  },
  {
   "cell_type": "code",
   "execution_count": null,
   "id": "f37cf38a-3716-4823-afd5-f088d009953e",
   "metadata": {},
   "outputs": [],
   "source": []
  },
  {
   "cell_type": "code",
   "execution_count": 3,
   "id": "5c4a6fd1-e3d8-42cd-8c6c-2fa9c8495b68",
   "metadata": {},
   "outputs": [],
   "source": [
    "# Q4. Why is flask used in this Web Scraping project?\n",
    "\n",
    "# 1. Flask is a python web framwork which is used for building web applications.It is a light weight and more reailible framwork that allows to developers for quicky and easily create web applications and api.\n",
    "# 2 . Flask is used for routing a web application \n",
    "# 3. Integration with other Python Libraries: flask is compitable with various python libraries and tools\n",
    "# 4. Easy to use: Flask is a very beginner-friendly web framework that is easy to learn and use.\n",
    "# 5. Easy to deploy: Flask can be deployed easily on various platforms such as Heroku, AWS, and Google Cloud Platform."
   ]
  },
  {
   "cell_type": "code",
   "execution_count": null,
   "id": "b555ceef-a859-414d-b861-d56168746c1b",
   "metadata": {},
   "outputs": [],
   "source": []
  },
  {
   "cell_type": "code",
   "execution_count": null,
   "id": "0410f59e-7bae-4703-b7cb-906ef831a22c",
   "metadata": {},
   "outputs": [],
   "source": [
    "# Q5. Write the names of AWS services used in this project. Also, explain the use of each service.\n",
    "\n",
    "''' Elastic Beanstalk : Elastic Beanstalk is a service for deploying and scaling web applications and services.\n",
    "Upload your code and Elastic Beanstalk automatically handles the deployment—from capacity provisioning, load balancing,\n",
    "and auto scaling to application health monitoring.'''\n"
   ]
  }
 ],
 "metadata": {
  "kernelspec": {
   "display_name": "Python 3 (ipykernel)",
   "language": "python",
   "name": "python3"
  },
  "language_info": {
   "codemirror_mode": {
    "name": "ipython",
    "version": 3
   },
   "file_extension": ".py",
   "mimetype": "text/x-python",
   "name": "python",
   "nbconvert_exporter": "python",
   "pygments_lexer": "ipython3",
   "version": "3.10.8"
  }
 },
 "nbformat": 4,
 "nbformat_minor": 5
}
