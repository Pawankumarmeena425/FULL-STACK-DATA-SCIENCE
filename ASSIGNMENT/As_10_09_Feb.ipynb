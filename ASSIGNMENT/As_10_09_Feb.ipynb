{
 "cells": [
  {
   "cell_type": "code",
   "execution_count": 14,
   "id": "2f4f2d9b-21ad-403d-864c-9da79df7f3a2",
   "metadata": {},
   "outputs": [],
   "source": [
    "# Answer no : 01\n",
    "class vehicle:\n",
    "    \n",
    "    def __init__(self,name_of_vehicle,max_speed,average_of_vehicle):\n",
    "        self.name_of_vehicle = name_of_vehicle\n",
    "        self.max_speed = max_speed\n",
    "        self.average_of_vehicle = average_of_vehicle\n",
    "        \n",
    "    def name_of_car(self):\n",
    "        return self.name_of_vehicle"
   ]
  },
  {
   "cell_type": "code",
   "execution_count": 37,
   "id": "3605cfd8-5f93-48f7-8111-0c5f9fa7ebe1",
   "metadata": {},
   "outputs": [],
   "source": [
    "# Answer no : 02\n",
    "class car(vehicle):\n",
    "    def seating_capacity(self,seating_capacity):\n",
    "        self.seating_capacity = seating_capacity\n",
    "        return self.name_of_vehicle,self.seating_capacity  "
   ]
  },
  {
   "cell_type": "code",
   "execution_count": 41,
   "id": "02dc8063-decf-4f52-88a8-6d6e1fa2ddfc",
   "metadata": {},
   "outputs": [],
   "source": [
    "obj1 = car(\"innova\",140,80)"
   ]
  },
  {
   "cell_type": "code",
   "execution_count": 42,
   "id": "9a922afa-e047-42b9-9898-bf2dd9150e2e",
   "metadata": {},
   "outputs": [
    {
     "data": {
      "text/plain": [
       "('innova', 8)"
      ]
     },
     "execution_count": 42,
     "metadata": {},
     "output_type": "execute_result"
    }
   ],
   "source": [
    "obj1.seating_capacity(8)\n"
   ]
  },
  {
   "cell_type": "code",
   "execution_count": 44,
   "id": "e44cf237-4269-4845-b95c-c0e9de6a8dc8",
   "metadata": {},
   "outputs": [],
   "source": [
    "# Answer no : 03\n",
    "# Multiple Inheritance : when more the one parents class  is inheriate by a single childs class\n",
    "class mother:\n",
    "    def test1(self):\n",
    "        return \"Now child inheriate a mother class\"\n",
    "class father :\n",
    "    def test2(self):\n",
    "        return \"Now child inheriate a father class\"\n",
    "class child(mother,father):\n",
    "    pass"
   ]
  },
  {
   "cell_type": "code",
   "execution_count": 48,
   "id": "2ff01d48-991f-4017-8087-9dd42cbaff9b",
   "metadata": {},
   "outputs": [
    {
     "data": {
      "text/plain": [
       "'Now child inheriate a father class'"
      ]
     },
     "execution_count": 48,
     "metadata": {},
     "output_type": "execute_result"
    }
   ],
   "source": [
    "obj3=  child()\n",
    "obj3.test1()\n",
    "obj3.test2()"
   ]
  },
  {
   "cell_type": "code",
   "execution_count": 56,
   "id": "430af29b-cd25-40e2-b380-414e36d320f5",
   "metadata": {},
   "outputs": [],
   "source": [
    "# Answer no : 04\n",
    "# Gatter  and Setter function are use to access and modifiy class methods or attributes . Getter method use to get the values form class , which may be protacted . And setter method use to modifiy value, or assign new value\n",
    "class Account:\n",
    "    def __init__(self,name,account_no,amount):\n",
    "        self.name = name\n",
    "        self.__account_no  =account_no\n",
    "        self.__amount = amount\n",
    "        \n",
    "    def get_account_no(self):\n",
    "        return self.__account_no\n",
    "    def get_amount(self):\n",
    "        return self.__amount\n",
    "    \n",
    "    def set_amount(self,amount):\n",
    "        self.__amount = amount\n",
    "        "
   ]
  },
  {
   "cell_type": "code",
   "execution_count": 57,
   "id": "002996de-98a0-4b38-98a3-6867d5688779",
   "metadata": {},
   "outputs": [],
   "source": [
    "obj = Account(\"pawan\",213213131,121212)"
   ]
  },
  {
   "cell_type": "code",
   "execution_count": 58,
   "id": "ffc96971-5142-47cf-9457-8e3a1c2f951d",
   "metadata": {},
   "outputs": [
    {
     "data": {
      "text/plain": [
       "213213131"
      ]
     },
     "execution_count": 58,
     "metadata": {},
     "output_type": "execute_result"
    }
   ],
   "source": [
    "obj.get_account_no()"
   ]
  },
  {
   "cell_type": "code",
   "execution_count": 59,
   "id": "187c703a-d25b-44ea-abd7-ac763cd11e53",
   "metadata": {},
   "outputs": [
    {
     "data": {
      "text/plain": [
       "121212"
      ]
     },
     "execution_count": 59,
     "metadata": {},
     "output_type": "execute_result"
    }
   ],
   "source": []
  },
  {
   "cell_type": "code",
   "execution_count": 60,
   "id": "ecaa1a68-ced5-4d79-a748-5a9eba276b8e",
   "metadata": {},
   "outputs": [],
   "source": [
    "obj.set_amount(100000)"
   ]
  },
  {
   "cell_type": "code",
   "execution_count": 61,
   "id": "ea3dbf12-b8fb-4fb7-b962-1da80f06192b",
   "metadata": {},
   "outputs": [
    {
     "data": {
      "text/plain": [
       "100000"
      ]
     },
     "execution_count": 61,
     "metadata": {},
     "output_type": "execute_result"
    }
   ],
   "source": [
    "obj.get_amount()"
   ]
  },
  {
   "cell_type": "code",
   "execution_count": 5,
   "id": "78dee932-9ec3-4997-8ac3-aa6438f245a5",
   "metadata": {},
   "outputs": [],
   "source": [
    "# Answer no : 05\n",
    "# Method overriding : method overriding is a feature of object-oriented programming that allows a subclass to provide a different implementation of a method that is already defined in its superclass.\n",
    "\n",
    "class animal:\n",
    "    def sound(self):\n",
    "        print(\"this is sound of an animal\")\n",
    "            \n",
    "class monkey(animal):\n",
    "    def sound(self):\n",
    "        print(\"this is sound of monkey\")\n",
    "    \n",
    "class cat(animal):\n",
    "    def sound(self):\n",
    "        print (\"this is sound of cat\")\n",
    "        \n",
    "        "
   ]
  },
  {
   "cell_type": "code",
   "execution_count": 8,
   "id": "65bdb2d4-5f02-45b1-ad09-241a61c5a9de",
   "metadata": {},
   "outputs": [
    {
     "name": "stdout",
     "output_type": "stream",
     "text": [
      "this is sound of an animal\n",
      "this is sound of monkey\n",
      "this is sound of cat\n"
     ]
    }
   ],
   "source": [
    "obj  =  animal()\n",
    "obj1  = monkey()\n",
    "obj2  = cat()\n",
    "obj.sound()\n",
    "obj1.sound()\n",
    "obj2.sound()"
   ]
  },
  {
   "cell_type": "code",
   "execution_count": null,
   "id": "c332f2c8-8bbf-4e28-a673-e7a8deb9ae50",
   "metadata": {},
   "outputs": [],
   "source": []
  },
  {
   "cell_type": "code",
   "execution_count": null,
   "id": "391e9624-66ad-4025-b7a4-9d1dc2895799",
   "metadata": {},
   "outputs": [],
   "source": []
  },
  {
   "cell_type": "code",
   "execution_count": 1,
   "id": "2c8da974-6400-4f70-875a-aeb15a304ae1",
   "metadata": {},
   "outputs": [],
   "source": [
    "# For my referance\n",
    "\n",
    "# Answer no : 05\n",
    "# Method Overloading : method overloading is the ability to define multiple methods with the same name but different signatures (i.e., different parameter types, numbers, or order) in the same class. \n",
    "# In pytho method orerloading don't support directly , and it will give missing position arguments error.\n",
    "# However it can achaive using classmethod\n",
    "class Addition:\n",
    "    def sum(self,a,b):\n",
    "        return a+b\n",
    "    def sum(self,a,b,c,d):\n",
    "        return a+b+c+d\n",
    "    def sum (self,a,b,c,d,e,f,g):\n",
    "        return a+b+c+d+e+f+g\n"
   ]
  },
  {
   "cell_type": "code",
   "execution_count": 64,
   "id": "73c77d0e-3f9e-41a4-88af-51ab1a05e97c",
   "metadata": {},
   "outputs": [
    {
     "ename": "TypeError",
     "evalue": "Addition.sum() missing 5 required positional arguments: 'c', 'd', 'e', 'f', and 'g'",
     "output_type": "error",
     "traceback": [
      "\u001b[0;31m---------------------------------------------------------------------------\u001b[0m",
      "\u001b[0;31mTypeError\u001b[0m                                 Traceback (most recent call last)",
      "Cell \u001b[0;32mIn[64], line 2\u001b[0m\n\u001b[1;32m      1\u001b[0m obj5  \u001b[38;5;241m=\u001b[39mAddition()\n\u001b[0;32m----> 2\u001b[0m \u001b[43mobj5\u001b[49m\u001b[38;5;241;43m.\u001b[39;49m\u001b[43msum\u001b[49m\u001b[43m(\u001b[49m\u001b[38;5;241;43m1\u001b[39;49m\u001b[43m,\u001b[49m\u001b[38;5;241;43m4\u001b[39;49m\u001b[43m)\u001b[49m\n",
      "\u001b[0;31mTypeError\u001b[0m: Addition.sum() missing 5 required positional arguments: 'c', 'd', 'e', 'f', and 'g'"
     ]
    }
   ],
   "source": [
    "obj5  =Addition()\n",
    "obj5.sum(1,4)\n",
    "# it will give misssing positionl arguments error"
   ]
  },
  {
   "cell_type": "code",
   "execution_count": null,
   "id": "92f7fe35-82f7-4172-8276-304a851ba518",
   "metadata": {},
   "outputs": [],
   "source": []
  }
 ],
 "metadata": {
  "kernelspec": {
   "display_name": "Python 3 (ipykernel)",
   "language": "python",
   "name": "python3"
  },
  "language_info": {
   "codemirror_mode": {
    "name": "ipython",
    "version": 3
   },
   "file_extension": ".py",
   "mimetype": "text/x-python",
   "name": "python",
   "nbconvert_exporter": "python",
   "pygments_lexer": "ipython3",
   "version": "3.10.8"
  }
 },
 "nbformat": 4,
 "nbformat_minor": 5
}
