{
 "cells": [
  {
   "cell_type": "code",
   "execution_count": 1,
   "id": "dafc9dda-c5e8-4167-b68c-c80f6a3babe8",
   "metadata": {},
   "outputs": [],
   "source": [
    "# Answer no : 01\n",
    "# Exception : An exception is an event, which occurs during the execution of a program that disrupts the normal flow of the program's instructions\n",
    "# 1. Exception occurs due to undesired input , while syntax error occurs due to syntax error in the program\n",
    "# 2 . Exception occurs during run time, while syntax error occurs during compile time as well as run time."
   ]
  },
  {
   "cell_type": "code",
   "execution_count": 3,
   "id": "1aad4820-472e-479a-a24e-437a5c4411cb",
   "metadata": {},
   "outputs": [
    {
     "name": "stdin",
     "output_type": "stream",
     "text": [
      "Enter a number 6\n",
      "Enter another number 0\n"
     ]
    },
    {
     "ename": "ZeroDivisionError",
     "evalue": "division by zero",
     "output_type": "error",
     "traceback": [
      "\u001b[0;31m---------------------------------------------------------------------------\u001b[0m",
      "\u001b[0;31mZeroDivisionError\u001b[0m                         Traceback (most recent call last)",
      "Cell \u001b[0;32mIn[3], line 6\u001b[0m\n\u001b[1;32m      4\u001b[0m a \u001b[38;5;241m=\u001b[39m  \u001b[38;5;28mint\u001b[39m(\u001b[38;5;28minput\u001b[39m(\u001b[38;5;124m\"\u001b[39m\u001b[38;5;124mEnter a number\u001b[39m\u001b[38;5;124m\"\u001b[39m))\n\u001b[1;32m      5\u001b[0m b \u001b[38;5;241m=\u001b[39m \u001b[38;5;28mint\u001b[39m (\u001b[38;5;28minput\u001b[39m(\u001b[38;5;124m\"\u001b[39m\u001b[38;5;124mEnter another number\u001b[39m\u001b[38;5;124m\"\u001b[39m))\n\u001b[0;32m----> 6\u001b[0m \u001b[38;5;28mprint\u001b[39m(\u001b[43ma\u001b[49m\u001b[38;5;241;43m/\u001b[39;49m\u001b[43mb\u001b[49m)\n\u001b[1;32m      7\u001b[0m \u001b[38;5;28mprint\u001b[39m(\u001b[38;5;124m\"\u001b[39m\u001b[38;5;124mThis is print statement after perform operation\u001b[39m\u001b[38;5;124m\"\u001b[39m)\n",
      "\u001b[0;31mZeroDivisionError\u001b[0m: division by zero"
     ]
    }
   ],
   "source": [
    "# Answer no : 02\n",
    "# If we don't handle exception then program terminate when exception occurs and blow code will not execute\n",
    "# for example\n",
    "a =  int(input(\"Enter a number\"))\n",
    "b = int (input(\"Enter another number\"))\n",
    "print(a/b)\n",
    "print(\"This is print statement after perform operation\")"
   ]
  },
  {
   "cell_type": "code",
   "execution_count": 4,
   "id": "655dee0f-9892-4a0d-955d-37f4b17042be",
   "metadata": {},
   "outputs": [],
   "source": [
    "# exception occurs in the first print statement due to divide by zero , and 2nd print will not execute and program terminate"
   ]
  },
  {
   "cell_type": "code",
   "execution_count": null,
   "id": "f2e9be70-fc77-4c81-bafc-6ffe4bbb9006",
   "metadata": {},
   "outputs": [],
   "source": []
  },
  {
   "cell_type": "code",
   "execution_count": 6,
   "id": "96e689ae-0632-4f9b-af52-34b1d55aaabd",
   "metadata": {},
   "outputs": [
    {
     "name": "stdin",
     "output_type": "stream",
     "text": [
      "Enter a number 5\n",
      "Enter another number 0\n"
     ]
    },
    {
     "name": "stdout",
     "output_type": "stream",
     "text": [
      "Exception occurs :  division by zero\n",
      "Succesfully perform operation on given input\n"
     ]
    }
   ],
   "source": [
    "# Answer no : 03\n",
    "# try -  catch statement use to handle the exception\n",
    "try:\n",
    "    a =  int(input(\"Enter a number\"))\n",
    "    b = int(input(\"Enter another number\"))\n",
    "    print(a/b)\n",
    "    \n",
    "except ZeroDivisionError as e:\n",
    "    print(\"Exception occurs : \",e)\n",
    "    \n",
    "print(\"Succesfully perform operation on given input\")"
   ]
  },
  {
   "cell_type": "code",
   "execution_count": null,
   "id": "c43e7cf3-2531-4f52-8600-4aa54a9334e8",
   "metadata": {},
   "outputs": [],
   "source": []
  },
  {
   "cell_type": "code",
   "execution_count": 8,
   "id": "8fbeb791-88f6-46ee-a49f-ebbee38b035e",
   "metadata": {},
   "outputs": [],
   "source": [
    "# Answer no : 04\n",
    "# try and else : it use when we want to execute some statements after try block execute successfully. else block excute only if no exception occurs\n",
    "try: \n",
    "    f = open(\"test3.txt\",\"w\")\n",
    "    f.write(\"this is try and else block demo\")\n",
    "except Exception as e:\n",
    "    print(\"Exception occurs : \",e)\n",
    "else: \n",
    "    f.close()\n",
    "    import logging\n",
    "    logging.basicConfig(filename=  \"error.log\",level = logging.INFO)\n",
    "    logging.info(\"File write successfully\")"
   ]
  },
  {
   "cell_type": "code",
   "execution_count": 11,
   "id": "90e88b4c-8084-40b0-8714-12a5a5a84e4f",
   "metadata": {},
   "outputs": [
    {
     "name": "stdout",
     "output_type": "stream",
     "text": [
      "Exception occurs :   not writable\n",
      "file close successfully\n"
     ]
    }
   ],
   "source": [
    "# finally : it is use when, some code is necessary to execute \n",
    "try: \n",
    "    f =open(\"test4.txt\",\"r\")\n",
    "    f.write(\"we perform some operation on the file\")\n",
    "except Exception as e :\n",
    "    print(\"Exception occurs :  \",e)\n",
    "finally:  # it will execute even though exception occurs\n",
    "    f.close()\n",
    "    print(\"file close successfully\")"
   ]
  },
  {
   "cell_type": "code",
   "execution_count": 12,
   "id": "df37b958-e5a9-4383-98c4-d19e0056054f",
   "metadata": {},
   "outputs": [
    {
     "name": "stdin",
     "output_type": "stream",
     "text": [
      "Enter the number 6\n",
      "Enter another number 0\n"
     ]
    },
    {
     "ename": "ZeroDivisionError",
     "evalue": "divide by zero exception",
     "output_type": "error",
     "traceback": [
      "\u001b[0;31m---------------------------------------------------------------------------\u001b[0m",
      "\u001b[0;31mZeroDivisionError\u001b[0m                         Traceback (most recent call last)",
      "Cell \u001b[0;32mIn[12], line 5\u001b[0m\n\u001b[1;32m      3\u001b[0m b \u001b[38;5;241m=\u001b[39m \u001b[38;5;28mint\u001b[39m(\u001b[38;5;28minput\u001b[39m(\u001b[38;5;124m\"\u001b[39m\u001b[38;5;124mEnter another number\u001b[39m\u001b[38;5;124m\"\u001b[39m))\n\u001b[1;32m      4\u001b[0m \u001b[38;5;28;01mif\u001b[39;00m b\u001b[38;5;241m==\u001b[39m\u001b[38;5;241m0\u001b[39m:\n\u001b[0;32m----> 5\u001b[0m     \u001b[38;5;28;01mraise\u001b[39;00m \u001b[38;5;167;01mZeroDivisionError\u001b[39;00m (\u001b[38;5;124m\"\u001b[39m\u001b[38;5;124mdivide by zero exception\u001b[39m\u001b[38;5;124m\"\u001b[39m)\n\u001b[1;32m      6\u001b[0m \u001b[38;5;28;01melse\u001b[39;00m:\n\u001b[1;32m      7\u001b[0m     \u001b[38;5;28mprint\u001b[39m(b\u001b[38;5;241m/\u001b[39ma)\n",
      "\u001b[0;31mZeroDivisionError\u001b[0m: divide by zero exception"
     ]
    }
   ],
   "source": [
    "# raise : it is use to raise  exception \n",
    "a = int (input(\"Enter the number\"))\n",
    "b = int(input(\"Enter another number\"))\n",
    "if b==0:\n",
    "    raise ZeroDivisionError (\"divide by zero exception\")\n",
    "else:\n",
    "    print(b/a)\n"
   ]
  },
  {
   "cell_type": "code",
   "execution_count": null,
   "id": "519a5a0a-f1b3-4c14-a6f7-19aabcc71f46",
   "metadata": {},
   "outputs": [],
   "source": [
    "\n"
   ]
  },
  {
   "cell_type": "code",
   "execution_count": 13,
   "id": "1a6dd22c-4f90-4b6d-b6f5-fd0f15a5982b",
   "metadata": {},
   "outputs": [],
   "source": [
    "# Answer no : 05\n",
    "# Custom Exception : custom exception is define by the developer , to handle which exception those are not in the list of the default python exception\n",
    "# Need : custom exception require because some exception accurs accordiing to the design to the program , it is handle manually\n",
    "# Example : \n",
    "class validage(Exception):\n",
    "    \n",
    "    def __init__(self,msg):\n",
    "        self.msg = msg\n",
    "        \n",
    "def validatage(age):\n",
    "    if age<0:\n",
    "        raise validage(\"entered age is negative\")\n",
    "    elif age>200:\n",
    "        raise validage(\"entered age is very very high\")\n",
    "    else:\n",
    "        print(\"age is valid\")\n",
    "        "
   ]
  },
  {
   "cell_type": "code",
   "execution_count": 14,
   "id": "aac4d8aa-caa3-4195-bbfa-911dff02fd88",
   "metadata": {},
   "outputs": [
    {
     "name": "stdin",
     "output_type": "stream",
     "text": [
      "Enter your age 5465\n"
     ]
    },
    {
     "name": "stdout",
     "output_type": "stream",
     "text": [
      "entered age is very very high\n"
     ]
    }
   ],
   "source": [
    "try:\n",
    "    age = int(input(\"Enter your age\"))\n",
    "    validatage(age)\n",
    "except validage as e :\n",
    "    print(e)"
   ]
  },
  {
   "cell_type": "code",
   "execution_count": null,
   "id": "aa2b74b5-b696-4d67-ad71-b2d73cc1feb9",
   "metadata": {},
   "outputs": [],
   "source": []
  },
  {
   "cell_type": "code",
   "execution_count": 15,
   "id": "908036f8-ff70-4ae3-95ab-d66f4f6bacd5",
   "metadata": {},
   "outputs": [],
   "source": [
    "# Answer no : 06\n",
    "class Elegiblity(Exception):\n",
    "    def __init__(self,msg):\n",
    "        self.msg = msg\n",
    "        \n",
    "def check(age):\n",
    "    if age<0 or age>100:\n",
    "        raise Elegiblity(\"entered age is not valid \")\n",
    "    elif age<18:\n",
    "        raise Elegiblity(\"You are not eligible for this application , your age is too low\")\n",
    "    elif age>35 and age<55:\n",
    "        raise Elegiblity(\"You are not eligible for this application, your are is too high\")\n",
    "    elif age>55:\n",
    "        raise Elegiblity(\"Your age is too high , you should take reteirment\")\n",
    "    else :\n",
    "        raise Elegiblity(\"You are elegible for this application, you can fill this form\")\n",
    "        \n",
    "        "
   ]
  },
  {
   "cell_type": "code",
   "execution_count": 22,
   "id": "072c3c8c-7861-4f6a-911e-9ab078f9b872",
   "metadata": {},
   "outputs": [
    {
     "name": "stdin",
     "output_type": "stream",
     "text": [
      "Enter your age 26\n"
     ]
    },
    {
     "name": "stdout",
     "output_type": "stream",
     "text": [
      "Exception occurs :  You are elegible for this application, you can fill this form\n"
     ]
    }
   ],
   "source": [
    "try:\n",
    "    age =  int(input(\"Enter your age\"))\n",
    "    check(age)\n",
    "except Elegiblity as e:\n",
    "    print (\"Exception occurs : \",e)"
   ]
  },
  {
   "cell_type": "code",
   "execution_count": null,
   "id": "4040bb3f-72e4-4607-b7b5-beb0e7582e4b",
   "metadata": {},
   "outputs": [],
   "source": []
  }
 ],
 "metadata": {
  "kernelspec": {
   "display_name": "Python 3 (ipykernel)",
   "language": "python",
   "name": "python3"
  },
  "language_info": {
   "codemirror_mode": {
    "name": "ipython",
    "version": 3
   },
   "file_extension": ".py",
   "mimetype": "text/x-python",
   "name": "python",
   "nbconvert_exporter": "python",
   "pygments_lexer": "ipython3",
   "version": "3.10.8"
  }
 },
 "nbformat": 4,
 "nbformat_minor": 5
}
