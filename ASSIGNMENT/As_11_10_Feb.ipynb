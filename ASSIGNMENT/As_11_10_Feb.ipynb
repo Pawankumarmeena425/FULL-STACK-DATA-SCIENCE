{
 "cells": [
  {
   "cell_type": "code",
   "execution_count": null,
   "id": "2d1c5cdb-9469-4cc6-8cda-373c848a1372",
   "metadata": {},
   "outputs": [],
   "source": [
    "# Answer no : 01\n",
    "\n",
    "# open(filename,mode) use for oepn a file\n",
    "# Different mode of opening file :\n",
    "# read only (r) : use for reading content of file , if file not found give,Filenotfound Error\n",
    "# write only(w) : use for write data in file,and delete prevoiuse content of file. if file  not exist then create file\n",
    "# append only(a) : if file not exist creat file, write content in the file , but previouse content not delete\n",
    "# read and write(r+) : open file for reading and wirting , if file not exist then give error\n",
    "#  read and write(w+) : openn file for writing and reading , if file not exist create , previouse content delete\n",
    "# read and write (a+) : open file for writing and reading, if file not exist creat, previouse content not delete"
   ]
  },
  {
   "cell_type": "code",
   "execution_count": null,
   "id": "1fa57944-3c29-4137-a1b4-2dee015ae4f8",
   "metadata": {},
   "outputs": [],
   "source": [
    "# Answer no : 02\n",
    "\n",
    "# close() : function use to close the file after perform operation. It is use to deallocated resources to the operating system\n",
    "# Why Important : main memory have limited size , and if we don't close file after open then it will reamin in the main memory . which increase memory consumptin and Size of the shoftware.\n",
    "# It is also important because any modification in the file happen only after the close() file"
   ]
  },
  {
   "cell_type": "code",
   "execution_count": 1,
   "id": "19e77df0-4cea-478e-83ad-8cdd628058f7",
   "metadata": {},
   "outputs": [],
   "source": [
    "# Answer no : 03 \n",
    "\n",
    "f = open(\"test.txt\",\"w\")\n",
    "f.write(\"I want to become a Data scientist\")\n",
    "f.close()"
   ]
  },
  {
   "cell_type": "code",
   "execution_count": 2,
   "id": "ee876317-7b1d-4a13-a1d4-02107d7a0631",
   "metadata": {},
   "outputs": [
    {
     "data": {
      "text/plain": [
       "'I want to become a Data scientist'"
      ]
     },
     "execution_count": 2,
     "metadata": {},
     "output_type": "execute_result"
    }
   ],
   "source": [
    "f = open(\"test.txt\",\"r\")\n",
    "f.read()"
   ]
  },
  {
   "cell_type": "code",
   "execution_count": null,
   "id": "9f970ee5-6d23-4b23-9de7-ad9b733df550",
   "metadata": {},
   "outputs": [],
   "source": []
  },
  {
   "cell_type": "code",
   "execution_count": 19,
   "id": "b9b40e2e-c847-4bb3-8cd5-839170ef2303",
   "metadata": {},
   "outputs": [
    {
     "data": {
      "text/plain": [
       "'Data Science, in other words, is the science that combines programming skills and mathematical\\n and statistical knowledge to extract meaningful information from data.\\n Data Science consists of the application of machine learning algorithms to numerical,\\n textual data, images, video, and audio content.'"
      ]
     },
     "execution_count": 19,
     "metadata": {},
     "output_type": "execute_result"
    }
   ],
   "source": [
    "# Answer no : 04 \n",
    "f = open(\"test.txt\",\"w\")\n",
    "f.write(\"Data Science, in other words, is the science that combines programming skills and mathematical\\n and statistical knowledge to extract meaningful information from data.\\n Data Science consists of the application of machine learning algorithms to numerical,\\n textual data, images, video, and audio content.\")\n",
    "f.close()\n",
    "f  = open(\"test.txt\",\"r\")\n",
    "# read() : use to read all content in the file\n",
    "f.read()"
   ]
  },
  {
   "cell_type": "code",
   "execution_count": 20,
   "id": "c6d2fafa-3c71-47ff-8dc2-c8e6815a3cac",
   "metadata": {},
   "outputs": [
    {
     "data": {
      "text/plain": [
       "'Data Science, in other words, is the science that combines programming skills and mathematical\\n'"
      ]
     },
     "execution_count": 20,
     "metadata": {},
     "output_type": "execute_result"
    }
   ],
   "source": [
    "# readline() : use to read line one by one\n",
    "f.seek(0)\n",
    "f.readline() "
   ]
  },
  {
   "cell_type": "code",
   "execution_count": 21,
   "id": "a8ef6502-14b5-40f0-a58c-b8e43270162f",
   "metadata": {},
   "outputs": [
    {
     "data": {
      "text/plain": [
       "[' and statistical knowledge to extract meaningful information from data.\\n',\n",
       " ' Data Science consists of the application of machine learning algorithms to numerical,\\n',\n",
       " ' textual data, images, video, and audio content.']"
      ]
     },
     "execution_count": 21,
     "metadata": {},
     "output_type": "execute_result"
    }
   ],
   "source": [
    "# readlines() : read all lines in the files and return in the form of list\n",
    "f.readlines()"
   ]
  },
  {
   "cell_type": "code",
   "execution_count": null,
   "id": "17c3a90f-f488-47dc-b4f3-101e768b9d8d",
   "metadata": {},
   "outputs": [],
   "source": []
  },
  {
   "cell_type": "code",
   "execution_count": 22,
   "id": "16a9ef07-1f44-436b-9443-609e8fcf0e9b",
   "metadata": {},
   "outputs": [],
   "source": [
    "# Answer no : 05 \n",
    "\n",
    "# with statement with open() work like a open() function , But in the open() function after open a file we must be require to close file manually ,but in case of with statement , it autometaclly close file\n",
    "# with statement with open() is work like  a 2 built-in methods , open() and close() . This is the main advantages for use both with and open() together , no require to close the file"
   ]
  },
  {
   "cell_type": "code",
   "execution_count": null,
   "id": "d1996452-44d6-4c23-9862-7143ba5aa7a7",
   "metadata": {},
   "outputs": [],
   "source": []
  },
  {
   "cell_type": "code",
   "execution_count": 15,
   "id": "cc30e511-d8ac-40ae-8fae-40a8c6586c86",
   "metadata": {},
   "outputs": [
    {
     "name": "stdout",
     "output_type": "stream",
     "text": [
      "This is a data science course This course has various featuresThis course provide pwskills labPwskills features is awesome\n"
     ]
    }
   ],
   "source": [
    "# Answer no : 06\n",
    "# write() : it is use to write content in the file , but it not add new line \n",
    "f = open(\"test1.txt\",\"w\")\n",
    "f.write(\"This is a data science course \")\n",
    "f.write(\"This course has various features\")\n",
    "f.write(\"This course provide pwskills lab\")\n",
    "f.write(\"Pwskills features is awesome\")\n",
    "f.close()\n",
    "f = open(\"test1.txt\",\"r\")\n",
    "for line in f:\n",
    "    print(line)\n",
    "\n",
    "# all content in the same line"
   ]
  },
  {
   "cell_type": "code",
   "execution_count": null,
   "id": "a1bd5ad0-8dbe-4d61-9bfa-e33ddaca6032",
   "metadata": {},
   "outputs": [],
   "source": [
    "# writelines() : it is also use to wirte content in the file,but it add new line after one line is complete\n",
    "\n",
    "f = open(\"test2.txt\",\"w\")\n",
    "f.writelines(\"This is a data science course \")\n",
    "f.writelines(\"This course has various features\")\n",
    "f.writelines(\"This course provide pwskills lab\")\n",
    "f.writelines(\"Pwskills features is awesome\")\n",
    "f.close()\n",
    "f = open(\"test2.txt\",\"r\")\n",
    "for line in f: \n",
    "    print(line)"
   ]
  }
 ],
 "metadata": {
  "kernelspec": {
   "display_name": "Python 3 (ipykernel)",
   "language": "python",
   "name": "python3"
  },
  "language_info": {
   "codemirror_mode": {
    "name": "ipython",
    "version": 3
   },
   "file_extension": ".py",
   "mimetype": "text/x-python",
   "name": "python",
   "nbconvert_exporter": "python",
   "pygments_lexer": "ipython3",
   "version": "3.10.8"
  }
 },
 "nbformat": 4,
 "nbformat_minor": 5
}
