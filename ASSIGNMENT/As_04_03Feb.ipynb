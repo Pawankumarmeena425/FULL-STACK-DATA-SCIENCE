{
 "cells": [
  {
   "cell_type": "code",
   "execution_count": 2,
   "id": "99fd8c8c-e4b6-4bf6-a507-9927dda48e40",
   "metadata": {},
   "outputs": [
    {
     "name": "stdout",
     "output_type": "stream",
     "text": [
      "[1, 3, 5, 7, 9, 11, 13, 15, 17, 19, 21, 23, 25]\n"
     ]
    }
   ],
   "source": [
    "# Answer no 01:\n",
    "# def keyword use for create a function\n",
    "def oddlist():\n",
    "    i=1\n",
    "    l=[]\n",
    "    while i<=25:\n",
    "        if i%2!=0:\n",
    "            l.append(i)\n",
    "        i = i+1\n",
    "    return l\n",
    "print(oddlist())"
   ]
  },
  {
   "cell_type": "code",
   "execution_count": 10,
   "id": "67db0caa-76e9-4511-945b-ac90b71cd6f1",
   "metadata": {},
   "outputs": [
    {
     "name": "stdout",
     "output_type": "stream",
     "text": [
      "77\n",
      "name  =  pawan\n",
      "id  =  23\n",
      "grade  =  A\n",
      "name2  =  Rakesh\n",
      "id2  =  422\n",
      "grade2  =  B\n",
      "Function execute successfully\n"
     ]
    }
   ],
   "source": [
    "# Answer no 02:\n",
    "# *args used when argument which is pass to the function  is not fixed  , and **kwargs used when arguments is not fixed and given arguments is in the form of paris(dictionary)\n",
    "\n",
    "# function using *args to find summation of all given input\n",
    "def fun1(*args):\n",
    "    sum=0\n",
    "    for i in args:\n",
    "        sum = sum+i\n",
    "    return sum\n",
    "print(fun1(1,2,4,5,2,5,7,8,43))\n",
    "\n",
    "# function using **kwargs to print all the input\n",
    "def fun2(**kwargs):\n",
    "    for k,v in kwargs.items():\n",
    "        print(k,\" = \",v)\n",
    "    return \"Function execute successfully\"\n",
    "print(fun2(name=\"pawan\",id=23,grade='A',name2=\"Rakesh\",id2=422,grade2='B'))"
   ]
  },
  {
   "cell_type": "code",
   "execution_count": 3,
   "id": "96facf20-558b-41b4-91db-cb55cca82e23",
   "metadata": {},
   "outputs": [
    {
     "name": "stdout",
     "output_type": "stream",
     "text": [
      "2\n",
      "4\n",
      "6\n",
      "8\n",
      "10\n"
     ]
    }
   ],
   "source": [
    "# Answer no:03\n",
    "# An iterator is an object that can be iterated or  can be traverse through all the values.\n",
    "# iter()\n",
    "# next()\n",
    "l = [2,4,6,8,10,12,14,16,18,20]\n",
    "l1 = iter(l)\n",
    "for i in range(5):\n",
    "    print(next(l1))"
   ]
  },
  {
   "cell_type": "code",
   "execution_count": 4,
   "id": "a825ff42-3d2b-4ac7-b4d9-a3e461a673b8",
   "metadata": {},
   "outputs": [
    {
     "data": {
      "text/plain": [
       "<generator object power at 0x7f67bd7ef920>"
      ]
     },
     "execution_count": 4,
     "metadata": {},
     "output_type": "execute_result"
    }
   ],
   "source": [
    "# Answer no :04\n",
    "\n",
    "# 1.Generator function work is similer to the normal function, but it reduce memory consumption by generate output one by one . Generator function generate objects like range() function. And through this object we can iterator and print entire output\n",
    "# 2.yield keyword is used to create a generator function\n",
    "# print power of n numbers\n",
    "\n",
    "def power (n):\n",
    "    i=1\n",
    "    while i<=n:\n",
    "        yield i**2\n",
    "        i=i+1\n"
   ]
  },
  {
   "cell_type": "code",
   "execution_count": 7,
   "id": "be6f7cd2-2431-4f2e-8114-5c7f844f781a",
   "metadata": {},
   "outputs": [
    {
     "name": "stdin",
     "output_type": "stream",
     "text": [
      "enter the  number till you want to power 12\n"
     ]
    },
    {
     "name": "stdout",
     "output_type": "stream",
     "text": [
      "1\n",
      "4\n",
      "9\n",
      "16\n",
      "25\n",
      "36\n",
      "49\n",
      "64\n",
      "81\n",
      "100\n",
      "121\n",
      "144\n"
     ]
    }
   ],
   "source": [
    "num = int(input(\"enter the  number till you want to power\"))\n",
    "obj = power(num)\n",
    "for i in range(num):\n",
    "    print(next(obj))"
   ]
  },
  {
   "cell_type": "code",
   "execution_count": 9,
   "id": "08019b0b-c7c1-494e-90db-00da3113ed16",
   "metadata": {},
   "outputs": [
    {
     "name": "stdout",
     "output_type": "stream",
     "text": [
      "2\n",
      "3\n",
      "5\n",
      "7\n",
      "11\n",
      "13\n",
      "17\n",
      "19\n",
      "23\n",
      "29\n",
      "31\n",
      "37\n",
      "41\n",
      "43\n",
      "47\n",
      "53\n",
      "59\n",
      "61\n",
      "67\n",
      "71\n"
     ]
    }
   ],
   "source": [
    "# Answer no:05\n",
    "def prime_num():\n",
    "    i =2\n",
    "    while i<=1000:\n",
    "        j=2 #         check for prime condition\n",
    "        b = True\n",
    "        while j<i:\n",
    "            if i%j==0:\n",
    "                b = False\n",
    "                break\n",
    "            j = j+1\n",
    "        if b==True:\n",
    "            yield i\n",
    "        i=i+1\n",
    "        \n",
    "\n",
    "obj  = prime_num()\n",
    "\n",
    "for i in range(20):\n",
    "    print(next(obj))"
   ]
  },
  {
   "cell_type": "code",
   "execution_count": 10,
   "id": "8886f8fa-7ef5-4032-8943-adf2bcdbbf9f",
   "metadata": {},
   "outputs": [
    {
     "name": "stdout",
     "output_type": "stream",
     "text": [
      "0\n",
      "1\n",
      "1\n",
      "2\n",
      "3\n",
      "5\n",
      "8\n",
      "13\n",
      "21\n",
      "34\n"
     ]
    }
   ],
   "source": [
    "# Answer no:06\n",
    "def fib():\n",
    "    a,b=0,1\n",
    "    i=0\n",
    "    while i<10:\n",
    "        yield a\n",
    "        a,b = b,a+b\n",
    "        i= i+1\n",
    "        \n",
    "obj  = fib()\n",
    "i =0\n",
    "while i<10:\n",
    "    print(next(obj))\n",
    "    i = i+1"
   ]
  },
  {
   "cell_type": "code",
   "execution_count": 1,
   "id": "bfe896a4-fcc7-47b4-b511-03d11363d518",
   "metadata": {},
   "outputs": [
    {
     "data": {
      "text/plain": [
       "['p', 'w', 's', 'k', 'i', 'l', 'l', 's']"
      ]
     },
     "execution_count": 1,
     "metadata": {},
     "output_type": "execute_result"
    }
   ],
   "source": [
    "# Answer no :07\n",
    "str = \"pwskills\"\n",
    "[ i for i in str]"
   ]
  },
  {
   "cell_type": "code",
   "execution_count": 22,
   "id": "4699ac6a-0398-4dbe-b951-dbdcb57abbbd",
   "metadata": {},
   "outputs": [
    {
     "name": "stdin",
     "output_type": "stream",
     "text": [
      "Enter the number 546645\n"
     ]
    },
    {
     "name": "stdout",
     "output_type": "stream",
     "text": [
      "Given number is palindrome\n"
     ]
    }
   ],
   "source": [
    "# Answer no : 08\n",
    "def palindrome(num):\n",
    "    org_num = num\n",
    "    rev=0\n",
    "    while num!=0:\n",
    "        rem = num%10\n",
    "        num =int( num/10)\n",
    "        rev = rev*10+rem\n",
    "        \n",
    "       \n",
    "    if rev==org_num:\n",
    "        print(\"Given number is palindrome\")\n",
    "    else:\n",
    "        print(\"Given number is not a palindrome\")\n",
    "        \n",
    "num = int(input(\"Enter the number\"))\n",
    "palindrome(num)"
   ]
  },
  {
   "cell_type": "code",
   "execution_count": 6,
   "id": "77ad9cc1-7615-4b29-a5a7-1f321f774e2e",
   "metadata": {},
   "outputs": [
    {
     "data": {
      "text/plain": [
       "[1,\n",
       " 3,\n",
       " 5,\n",
       " 7,\n",
       " 9,\n",
       " 11,\n",
       " 13,\n",
       " 15,\n",
       " 17,\n",
       " 19,\n",
       " 21,\n",
       " 23,\n",
       " 25,\n",
       " 27,\n",
       " 29,\n",
       " 31,\n",
       " 33,\n",
       " 35,\n",
       " 37,\n",
       " 39,\n",
       " 41,\n",
       " 43,\n",
       " 45,\n",
       " 47,\n",
       " 49,\n",
       " 51,\n",
       " 53,\n",
       " 55,\n",
       " 57,\n",
       " 59,\n",
       " 61,\n",
       " 63,\n",
       " 65,\n",
       " 67,\n",
       " 69,\n",
       " 71,\n",
       " 73,\n",
       " 75,\n",
       " 77,\n",
       " 79,\n",
       " 81,\n",
       " 83,\n",
       " 85,\n",
       " 87,\n",
       " 89,\n",
       " 91,\n",
       " 93,\n",
       " 95,\n",
       " 97,\n",
       " 99]"
      ]
     },
     "execution_count": 6,
     "metadata": {},
     "output_type": "execute_result"
    }
   ],
   "source": [
    "# Answer no:09\n",
    "# Creation of list from 1 to 100\n",
    "l = [i for i in range(1,101,1)]\n",
    "\n",
    "# Filter odd number from list l\n",
    "[i for i in l if i%2!=0]"
   ]
  },
  {
   "cell_type": "code",
   "execution_count": null,
   "id": "16943043-d9a1-4610-8f7c-7037302b6192",
   "metadata": {},
   "outputs": [],
   "source": []
  }
 ],
 "metadata": {
  "kernelspec": {
   "display_name": "Python 3 (ipykernel)",
   "language": "python",
   "name": "python3"
  },
  "language_info": {
   "codemirror_mode": {
    "name": "ipython",
    "version": 3
   },
   "file_extension": ".py",
   "mimetype": "text/x-python",
   "name": "python",
   "nbconvert_exporter": "python",
   "pygments_lexer": "ipython3",
   "version": "3.10.8"
  }
 },
 "nbformat": 4,
 "nbformat_minor": 5
}
