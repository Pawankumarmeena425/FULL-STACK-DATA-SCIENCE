{
 "cells": [
  {
   "cell_type": "code",
   "execution_count": 16,
   "id": "fd41c301-a256-4f64-9b75-3ef7c79b6c34",
   "metadata": {},
   "outputs": [
    {
     "data": {
      "text/plain": [
       "'innova'"
      ]
     },
     "execution_count": 16,
     "metadata": {},
     "output_type": "execute_result"
    }
   ],
   "source": [
    "# Answer no:01\n",
    "# Class is a blueprint of real world entity,but not specifiy to perticular  entity . (for example: Integer, car, college, students, teachers etc.)\n",
    "# Object or instance is a real world entity that specify perticular entity . (for examplem : innova is object of class car )\n",
    "class car:\n",
    "    def __init__(self,car_name,model,year):\n",
    "        self.car_name = car_name\n",
    "        self.model = model\n",
    "        self.year = year\n",
    "    def car_name(self):\n",
    "        return self.car_name,self.model,self.year\n",
    "     \n",
    "        \n",
    "obj = car(\"innova\",\"A322\",2004)\n",
    "obj.car_name"
   ]
  },
  {
   "cell_type": "code",
   "execution_count": 17,
   "id": "8f2584de-73c2-4005-86dd-6beb42619997",
   "metadata": {},
   "outputs": [],
   "source": [
    "# Answer no : 02\n",
    "# Four Pillor Of oops : Inheritance, Polymorphism, Encapsulation and Abstraction."
   ]
  },
  {
   "cell_type": "code",
   "execution_count": 20,
   "id": "98cbb569-b91f-49df-b963-25b8bca32e9d",
   "metadata": {},
   "outputs": [
    {
     "data": {
      "text/plain": [
       "('pawan', 131231, 'A1', 'Cse')"
      ]
     },
     "execution_count": 20,
     "metadata": {},
     "output_type": "execute_result"
    }
   ],
   "source": [
    "# Answer no : 03\n",
    "# __init__ function is used to initilize the default object attributes  , which are initilize at the time of objcet creation\n",
    "class Student:\n",
    "    def __init__(self,name,roll_no,batch,branch):\n",
    "        self.name  =name\n",
    "        self.roll_no = roll_no\n",
    "        self.batch = batch\n",
    "        self.branch = branch\n",
    "        \n",
    "    def deatils(self):\n",
    "        return self.name,self.roll_no,self.batch,self.branch\n",
    "    \n",
    "obj = Student(\"pawan\",131231,\"A1\",\"Cse\")\n",
    "obj.deatils()"
   ]
  },
  {
   "cell_type": "code",
   "execution_count": 21,
   "id": "bc4ce33d-fa3d-47a1-b226-73d553366583",
   "metadata": {},
   "outputs": [],
   "source": [
    "# Answer no : 04\n",
    "\n",
    "# self is used to repersent instance of class , it differ class instance to the passing parameter\n",
    "# it is used for referencing class instance while return value or perform some operation"
   ]
  },
  {
   "cell_type": "code",
   "execution_count": 24,
   "id": "63ec60a5-3a07-418f-83c9-e2c180efa149",
   "metadata": {},
   "outputs": [
    {
     "data": {
      "text/plain": [
       "'this is class1 method'"
      ]
     },
     "execution_count": 24,
     "metadata": {},
     "output_type": "execute_result"
    }
   ],
   "source": [
    "# Answer no : 05\n",
    "#  Inheritance : when child(drived) class inheriate properites of parents(base) class called inheritance.\n",
    "# Inheritance implements DRY concepts . DRY -->> Don't repeat yourself\n",
    "\n",
    "# types of Inheritance\n",
    "# Single Inheritance: when one child inheritance one parents class\n",
    "class class1:\n",
    "    def test1(self):\n",
    "        return \"this is class1 method\"\n",
    "class class2(class1):\n",
    "    pass\n",
    "\n",
    "obj1 =class2()\n",
    "obj1.test1()"
   ]
  },
  {
   "cell_type": "code",
   "execution_count": 27,
   "id": "0525047b-8bb2-49a9-9d82-d25b2e6d0d99",
   "metadata": {},
   "outputs": [
    {
     "data": {
      "text/plain": [
       "'this is father class method'"
      ]
     },
     "execution_count": 27,
     "metadata": {},
     "output_type": "execute_result"
    }
   ],
   "source": [
    "# Multiple Inheritance : when child class inheritance more then one class\n",
    "class Father():\n",
    "    def test1(self):\n",
    "        return \"this is father class method\"\n",
    "class Mother():\n",
    "    def test2(self):\n",
    "        return \"this is mother class method\"\n",
    "    \n",
    "class Child(Father,Mother):\n",
    "    pass\n",
    "\n",
    "obj = Child()\n",
    "obj.test1()"
   ]
  },
  {
   "cell_type": "code",
   "execution_count": 32,
   "id": "c30a11f6-af3b-4cad-9e05-052b10ba5ecd",
   "metadata": {},
   "outputs": [
    {
     "data": {
      "text/plain": [
       "'this is parents class'"
      ]
     },
     "execution_count": 32,
     "metadata": {},
     "output_type": "execute_result"
    }
   ],
   "source": [
    "# Multilevel Inheritance : when inheritance is more then two level and all are related to the each other . for example parents inheriate grandparents, child inheritance to parents ,then also same relation of child with grandparents\n",
    "class Grandparents():\n",
    "    def test1(self):\n",
    "        return \"this is grandparents class\"\n",
    "class Parents(Grandparents):\n",
    "    def test2(self):\n",
    "        return \"this is parents class\"\n",
    "class Child(Parents):\n",
    "    pass\n",
    "\n",
    "obj = Child()\n",
    "obj.test1()\n",
    "obj.test2()"
   ]
  },
  {
   "cell_type": "code",
   "execution_count": 39,
   "id": "64945996-0087-4c8d-b547-3726ec5308c7",
   "metadata": {},
   "outputs": [
    {
     "data": {
      "text/plain": [
       "'you are in parents class'"
      ]
     },
     "execution_count": 39,
     "metadata": {},
     "output_type": "execute_result"
    }
   ],
   "source": [
    "# Hierarchical Inheritance:  when more then one child inheritance same parents class\n",
    "class Parents():\n",
    "    def test1(self):\n",
    "        return \"you are in parents class\"\n",
    "class Child1(Parents):\n",
    "    pass\n",
    "class Child2(Parents):\n",
    "    pass\n",
    "class Child3(Parents):\n",
    "    pass\n",
    "\n",
    "obj1 = Child1()\n",
    "obj2 = Child2()\n",
    "obj3 = Child3()\n",
    "obj1.test1()\n",
    "obj2.test1()\n",
    "obj3.test1()"
   ]
  },
  {
   "cell_type": "code",
   "execution_count": null,
   "id": "aff7f416-f6b6-441c-a341-57844ecd221b",
   "metadata": {},
   "outputs": [],
   "source": []
  }
 ],
 "metadata": {
  "kernelspec": {
   "display_name": "Python 3 (ipykernel)",
   "language": "python",
   "name": "python3"
  },
  "language_info": {
   "codemirror_mode": {
    "name": "ipython",
    "version": 3
   },
   "file_extension": ".py",
   "mimetype": "text/x-python",
   "name": "python",
   "nbconvert_exporter": "python",
   "pygments_lexer": "ipython3",
   "version": "3.10.8"
  }
 },
 "nbformat": 4,
 "nbformat_minor": 5
}
