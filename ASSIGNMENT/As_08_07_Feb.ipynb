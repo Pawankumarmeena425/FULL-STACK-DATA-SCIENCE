{
 "cells": [
  {
   "cell_type": "code",
   "execution_count": null,
   "id": "74eb9e3f-b815-4f16-a8e9-3c7844a188fa",
   "metadata": {},
   "outputs": [],
   "source": []
  },
  {
   "cell_type": "code",
   "execution_count": 9,
   "id": "74741fd8-f81d-4dd1-a2da-5cfb6fd129e6",
   "metadata": {},
   "outputs": [
    {
     "data": {
      "text/plain": [
       "'Valid Password'"
      ]
     },
     "execution_count": 9,
     "metadata": {},
     "output_type": "execute_result"
    }
   ],
   "source": [
    "# Ansewr no : 01\n",
    "def passCheck(s):\n",
    "    if len(s)<10:\n",
    "        return \"Invalid Password\"\n",
    "    up,lw,num,sp = 0,0,0,0\n",
    "    for i in s:\n",
    "        if ord(i)>=48 and ord(i)<=57:\n",
    "            num = num+1\n",
    "        elif ord(i)>=97 and ord(i)<=122:\n",
    "            lw = lw+1\n",
    "        elif ord(i)>=65 and ord(i)<=90:\n",
    "            up = up+1\n",
    "        elif ord(i)>=32 and ord(i)<=47:\n",
    "            sp =sp+1\n",
    "    if num>=1 and lw>=2 and up>=2 and sp>=3:\n",
    "        return \"Valid Password\"\n",
    "    else:\n",
    "        return \"Invalid Password\"\n",
    "    \n",
    "passCheck(\"PawanKumar*%12$%\")\n",
    "    "
   ]
  },
  {
   "cell_type": "code",
   "execution_count": 18,
   "id": "c5c4f1aa-8d33-4704-bab1-b9bd3b63ccc4",
   "metadata": {},
   "outputs": [
    {
     "data": {
      "text/plain": [
       "'String start with I'"
      ]
     },
     "execution_count": 18,
     "metadata": {},
     "output_type": "execute_result"
    }
   ],
   "source": [
    "# Answer no : 02\n",
    "# Answer no : a\n",
    "check =  lambda s:\"String start with I\" if s[0]=='I' else \"String doesn't start with I\"\n",
    "check(\"I'm students\")"
   ]
  },
  {
   "cell_type": "code",
   "execution_count": 2,
   "id": "ab0c7ab2-c252-4c99-953c-0051a4fced51",
   "metadata": {},
   "outputs": [
    {
     "data": {
      "text/plain": [
       "False"
      ]
     },
     "execution_count": 2,
     "metadata": {},
     "output_type": "execute_result"
    }
   ],
   "source": [
    "# Answer no : b\n",
    "numeric = lambda s: True if s.isnumeric() else False\n",
    "numeric(\"12432dsa3\")"
   ]
  },
  {
   "cell_type": "code",
   "execution_count": 5,
   "id": "503af929-9238-4160-abf1-3457bcf27417",
   "metadata": {},
   "outputs": [
    {
     "data": {
      "text/plain": [
       "[('orange', 80), ('mango', 99), ('grapes', 1000)]"
      ]
     },
     "execution_count": 5,
     "metadata": {},
     "output_type": "execute_result"
    }
   ],
   "source": [
    "# Answer no : c\n",
    "l = [(\"mango\",99),(\"orange\",80),(\"grapes\",1000)]\n",
    "l.sort(key=lambda x:x[1])\n",
    "l"
   ]
  },
  {
   "cell_type": "code",
   "execution_count": 6,
   "id": "d4c362d8-3b20-4af7-be49-f564c5fa25f8",
   "metadata": {},
   "outputs": [
    {
     "data": {
      "text/plain": [
       "[1, 4, 9, 16, 25, 36, 49, 64, 81, 100]"
      ]
     },
     "execution_count": 6,
     "metadata": {},
     "output_type": "execute_result"
    }
   ],
   "source": [
    "# Answer no: d\n",
    "[i**2 for i in range(1,11,1)] "
   ]
  },
  {
   "cell_type": "code",
   "execution_count": 8,
   "id": "aa8ff1e9-047f-42e9-b367-a4a796d4a1cc",
   "metadata": {},
   "outputs": [
    {
     "data": {
      "text/plain": [
       "[1.0,\n",
       " 1.2599210498948732,\n",
       " 1.4422495703074083,\n",
       " 1.5874010519681994,\n",
       " 1.7099759466766968,\n",
       " 1.8171205928321397,\n",
       " 1.912931182772389,\n",
       " 2.0,\n",
       " 2.080083823051904,\n",
       " 2.154434690031884]"
      ]
     },
     "execution_count": 8,
     "metadata": {},
     "output_type": "execute_result"
    }
   ],
   "source": [
    "# Answer no : e\n",
    "[i**(1/3) for i in range(1,11,1)]"
   ]
  },
  {
   "cell_type": "code",
   "execution_count": 10,
   "id": "21452602-3ffe-4990-a7ec-71b856d2073c",
   "metadata": {},
   "outputs": [
    {
     "data": {
      "text/plain": [
       "False"
      ]
     },
     "execution_count": 10,
     "metadata": {},
     "output_type": "execute_result"
    }
   ],
   "source": [
    "# Answer no : f\n",
    "even = lambda num : True if num%2==0 else False\n",
    "even(35)\n"
   ]
  },
  {
   "cell_type": "code",
   "execution_count": 14,
   "id": "56549bbd-695f-47b0-a364-fe3f8a910879",
   "metadata": {},
   "outputs": [
    {
     "data": {
      "text/plain": [
       "[1, 3, 5, 7, 9]"
      ]
     },
     "execution_count": 14,
     "metadata": {},
     "output_type": "execute_result"
    }
   ],
   "source": [
    "# Answer no : g\n",
    "l2 = [1,2,3,4,5,6,7,8,9,10]\n",
    "list(filter(lambda x : x%2!=0,l2))"
   ]
  },
  {
   "cell_type": "code",
   "execution_count": 17,
   "id": "ee082721-19f1-4392-a4d8-3fb5acbb37a0",
   "metadata": {},
   "outputs": [
    {
     "name": "stdout",
     "output_type": "stream",
     "text": [
      "[-1, -2, -3, -4, -5, -6]\n",
      "[1, 2, 3, 4, 5, 6, 0]\n"
     ]
    }
   ],
   "source": [
    "# Answer no : h\n",
    "l3  =[1,2,3,4,5,6,-1,-2,-3,-4,-5,-6,0]\n",
    "l4 =[]\n",
    "l5 = []\n",
    "l4  = list(filter(lambda x : x<0 ,l3))\n",
    "l5 = list (filter(lambda x : x>=0,l3))\n",
    "print(l4)\n",
    "print(l5)"
   ]
  },
  {
   "cell_type": "code",
   "execution_count": null,
   "id": "68c8e3a0-443a-431b-bfed-7754dbd99e02",
   "metadata": {},
   "outputs": [],
   "source": []
  }
 ],
 "metadata": {
  "kernelspec": {
   "display_name": "Python 3 (ipykernel)",
   "language": "python",
   "name": "python3"
  },
  "language_info": {
   "codemirror_mode": {
    "name": "ipython",
    "version": 3
   },
   "file_extension": ".py",
   "mimetype": "text/x-python",
   "name": "python",
   "nbconvert_exporter": "python",
   "pygments_lexer": "ipython3",
   "version": "3.10.8"
  }
 },
 "nbformat": 4,
 "nbformat_minor": 5
}
