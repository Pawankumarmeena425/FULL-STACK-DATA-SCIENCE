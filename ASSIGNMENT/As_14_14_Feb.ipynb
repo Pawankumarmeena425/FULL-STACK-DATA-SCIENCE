{
 "cells": [
  {
   "cell_type": "code",
   "execution_count": 1,
   "id": "fdfa10dc-2f2e-49ba-a084-b266df46f570",
   "metadata": {},
   "outputs": [],
   "source": [
    "# Answer no : 01\n",
    "# Multithreading : Multithreading refers to concurrently executing multiple threads by rapidly switching the control of the CPU between threads (called context switching)\n",
    "# Multithreadin use for : Improve profermance , Better user experience , Better resource untilization , Parllel program execution\n",
    "# module used to handle threads is 'threading'"
   ]
  },
  {
   "cell_type": "code",
   "execution_count": null,
   "id": "86755934-4ea7-49f4-adac-824ba8d45185",
   "metadata": {},
   "outputs": [],
   "source": []
  },
  {
   "cell_type": "code",
   "execution_count": 2,
   "id": "89c67c65-4f8f-4f19-90aa-2294aeb19252",
   "metadata": {},
   "outputs": [],
   "source": [
    "# Answer no : 02\n",
    "# The threading module is used in Python to implement multithreading. \n"
   ]
  },
  {
   "cell_type": "code",
   "execution_count": 8,
   "id": "3c4ef36a-f648-4893-9ba7-cb058e8c7db0",
   "metadata": {},
   "outputs": [
    {
     "name": "stdout",
     "output_type": "stream",
     "text": [
      "There are 8 active threads.\n"
     ]
    },
    {
     "name": "stderr",
     "output_type": "stream",
     "text": [
      "/tmp/ipykernel_84/3508200676.py:16: DeprecationWarning: activeCount() is deprecated, use active_count() instead\n",
      "  num_active_threads = threading.activeCount()\n"
     ]
    }
   ],
   "source": [
    "# 1. activeCount() : gives total active threads \n",
    "import threading\n",
    "\n",
    "def my_func():\n",
    "    # do something\n",
    "    pass\n",
    "\n",
    "# create multiple threads\n",
    "threads = []\n",
    "for i in range(5):\n",
    "    t = threading.Thread(target=my_func)\n",
    "    threads.append(t)\n",
    "    t.start()\n",
    "\n",
    "# get the number of active threads\n",
    "num_active_threads = threading.activeCount()\n",
    "\n",
    "\n",
    "print(\"There are %d active threads.\" %num_active_threads)"
   ]
  },
  {
   "cell_type": "code",
   "execution_count": 10,
   "id": "7d6cb5cb-d63f-4714-94b9-6778874ac048",
   "metadata": {},
   "outputs": [
    {
     "name": "stdout",
     "output_type": "stream",
     "text": [
      "Thread Thread-1 starting...\n",
      "Thread Thread-2 starting...\n",
      "Thread Thread-3 starting...\n",
      "Thread Thread-4 starting...\n",
      "Thread Thread-5 starting...\n"
     ]
    },
    {
     "name": "stderr",
     "output_type": "stream",
     "text": [
      "/tmp/ipykernel_84/3463191862.py:5: DeprecationWarning: currentThread() is deprecated, use current_thread() instead\n",
      "  current_thread = threading.currentThread()\n"
     ]
    }
   ],
   "source": [
    "# currentThread() : it gives current executing threads\n",
    "# enumerate()  : use to iterate over iterator  , it work like a range function\n",
    "import threading\n",
    "\n",
    "def my_func():\n",
    "    current_thread = threading.currentThread()\n",
    "    print(f\"Thread {current_thread.name} starting...\")\n",
    "\n",
    "# create multiple threads\n",
    "threads = []\n",
    "for i, _ in enumerate(range(5)):\n",
    "    t = threading.Thread(target=my_func, name=f\"Thread-{i+1}\")\n",
    "    threads.append(t)\n",
    "    t.start()"
   ]
  },
  {
   "cell_type": "code",
   "execution_count": null,
   "id": "12fb4cf3-6f73-4a19-b34b-8086ccbda22e",
   "metadata": {},
   "outputs": [],
   "source": [
    "\n"
   ]
  },
  {
   "cell_type": "code",
   "execution_count": 11,
   "id": "1156f258-1bd2-4141-b046-d80078416ab1",
   "metadata": {},
   "outputs": [],
   "source": [
    "# Answer no : 03\n",
    "# 1. run() : run is a method of class threading , it is call when a new thread start using start() method\n",
    "# 2. start() : use to start a thread\n",
    "# 3. join() : it is a method of threadin class, it wait till execution complete of thread, when thread complete it end thread\n",
    "# 4. isAlive() : it is used to check wheate a thread is still alive (run) or not"
   ]
  },
  {
   "cell_type": "code",
   "execution_count": null,
   "id": "3c986f9e-2d86-40bb-9fe9-c3181ad2852c",
   "metadata": {},
   "outputs": [],
   "source": []
  },
  {
   "cell_type": "code",
   "execution_count": 9,
   "id": "663c8430-f051-4f0a-b296-9b71c6b7bcd1",
   "metadata": {},
   "outputs": [
    {
     "name": "stdout",
     "output_type": "stream",
     "text": [
      " Square of numbers :\n",
      " [1, 4, 9, 16, 25, 36, 49, 64, 81]\n",
      " Cubie of nubmers  :\n",
      " [1, 8, 27, 64, 125, 216, 343, 512, 729]\n"
     ]
    }
   ],
   "source": [
    "# Answer no : 04\n",
    "import threading\n",
    "\n",
    "def square(n):\n",
    "    s.append(n**2)\n",
    "    \n",
    "def cuibe(n):\n",
    "    c.append(n**3)\n",
    "\n",
    "s =[]\n",
    "c =[]   \n",
    "t1 = [threading.Thread(target = square , args=(i,)) for i in range(1,10)]\n",
    "t2 = [threading.Thread(target = cuibe , args=(i,)) for i in range(1,10)]\n",
    "\n",
    "\n",
    "\n",
    "for i in t1:\n",
    "    i.start()\n",
    "    i.join()  \n",
    "for i in t2:\n",
    "    i.start()\n",
    "    i.join()\n",
    "print(\" Square of numbers :\\n\",s)\n",
    "print(\" Cubie of nubmers  :\\n\",c)\n"
   ]
  },
  {
   "cell_type": "code",
   "execution_count": null,
   "id": "a4a19cd3-e5b6-450f-bf26-08440f41b0ac",
   "metadata": {},
   "outputs": [],
   "source": []
  },
  {
   "cell_type": "code",
   "execution_count": null,
   "id": "d42db907-2289-445b-9204-48d9c5137437",
   "metadata": {},
   "outputs": [],
   "source": [
    "# Answer no : 05 \n",
    "# Advantages of Multithreading:Improved performance , Responsiveness ,Better resource utilization ,Parallelism\n",
    "\n",
    "# Disadvantages of Multithreading: Complexity  , Synchronization , Overhead  ,  deadlock , difficut Debugging  \n",
    "\n"
   ]
  },
  {
   "cell_type": "code",
   "execution_count": null,
   "id": "9ce11852-f372-411e-88c2-dacb9be2e4a4",
   "metadata": {},
   "outputs": [],
   "source": []
  },
  {
   "cell_type": "code",
   "execution_count": null,
   "id": "fbbb882e-c55a-48be-a711-89de72464ef3",
   "metadata": {},
   "outputs": [],
   "source": [
    "# Answer no : 06\n",
    "# Deadlocks : A  deadlock is a situation that can occur in a multi-threaded or multi-process system where two or more threads or processes are waiting for each other to release a shared resource, but neither thread or process can proceed until it realease its resources\n",
    "#  Race Condition : Race conditions can occur when multiple threads or processes access shared resources like memory or data structures without proper synchronization, leading to unpredictable or incorrect behavior\n"
   ]
  },
  {
   "cell_type": "code",
   "execution_count": null,
   "id": "8f620494-6c82-4240-85df-f42142a09de2",
   "metadata": {},
   "outputs": [],
   "source": []
  }
 ],
 "metadata": {
  "kernelspec": {
   "display_name": "Python 3 (ipykernel)",
   "language": "python",
   "name": "python3"
  },
  "language_info": {
   "codemirror_mode": {
    "name": "ipython",
    "version": 3
   },
   "file_extension": ".py",
   "mimetype": "text/x-python",
   "name": "python",
   "nbconvert_exporter": "python",
   "pygments_lexer": "ipython3",
   "version": "3.10.8"
  }
 },
 "nbformat": 4,
 "nbformat_minor": 5
}
