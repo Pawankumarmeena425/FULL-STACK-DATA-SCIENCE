{
 "cells": [
  {
   "cell_type": "code",
   "execution_count": 1,
   "id": "8ebfaaa3-8306-41b9-9e07-a03355933a5a",
   "metadata": {},
   "outputs": [],
   "source": [
    "# Answer no : 01   -->> Exception class refers to the base class for all the exceptions , so inheriate Exception class , for make better convience\n"
   ]
  },
  {
   "cell_type": "code",
   "execution_count": 8,
   "id": "ac08735a-7a11-4193-89ff-63315fcedcc7",
   "metadata": {},
   "outputs": [
    {
     "data": {
      "text/plain": [
       "['__cause__',\n",
       " '__class__',\n",
       " '__context__',\n",
       " '__delattr__',\n",
       " '__dict__',\n",
       " '__dir__',\n",
       " '__doc__',\n",
       " '__eq__',\n",
       " '__format__',\n",
       " '__ge__',\n",
       " '__getattribute__',\n",
       " '__gt__',\n",
       " '__hash__',\n",
       " '__init__',\n",
       " '__init_subclass__',\n",
       " '__le__',\n",
       " '__lt__',\n",
       " '__ne__',\n",
       " '__new__',\n",
       " '__reduce__',\n",
       " '__reduce_ex__',\n",
       " '__repr__',\n",
       " '__setattr__',\n",
       " '__setstate__',\n",
       " '__sizeof__',\n",
       " '__str__',\n",
       " '__subclasshook__',\n",
       " '__suppress_context__',\n",
       " '__traceback__',\n",
       " 'args',\n",
       " 'with_traceback']"
      ]
     },
     "execution_count": 8,
     "metadata": {},
     "output_type": "execute_result"
    }
   ],
   "source": [
    "# Answer no : 02\n",
    "#  Python exceptions hierarchy\n",
    "dir(Exception)\n",
    "\n"
   ]
  },
  {
   "cell_type": "code",
   "execution_count": null,
   "id": "3176abf5-2eb3-4b5d-a9ad-7ce9405d778a",
   "metadata": {},
   "outputs": [],
   "source": []
  },
  {
   "cell_type": "code",
   "execution_count": 6,
   "id": "dc1bff79-2857-4b18-9c67-d4cf24700f2c",
   "metadata": {},
   "outputs": [
    {
     "name": "stdin",
     "output_type": "stream",
     "text": [
      "Enter a number 5\n",
      "Enter another number 0\n"
     ]
    },
    {
     "name": "stdout",
     "output_type": "stream",
     "text": [
      "Arithmetic Exception occurs :  division by zero\n"
     ]
    }
   ],
   "source": [
    "# Answer no : 03\n",
    "# ArthimeticError is a base class for all the arthimetic error \n",
    "try:\n",
    "    \n",
    "    a = int(input(\"Enter a number\"))\n",
    "    b = int(input(\"Enter another number\"))\n",
    "    a/b\n",
    "except ArithmeticError as e:\n",
    "    print(\"Arithmetic Exception occurs : \",e)"
   ]
  },
  {
   "cell_type": "code",
   "execution_count": null,
   "id": "6835baba-48e5-4807-9f91-2152fec707aa",
   "metadata": {},
   "outputs": [],
   "source": [
    "# stack overflow exceptions\n",
    "try:\n",
    "    result=1\n",
    "    for i in range(1,1000000):\n",
    "        result = result*i\n",
    "    print(result)\n",
    "except ArithmeticError as e:\n",
    "    print(\"Arithmetic Exception occurs : \",e)\n",
    "print(\"code\")"
   ]
  },
  {
   "cell_type": "code",
   "execution_count": null,
   "id": "408a5721-d6a4-4df4-9c68-043655cc2dd2",
   "metadata": {},
   "outputs": [],
   "source": []
  },
  {
   "cell_type": "code",
   "execution_count": 1,
   "id": "4acc02d4-6776-4636-bda9-6b6e2f4d6ec9",
   "metadata": {},
   "outputs": [
    {
     "name": "stdout",
     "output_type": "stream",
     "text": [
      "Lookup exception occurs :  list index out of range\n"
     ]
    }
   ],
   "source": [
    "# Answer no : 04\n",
    "# LookUp error : it is use when indes is out of range and key not found in  the dictionary\n",
    "# Index lookup error\n",
    "l = [1,3,5,7,88,9,54]\n",
    "try:\n",
    "    print(l[32])\n",
    "except LookupError as e:\n",
    "    print(\"Lookup exception occurs : \",e)"
   ]
  },
  {
   "cell_type": "code",
   "execution_count": 3,
   "id": "3cb32958-88b3-4aec-9a3e-52babd38bbcf",
   "metadata": {},
   "outputs": [
    {
     "name": "stdout",
     "output_type": "stream",
     "text": [
      "Lookup exception occurs :  'name3'\n"
     ]
    }
   ],
   "source": [
    "# Key Error\n",
    "d   = {\"name1\":\"pawan\",\"age1\":19,\"name2\":\"rakesh\",\"age2\":23}\n",
    "try:\n",
    "    print(d[\"name3\"])\n",
    "except LookupError as e:\n",
    "    print(\"Lookup exception occurs : \",e)"
   ]
  },
  {
   "cell_type": "code",
   "execution_count": null,
   "id": "3053a09f-ac58-4242-84fd-f35647f0f994",
   "metadata": {},
   "outputs": [],
   "source": []
  },
  {
   "cell_type": "code",
   "execution_count": 5,
   "id": "c3b0b62e-d8c7-42da-a5e1-68db2d8b3792",
   "metadata": {},
   "outputs": [
    {
     "name": "stdout",
     "output_type": "stream",
     "text": [
      "Import Error occurs :  No module named 'pawan'\n"
     ]
    }
   ],
   "source": [
    "# Answer no : 05\n",
    "# Import Error : it is use to handle when module not available\n",
    "# Module not found exception occurs when , we try to import which module who is not availbe in the packages\n",
    "try:\n",
    "    import pawan\n",
    "except ImportError as e:\n",
    "    print(\"Import Error occurs : \",e)\n",
    "\n"
   ]
  },
  {
   "cell_type": "code",
   "execution_count": null,
   "id": "afcc4fad-bd7b-489a-83b2-66d9cddcb50c",
   "metadata": {},
   "outputs": [],
   "source": []
  },
  {
   "cell_type": "code",
   "execution_count": 7,
   "id": "5a81e506-0d54-42c3-bcb8-e3eaf85e2b2c",
   "metadata": {},
   "outputs": [],
   "source": [
    "# Answer no : 06\n",
    "# 1.  Use always a specific exception , not in generic one(super class)\n",
    "# 2 . Print alwasy a proper message\n",
    "# 3 . Always try ot log your error\n",
    "# 4 . Always avoid to write a multiple exception handling\n",
    "# 5 . Document all the error\n",
    "# 6 . Cleanup all the resources"
   ]
  },
  {
   "cell_type": "code",
   "execution_count": null,
   "id": "db0fe369-7064-4c2d-be03-a2cd05fc7aae",
   "metadata": {},
   "outputs": [],
   "source": []
  }
 ],
 "metadata": {
  "kernelspec": {
   "display_name": "Python 3 (ipykernel)",
   "language": "python",
   "name": "python3"
  },
  "language_info": {
   "codemirror_mode": {
    "name": "ipython",
    "version": 3
   },
   "file_extension": ".py",
   "mimetype": "text/x-python",
   "name": "python",
   "nbconvert_exporter": "python",
   "pygments_lexer": "ipython3",
   "version": "3.10.8"
  }
 },
 "nbformat": 4,
 "nbformat_minor": 5
}
