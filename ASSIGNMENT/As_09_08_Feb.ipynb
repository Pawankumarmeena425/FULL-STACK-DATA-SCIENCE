{
 "cells": [
  {
   "cell_type": "code",
   "execution_count": 1,
   "id": "055640ef-1323-41ca-8252-9eb92ef9f452",
   "metadata": {},
   "outputs": [],
   "source": [
    "# Answer no : 01 \n",
    "# Abstractionn :  Abstraction means hiding the internal deatils from the user. It imporve iprivellage and security of the shoftware\n",
    "# Abstraction impesis how to use shoftware , not how to implements it\n",
    "from abc import ABC , abstractmethod\n",
    "class Shape(ABC):\n",
    "    @abstractmethod\n",
    "    def area(self):\n",
    "        pass\n",
    "    @abstractmethod\n",
    "    def primeter(self):\n",
    "        pass\n",
    "    \n",
    "class Square(Shape):\n",
    "    def __init__(self,s):\n",
    "        self.side =  s"
   ]
  },
  {
   "cell_type": "code",
   "execution_count": 2,
   "id": "91c83ea8-c5fa-4241-ad7d-47b6d16e2e60",
   "metadata": {},
   "outputs": [
    {
     "ename": "TypeError",
     "evalue": "Can't instantiate abstract class Shape with abstract methods area, primeter",
     "output_type": "error",
     "traceback": [
      "\u001b[0;31m---------------------------------------------------------------------------\u001b[0m",
      "\u001b[0;31mTypeError\u001b[0m                                 Traceback (most recent call last)",
      "Cell \u001b[0;32mIn[2], line 1\u001b[0m\n\u001b[0;32m----> 1\u001b[0m obj1 \u001b[38;5;241m=\u001b[39m \u001b[43mShape\u001b[49m\u001b[43m(\u001b[49m\u001b[43m)\u001b[49m\n",
      "\u001b[0;31mTypeError\u001b[0m: Can't instantiate abstract class Shape with abstract methods area, primeter"
     ]
    }
   ],
   "source": [
    "obj1 = Shape()\n"
   ]
  },
  {
   "cell_type": "code",
   "execution_count": 3,
   "id": "2af6a1b0-ebbb-49c0-9e7b-5448f4e91a9e",
   "metadata": {},
   "outputs": [
    {
     "ename": "TypeError",
     "evalue": "Can't instantiate abstract class Square with abstract methods area, primeter",
     "output_type": "error",
     "traceback": [
      "\u001b[0;31m---------------------------------------------------------------------------\u001b[0m",
      "\u001b[0;31mTypeError\u001b[0m                                 Traceback (most recent call last)",
      "Cell \u001b[0;32mIn[3], line 1\u001b[0m\n\u001b[0;32m----> 1\u001b[0m obj2 \u001b[38;5;241m=\u001b[39m \u001b[43mSquare\u001b[49m\u001b[43m(\u001b[49m\u001b[43m)\u001b[49m\n",
      "\u001b[0;31mTypeError\u001b[0m: Can't instantiate abstract class Square with abstract methods area, primeter"
     ]
    }
   ],
   "source": [
    "obj2 = Square()"
   ]
  },
  {
   "cell_type": "code",
   "execution_count": 4,
   "id": "af253668-06eb-4abc-aea8-4a2a3e51876a",
   "metadata": {},
   "outputs": [],
   "source": [
    "# We can't be able to create object of the abstract class \n",
    "# and also not create object of the class which inheriate the abstracte class, till abstract methods not implements"
   ]
  },
  {
   "cell_type": "code",
   "execution_count": 5,
   "id": "a8839812-325f-4ecf-92e8-30c08cf1941b",
   "metadata": {},
   "outputs": [],
   "source": [
    "class Shape(ABC):\n",
    "    @abstractmethod\n",
    "    def area(self):\n",
    "        pass\n",
    "    @abstractmethod\n",
    "    def primeter(self):\n",
    "        pass\n",
    "\n",
    "class Square(Shape):\n",
    "    def __init__(self,s):\n",
    "        self.side =  s\n",
    "    def area(self):\n",
    "        return self.side*self.side\n",
    "    def primeter(self):\n",
    "        return 4*self.side"
   ]
  },
  {
   "cell_type": "code",
   "execution_count": 6,
   "id": "b573bf04-ba39-4c24-b9ea-21a75247d24d",
   "metadata": {},
   "outputs": [],
   "source": [
    "obj = Square(5)"
   ]
  },
  {
   "cell_type": "code",
   "execution_count": 7,
   "id": "8ba12e1d-e434-43b6-9ebb-2e5a4bf4b50f",
   "metadata": {},
   "outputs": [
    {
     "data": {
      "text/plain": [
       "25"
      ]
     },
     "execution_count": 7,
     "metadata": {},
     "output_type": "execute_result"
    }
   ],
   "source": [
    "obj.area()"
   ]
  },
  {
   "cell_type": "code",
   "execution_count": 8,
   "id": "4b0c7034-2e50-4e02-a9e8-0cd9c99f385b",
   "metadata": {},
   "outputs": [
    {
     "data": {
      "text/plain": [
       "20"
      ]
     },
     "execution_count": 8,
     "metadata": {},
     "output_type": "execute_result"
    }
   ],
   "source": [
    "obj.primeter()"
   ]
  },
  {
   "cell_type": "code",
   "execution_count": null,
   "id": "7416d1b4-b6bc-4b46-8b27-fd4cb8451e21",
   "metadata": {},
   "outputs": [],
   "source": []
  },
  {
   "cell_type": "code",
   "execution_count": 9,
   "id": "b8bfc7c4-027b-43e8-8bc7-4889b998dd47",
   "metadata": {},
   "outputs": [],
   "source": [
    "# Answer no : 02 \n",
    "# Abstraction : Abstraction means hiding the internal deatils from the user. it impesis how to use shoftware , not how to implemetns it\n",
    "# Incapsulation : Incapsulation means wrapping up data under a single unit . It work like a procative shiel and can be acheive by declare attribute of class private . private attributes can only access through the class public method . It use to increase security of the shoftware"
   ]
  },
  {
   "cell_type": "code",
   "execution_count": 10,
   "id": "7d40cf22-84e1-4e7c-adca-0ac311d21bee",
   "metadata": {},
   "outputs": [],
   "source": [
    "from abc import ABC , abstractclassmethod"
   ]
  },
  {
   "cell_type": "code",
   "execution_count": 11,
   "id": "b9dd66db-bc88-435f-887d-b8d0db6af013",
   "metadata": {},
   "outputs": [],
   "source": [
    "# Abstraction \n",
    "class Shape(ABC):\n",
    "    @abstractmethod\n",
    "    def area(self):\n",
    "        pass\n",
    "    @abstractmethod\n",
    "    def primeter(self):\n",
    "        pass\n",
    "class Square(Shape):\n",
    "    def __init__(self,s):\n",
    "        self.side =  s\n",
    "    def area(self):\n",
    "        return self.side*self.side\n",
    "    def primeter(self):\n",
    "        return 4*self.side"
   ]
  },
  {
   "cell_type": "code",
   "execution_count": 14,
   "id": "76595c29-de22-45a2-899f-5e112360e6cf",
   "metadata": {},
   "outputs": [
    {
     "data": {
      "text/plain": [
       "49"
      ]
     },
     "execution_count": 14,
     "metadata": {},
     "output_type": "execute_result"
    }
   ],
   "source": [
    "obj = Square(7)\n",
    "obj.area()"
   ]
  },
  {
   "cell_type": "code",
   "execution_count": 15,
   "id": "207cb97a-08a5-4778-97c2-c18b9f6b60d5",
   "metadata": {},
   "outputs": [
    {
     "data": {
      "text/plain": [
       "4232"
      ]
     },
     "execution_count": 15,
     "metadata": {},
     "output_type": "execute_result"
    }
   ],
   "source": [
    "# Inclupation : \n",
    "class Bank:\n",
    "    def __init__(self,name,account_no,amount):\n",
    "        self.__name = name\n",
    "        self.__account_no = account_no\n",
    "        self.__amount = amount\n",
    "    def get_amount(self):\n",
    "        return self.__amount\n",
    "\n",
    "obj  = Bank(\"pawan\",423213254324,4232)\n",
    "# obj.amount\n",
    "# not able to access amount directly\n",
    "\n",
    "obj.get_amount()"
   ]
  },
  {
   "cell_type": "code",
   "execution_count": null,
   "id": "7d9af7c5-3ce1-4d98-bffc-a01bf7b542ad",
   "metadata": {},
   "outputs": [],
   "source": [
    " "
   ]
  },
  {
   "cell_type": "code",
   "execution_count": 16,
   "id": "346422dd-0b3d-4330-9542-0f7654229959",
   "metadata": {},
   "outputs": [],
   "source": [
    "# Answer no : 03\n",
    "# abc module :  it provides the infrastructure for defining abstract base classes (ABCs) in Python\n",
    "# it is use to make a method abstract"
   ]
  },
  {
   "cell_type": "code",
   "execution_count": null,
   "id": "43a12816-b473-4bca-ba3b-11867eca004d",
   "metadata": {},
   "outputs": [],
   "source": []
  },
  {
   "cell_type": "code",
   "execution_count": 17,
   "id": "28b12859-f88a-4cf5-b5a8-ef1dcbb07ff9",
   "metadata": {},
   "outputs": [],
   "source": [
    "# Answer  no : 04 \n",
    "# Data Abstraction : data abstraction can be acheive using the abstract class or abstract method inside the class"
   ]
  },
  {
   "cell_type": "code",
   "execution_count": null,
   "id": "8ca37f13-831d-40e8-b1ce-14e111a5c3df",
   "metadata": {},
   "outputs": [],
   "source": []
  },
  {
   "cell_type": "code",
   "execution_count": 18,
   "id": "2348483c-cbcb-41d0-8358-41a8c4daa27b",
   "metadata": {},
   "outputs": [],
   "source": [
    "# Answer no : 05 \n",
    "# no we can't be create instance of the abstract class . But we can implemets features of abstract class, by defining method inside the child class and create object of child class"
   ]
  },
  {
   "cell_type": "code",
   "execution_count": 19,
   "id": "f603c06e-ddc5-4964-adea-cdd8b1654273",
   "metadata": {},
   "outputs": [],
   "source": [
    "from abc import ABC , abstractmethod\n",
    "class Shape(ABC):\n",
    "    @abstractmethod\n",
    "    def area(self):\n",
    "        pass\n",
    "    @abstractmethod\n",
    "    def primeter(self):\n",
    "        pass\n",
    "    \n",
    "class Square(Shape):\n",
    "    def __init__(self,s):\n",
    "        self.side =  s"
   ]
  },
  {
   "cell_type": "code",
   "execution_count": 20,
   "id": "f3c2b699-71b3-4472-8d1b-31435bac0e04",
   "metadata": {},
   "outputs": [
    {
     "ename": "TypeError",
     "evalue": "Can't instantiate abstract class Shape with abstract methods area, primeter",
     "output_type": "error",
     "traceback": [
      "\u001b[0;31m---------------------------------------------------------------------------\u001b[0m",
      "\u001b[0;31mTypeError\u001b[0m                                 Traceback (most recent call last)",
      "Cell \u001b[0;32mIn[20], line 1\u001b[0m\n\u001b[0;32m----> 1\u001b[0m obj \u001b[38;5;241m=\u001b[39m \u001b[43mShape\u001b[49m\u001b[43m(\u001b[49m\u001b[43m)\u001b[49m\n",
      "\u001b[0;31mTypeError\u001b[0m: Can't instantiate abstract class Shape with abstract methods area, primeter"
     ]
    }
   ],
   "source": [
    "obj = Shape()"
   ]
  },
  {
   "cell_type": "code",
   "execution_count": 21,
   "id": "9ff5135e-db0f-4ae1-9c06-fa7eaead8a4d",
   "metadata": {},
   "outputs": [],
   "source": [
    "# Shape is a abstract class and we can't be able to create the object of the abstract class"
   ]
  },
  {
   "cell_type": "code",
   "execution_count": 22,
   "id": "c6e29fc6-7c49-47d9-aa0c-47a2933e3518",
   "metadata": {},
   "outputs": [
    {
     "ename": "TypeError",
     "evalue": "Can't instantiate abstract class Square with abstract methods area, primeter",
     "output_type": "error",
     "traceback": [
      "\u001b[0;31m---------------------------------------------------------------------------\u001b[0m",
      "\u001b[0;31mTypeError\u001b[0m                                 Traceback (most recent call last)",
      "Cell \u001b[0;32mIn[22], line 1\u001b[0m\n\u001b[0;32m----> 1\u001b[0m obj  \u001b[38;5;241m=\u001b[39m  \u001b[43mSquare\u001b[49m\u001b[43m(\u001b[49m\u001b[38;5;241;43m3\u001b[39;49m\u001b[43m)\u001b[49m\n",
      "\u001b[0;31mTypeError\u001b[0m: Can't instantiate abstract class Square with abstract methods area, primeter"
     ]
    }
   ],
   "source": [
    "obj  =  Square(3)\n",
    "# we cno't be crete obje of Square class , because abstract mthod not implements inside it . for create object of it first implemetns all the abstract method"
   ]
  },
  {
   "cell_type": "code",
   "execution_count": null,
   "id": "f4cae7d0-fb57-43a0-b006-95602be5c135",
   "metadata": {},
   "outputs": [],
   "source": []
  }
 ],
 "metadata": {
  "kernelspec": {
   "display_name": "Python 3 (ipykernel)",
   "language": "python",
   "name": "python3"
  },
  "language_info": {
   "codemirror_mode": {
    "name": "ipython",
    "version": 3
   },
   "file_extension": ".py",
   "mimetype": "text/x-python",
   "name": "python",
   "nbconvert_exporter": "python",
   "pygments_lexer": "ipython3",
   "version": "3.10.8"
  }
 },
 "nbformat": 4,
 "nbformat_minor": 5
}
