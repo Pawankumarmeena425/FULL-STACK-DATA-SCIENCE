{
 "cells": [
  {
   "cell_type": "code",
   "execution_count": 1,
   "id": "a4a550f6-3541-42e5-b3d0-f8eb4c69b880",
   "metadata": {},
   "outputs": [],
   "source": [
    "# Q1. What is an API? Give an example, where an API is used in real life.\n",
    "\n",
    "# API : API stands for application programming interface, which is a set of definitions and protocols for building and integrating application software.\n",
    "# UPI base payment application , E-commerce webiste , Ticket Booking , Social media  handle"
   ]
  },
  {
   "cell_type": "code",
   "execution_count": null,
   "id": "6297dbd2-3cb8-4083-9884-b49553829057",
   "metadata": {},
   "outputs": [],
   "source": []
  },
  {
   "cell_type": "code",
   "execution_count": 2,
   "id": "5b8bca79-9c6c-49be-9601-330b96ead753",
   "metadata": {},
   "outputs": [],
   "source": [
    "# Q2. Give advantages and disadvantages of using API.\n",
    "\n",
    "# Advantages of using API : The main advantage of providing an API is that it allows your users to do more with your product or service (i.e. it increases the value of your product)\n",
    "# 1. Add New Functionality : API add new functionality in the products \n",
    "# 2 . Imporove Performance : API improve performance of the application with the help of the cacheable memory\n",
    "# 3 .  Communcation : Can help to improve communication between disparate systems.\n",
    "# 4 . Automation : some task  may be automatic by use api \n",
    "\n",
    "# Disadvantages of using API : \n",
    "# 1. Cost :  Providing an API is expensive in terms of development time, ongoing maintenance.\n",
    "# 2. Security exposure :  Adding API add new feactures in the application , but it also increase risk of the security attack.\n",
    "# 3 . Difficut to Understand :  Can be difficult to use and understand.\n",
    "# 4 .  Cannot be guaranteed to be stable or backwards compatible.\n",
    "# 5 . Require Technical Knowledge : May require a certain level of technical expertise in order to use them effectively.\n"
   ]
  },
  {
   "cell_type": "code",
   "execution_count": null,
   "id": "5ceeafff-7bf8-405f-9844-ec06627712e7",
   "metadata": {},
   "outputs": [],
   "source": []
  },
  {
   "cell_type": "code",
   "execution_count": 3,
   "id": "65d59290-8b40-4d6e-a6b3-72362e546804",
   "metadata": {},
   "outputs": [],
   "source": [
    "# Q3. What is a Web API? Differentiate between API and Web API.\n",
    "\n",
    "# Web API : A web API is an application programming interface for either a web server or a web browser. As a web development concept, it can be related to a web application's client side\n",
    "# Difference between API and Web API : \n",
    "# 1.  All web services are API , all API not web services\n",
    "# 2 . Web API supports Http protocol , while API supports XML, http, JSON protocol\n",
    "# 3 . web API  is heavy weight archeticutre. While API is light weight\n",
    "#  4 . Web service uses three styles: REST, SOAP, and XML-RPC for communication.while  API can be used for any style of communication."
   ]
  },
  {
   "cell_type": "code",
   "execution_count": null,
   "id": "372aeaa0-556b-4f1f-b0d1-4899aa484cba",
   "metadata": {},
   "outputs": [],
   "source": []
  },
  {
   "cell_type": "code",
   "execution_count": 4,
   "id": "c846477f-ff17-4f14-88e2-e38f845b987a",
   "metadata": {},
   "outputs": [],
   "source": [
    "# Q4. Explain REST and SOAP Architecture. Mention shortcomings of SOAP.\n",
    "\n",
    "# REST : REST stands for Representational State Transfer .\n",
    "# -->> REST is a set of architectural principles attuned to the needs of lightweight web services and mobile applications.\n",
    "# -->> When a request for data is sent to a REST API, it’s usually done through hypertext transfer protocol (commonly referred to as HTTP).\n",
    "# -->> REST use client-server archeticuture for communcation \n",
    "# -->> It improve applciation performance by using Cacheable memory\n",
    "# -->> It is Stateless , means it doesn't store the past information \n",
    "# -->> It follows the Layered System for scalability , flexibility.\n",
    "# -->> it is simple , scable , flexible and stateless\n",
    "\n",
    "# SOAP : SOAP stands for simple object access protocol .\n",
    "# SOAP is a standard protocol that was first designed so that applications built with different languages and on different platforms could communicate.\n",
    "# -->> SOAP use XML (Extensible Markup language) which is internally use the WSDL(Web services description language )\n",
    "# -->> It also supports the HTTP , SMTP and TCP/IP protocol\n",
    "# -->> It is more complex compare to the REST , more light weight and mroe secure.\n",
    "# Some services offer by the  SOAP : \n",
    "# 1. Web services security (WS-security)\n",
    "# 2 . Web services description language (WSDL)\n",
    "\n",
    "\n",
    "\n",
    "# Disadvantages of SOAP : \n",
    "# 1. Slow  : SOAP uses XML format that must be parsed to be read. It defines many standards that must be followed while developing the SOAP applications. So it is slow and consumes more bandwidth and resource.\n",
    "# 2 . WSDL dependent: SOAP uses WSDL and doesn't have any other mechanism to discover the service.\n",
    "# 3 . Complex "
   ]
  },
  {
   "cell_type": "code",
   "execution_count": null,
   "id": "8c83ceb1-a78f-487f-96ff-1a07c9e24702",
   "metadata": {},
   "outputs": [],
   "source": []
  },
  {
   "cell_type": "code",
   "execution_count": null,
   "id": "7e0bd41a-0e08-4a3d-bd71-033aff09f174",
   "metadata": {},
   "outputs": [],
   "source": [
    "# Q5. Differentiate between REST and SOAP.\n",
    "\n",
    "# 1 . SOAP is a protocol. while REST is an architectural style.\n",
    "# 2 . SOAP stands for Simple Object Access Protocol.\twhile REST stands for REpresentational State Transfer.\n",
    "# 3 . SOAP can't use REST because it is a protocol.But REST can use SOAP web services because it is a concept and can use any protocol like HTTP, SOAP.\n",
    "# 4 . SOAP defines standards to be strictly followed.\tREST does not define too much standards like SOAP.\n",
    "# 5 . SOAP requires more bandwidth and resource than REST.\tREST requires less bandwidth and resource than SOAP.\n",
    "# 6 . SOAP defines its own security.\tRESTful web services inherits security measures from the underlying transport.\n",
    "# 7 . SOAP permits XML data format only.\tREST permits different data format such as Plain text, HTML, XML, JSON etc.\n",
    "# 8 . SOAP is less preferred than REST.\tREST more preferred than SOAP."
   ]
  }
 ],
 "metadata": {
  "kernelspec": {
   "display_name": "Python 3 (ipykernel)",
   "language": "python",
   "name": "python3"
  },
  "language_info": {
   "codemirror_mode": {
    "name": "ipython",
    "version": 3
   },
   "file_extension": ".py",
   "mimetype": "text/x-python",
   "name": "python",
   "nbconvert_exporter": "python",
   "pygments_lexer": "ipython3",
   "version": "3.10.8"
  }
 },
 "nbformat": 4,
 "nbformat_minor": 5
}
