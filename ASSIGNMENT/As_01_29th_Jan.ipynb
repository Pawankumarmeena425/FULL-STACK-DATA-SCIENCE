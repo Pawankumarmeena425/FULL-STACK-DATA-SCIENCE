{
 "cells": [
  {
   "cell_type": "code",
   "execution_count": 1,
   "id": "b777f397-a1f7-42f6-974e-f46f403b95ed",
   "metadata": {},
   "outputs": [],
   "source": [
    "# Answer 01: Guido van Rossum"
   ]
  },
  {
   "cell_type": "code",
   "execution_count": 2,
   "id": "42f6e711-9692-4c6d-885c-c9462e3583d4",
   "metadata": {},
   "outputs": [],
   "source": [
    "# Answer 02: Python supports Scripting as well as Object oriented programming.And python is also a dynamic type language. "
   ]
  },
  {
   "cell_type": "code",
   "execution_count": 3,
   "id": "881a475f-26a5-41bf-b389-c241b000f84b",
   "metadata": {},
   "outputs": [],
   "source": [
    "# Answer 03: Yes , python is a case sensitive "
   ]
  },
  {
   "cell_type": "code",
   "execution_count": 4,
   "id": "7be7f354-7f9c-4a42-a20c-213a27186122",
   "metadata": {},
   "outputs": [],
   "source": [
    "# Answer 04 : correct extension of python file is  :   .py"
   ]
  },
  {
   "cell_type": "code",
   "execution_count": 5,
   "id": "42748ed3-f6c0-4c88-9f13-ed7594dd2bbd",
   "metadata": {},
   "outputs": [],
   "source": [
    "# Answer 05 : python is interpreted as well as compiled language language. First compiler convert source code into the byte code , which is platform independent.And every python vertiual machine convert this byte code into machine code aacording to their specification , and this code is platform dependent."
   ]
  },
  {
   "cell_type": "code",
   "execution_count": 14,
   "id": "f064fa1f-3f4a-4df9-ba58-be89f15444f6",
   "metadata": {},
   "outputs": [],
   "source": [
    "# Answer 06 : Module,library, files,class,function\n",
    "# Answer 07 : single - line comment character  =  '#'"
   ]
  },
  {
   "cell_type": "code",
   "execution_count": 9,
   "id": "d379a483-a9e3-46c3-b364-01633cc99c5c",
   "metadata": {},
   "outputs": [
    {
     "data": {
      "text/plain": [
       "'3.10.8 | packaged by conda-forge | (main, Nov 22 2022, 08:26:04) [GCC 10.4.0]'"
      ]
     },
     "execution_count": 9,
     "metadata": {},
     "output_type": "execute_result"
    }
   ],
   "source": [
    "# Answer 08 : Python Version\n",
    "import sys\n",
    "sys.version"
   ]
  },
  {
   "cell_type": "code",
   "execution_count": 13,
   "id": "2f732eab-ccd4-4c7d-a6a5-180b6b01bc87",
   "metadata": {},
   "outputs": [
    {
     "data": {
      "text/plain": [
       "'3.10.8'"
      ]
     },
     "execution_count": 13,
     "metadata": {},
     "output_type": "execute_result"
    }
   ],
   "source": [
    "# Answer 08 : 2nd way\n",
    "import platform \n",
    "platform.python_version()"
   ]
  },
  {
   "cell_type": "code",
   "execution_count": 15,
   "id": "a497ebba-b237-4397-8c94-34548a8673ed",
   "metadata": {},
   "outputs": [],
   "source": [
    "# Answer 09 : \"lambda\""
   ]
  },
  {
   "cell_type": "code",
   "execution_count": 16,
   "id": "8ad5bc23-0fce-4a7e-8cb2-6cb4632d6b71",
   "metadata": {},
   "outputs": [],
   "source": [
    "# Answer 10 : preferred installer program"
   ]
  },
  {
   "cell_type": "code",
   "execution_count": 17,
   "id": "af584f2c-fd0b-4121-8ce3-3a2c9327d0c9",
   "metadata": {},
   "outputs": [],
   "source": [
    "# Answer 11 : Few build - in Function :\n",
    "# 1.Type()  2.len()  3.id()  , 4.print()  , 5. input() , 6. abs()"
   ]
  },
  {
   "cell_type": "code",
   "execution_count": 18,
   "id": "14389ff7-9f90-4977-b9a7-e062b6604824",
   "metadata": {},
   "outputs": [],
   "source": [
    "# Answer 12 : 79 Character"
   ]
  },
  {
   "cell_type": "code",
   "execution_count": 21,
   "id": "fb8f8c87-90bb-4f99-bf8d-52c6712a3ea4",
   "metadata": {},
   "outputs": [],
   "source": [
    "#  Answer 13 : \n",
    "# Platform Independent\n",
    "# Support Scripting as well as Oops concepts\n",
    "# Less code require for development\n",
    "# Easy to learn and use\n",
    "# large support community\n",
    "# Python is flexible language\n",
    "# lot of libraris and framwork in python\n",
    "# python  use in Data Science, Big data, Machine Learning and Cloud Computing"
   ]
  },
  {
   "cell_type": "code",
   "execution_count": 22,
   "id": "3f3b5666-e8a2-4335-a007-b01b8a368b3d",
   "metadata": {},
   "outputs": [],
   "source": [
    "# Answer 14 : Memoray managed in python is by garbase collector"
   ]
  },
  {
   "cell_type": "code",
   "execution_count": 24,
   "id": "e200eef5-4739-4f8a-bca1-91452b52e7e2",
   "metadata": {},
   "outputs": [],
   "source": [
    "# Answer 15 : Installetion and Setup of python in computer\n",
    "# Step 1 : Download Python form google\n",
    "# Setp 2: Run the python setup file , and ensure to check \"Add to Path \" While setup system. It will add automatically path in the environment variables\n"
   ]
  },
  {
   "cell_type": "code",
   "execution_count": null,
   "id": "5b53436c-cd7a-4a4d-bee5-4b9e4798cc97",
   "metadata": {},
   "outputs": [],
   "source": [
    "# Answer 16 : Yes, identation required in python "
   ]
  }
 ],
 "metadata": {
  "kernelspec": {
   "display_name": "Python 3 (ipykernel)",
   "language": "python",
   "name": "python3"
  },
  "language_info": {
   "codemirror_mode": {
    "name": "ipython",
    "version": 3
   },
   "file_extension": ".py",
   "mimetype": "text/x-python",
   "name": "python",
   "nbconvert_exporter": "python",
   "pygments_lexer": "ipython3",
   "version": "3.10.8"
  }
 },
 "nbformat": 4,
 "nbformat_minor": 5
}
