{
 "cells": [
  {
   "cell_type": "code",
   "execution_count": 7,
   "id": "341b313d-bbc1-417a-a8a7-5245b66757ea",
   "metadata": {},
   "outputs": [
    {
     "name": "stdin",
     "output_type": "stream",
     "text": [
      "Enter the number 65\n"
     ]
    },
    {
     "name": "stdout",
     "output_type": "stream",
     "text": [
      "1056\n"
     ]
    },
    {
     "name": "stdin",
     "output_type": "stream",
     "text": [
      "Enter your choice : 1 for yes, 0 for no  1\n",
      "Enter your choice : 1 for yes, 0 for no  1\n",
      "Enter your choice : 1 for yes, 0 for no  2\n",
      "Enter your choice : 1 for yes, 0 for no  0\n"
     ]
    },
    {
     "name": "stdout",
     "output_type": "stream",
     "text": [
      "12\n"
     ]
    }
   ],
   "source": [
    "# Answer 01:\n",
    "# Generally for loop used when number of iterations is already known.In the for loop we always define ending point for loop termination.\n",
    "# While loop used when number of iterationi is not known priorly . In while loop loop termination is based on some condition\n",
    "\n",
    "# Example of for loop:Summation of even number\n",
    "num = int(input(\"Enter the number\"))\n",
    "sum=0\n",
    "for i in range(0,num+1,2):\n",
    "    sum = sum+i\n",
    "print(sum)\n",
    "\n",
    "# Example of while loop: Summation till user want to calculate\n",
    "sum=0\n",
    "user  = True\n",
    "i = 0\n",
    "while user:\n",
    "    user =int(input(\"Enter your choice : 1 for yes, 0 for no \"))\n",
    "    sum = sum+i\n",
    "    i = i+2\n",
    "print(sum)"
   ]
  },
  {
   "cell_type": "code",
   "execution_count": 8,
   "id": "5289f584-df7f-42ea-a6cf-eb9b36624e31",
   "metadata": {},
   "outputs": [
    {
     "name": "stdout",
     "output_type": "stream",
     "text": [
      "Summation of first 10 natural number using for loop =  55\n",
      "Product of first 10 natural number using for loop =  3628800\n",
      "Summation of first 10 natural number using while loop =  55\n",
      "Product of first 10 natural number using while loop =  3628800\n"
     ]
    }
   ],
   "source": [
    "# Answer no 02:\n",
    "# Sum and Product using for loop\n",
    "sum1=0\n",
    "prod1=1\n",
    "for i in range(11):#range generate number 0 to n-1\n",
    "    sum1 = sum1+i\n",
    "    if i!=0:\n",
    "        prod1 = prod1*i\n",
    "print(\"Summation of first 10 natural number using for loop = \",sum1)\n",
    "print(\"Product of first 10 natural number using for loop = \",prod1)\n",
    "sum2=0\n",
    "prod2=1\n",
    "i=1\n",
    "while i<=10:\n",
    "    sum2 = sum2+i\n",
    "    prod2 = prod2*i\n",
    "    i=i+1\n",
    "print(\"Summation of first 10 natural number using while loop = \",sum2)\n",
    "print(\"Product of first 10 natural number using while loop = \",prod2)"
   ]
  },
  {
   "cell_type": "code",
   "execution_count": 9,
   "id": "de90817c-3c92-4cd6-b5fc-f63e46bafa4b",
   "metadata": {},
   "outputs": [
    {
     "name": "stdin",
     "output_type": "stream",
     "text": [
      "Enter your electricity unit 310\n"
     ]
    },
    {
     "name": "stdout",
     "output_type": "stream",
     "text": [
      "Total Electricity bill :  2250.0\n"
     ]
    }
   ],
   "source": [
    "# Answer no 03:\n",
    "unit =  int(input(\"Enter your electricity unit\"))\n",
    "charge = 0\n",
    "count = 0\n",
    "while unit>0:\n",
    "    if count==0:\n",
    "        if unit<=100:\n",
    "            charge = charge+unit*4.5\n",
    "            break\n",
    "        else :\n",
    "            charge = charge+100*4.5\n",
    "            unit = unit-100\n",
    "            count = count+1\n",
    "    elif count==1:\n",
    "        if unit<=100:\n",
    "            charge = charge+unit*6\n",
    "            break\n",
    "        else:\n",
    "            charge = charge+100*6\n",
    "            unit = unit-100\n",
    "            count = count+1\n",
    "    elif count==2:\n",
    "        if unit<=100:\n",
    "            charge = charge+unit*10\n",
    "            break\n",
    "        else:\n",
    "            charge = charge+100*10\n",
    "            unit = unit-100\n",
    "            count = count+1\n",
    "    else:\n",
    "        charge = charge+unit*20\n",
    "        unit  =  0\n",
    "        break\n",
    "            \n",
    "print(\"Total Electricity bill : \",charge)\n",
    "        "
   ]
  },
  {
   "cell_type": "code",
   "execution_count": 2,
   "id": "ebcb3333-e12f-49e8-9653-e0389b4fddc5",
   "metadata": {},
   "outputs": [
    {
     "name": "stdout",
     "output_type": "stream",
     "text": [
      "Using while loop :  [4, 5, 8, 10, 12, 15, 16, 20, 24, 25, 28, 30, 32, 35, 36, 40, 44, 45, 48, 50, 52, 55, 56, 60, 64, 65, 68, 70, 72, 75, 76, 80, 84, 85, 88, 90, 92, 95, 96, 100]\n",
      "Using for loop :  [4, 5, 8, 10, 12, 15, 16, 20, 24, 25, 28, 30, 32, 35, 36, 40, 44, 45, 48, 50, 52, 55, 56, 60, 64, 65, 68, 70, 72, 75, 76, 80, 84, 85, 88, 90, 92, 95, 96, 100]\n"
     ]
    }
   ],
   "source": [
    "# Answer 04:\n",
    "# Using while loop\n",
    "l = []\n",
    "i=1\n",
    "# list creation\n",
    "while i<=100:\n",
    "    l.append(i)\n",
    "    i = i+1\n",
    "i=0\n",
    "l1=[]\n",
    "while i<100:\n",
    "    if l[i]%4==0 or l[i]%5==0:\n",
    "        l1.append(l[i])\n",
    "    i=i+1\n",
    "print(\"Using while loop : \",l1)\n",
    "\n",
    "\n",
    "# Using for loop\n",
    "l2 = []\n",
    "for i in range(1,101,1):\n",
    "    l2.append(i)\n",
    "l3=[]\n",
    "for i in l2:\n",
    "    if i%4==0 or i%5==0:\n",
    "        l3.append(i)\n",
    "print(\"Using for loop : \",l3)"
   ]
  },
  {
   "cell_type": "code",
   "execution_count": 5,
   "id": "26333b83-78b3-49bd-b16b-26b1dcbe3c41",
   "metadata": {},
   "outputs": [
    {
     "name": "stdout",
     "output_type": "stream",
     "text": [
      "Vowels :  ['I', 'a', 'o', 'e', 'o', 'e', 'a', 'a', 'a', 'i', 'e', 'i']\n",
      "consonants :  ['W', 'n', 't', 't', 'b', 'c', 'm', 'd', 't', 's', 'c', 'n', 't', 's', 't']\n"
     ]
    }
   ],
   "source": [
    "string = \"I Want to become a data scientist\"\n",
    "l1=[]\n",
    "l2=[]\n",
    "for i in string:\n",
    "    if i==' ':\n",
    "        continue\n",
    "    elif i=='a' or i=='e' or i=='i' or i=='o' or i=='u' or i=='A' or i=='E' or i=='I' or i=='O' or i=='U':\n",
    "        l1.append(i)\n",
    "    else:\n",
    "        l2.append(i)\n",
    "print(\"Vowels : \",l1)\n",
    "print(\"consonants : \",l2)"
   ]
  },
  {
   "cell_type": "code",
   "execution_count": null,
   "id": "11c5c504-3f33-4a7b-bd18-86a43b21476b",
   "metadata": {},
   "outputs": [],
   "source": []
  }
 ],
 "metadata": {
  "kernelspec": {
   "display_name": "Python 3 (ipykernel)",
   "language": "python",
   "name": "python3"
  },
  "language_info": {
   "codemirror_mode": {
    "name": "ipython",
    "version": 3
   },
   "file_extension": ".py",
   "mimetype": "text/x-python",
   "name": "python",
   "nbconvert_exporter": "python",
   "pygments_lexer": "ipython3",
   "version": "3.10.8"
  }
 },
 "nbformat": 4,
 "nbformat_minor": 5
}
