{
 "cells": [
  {
   "cell_type": "code",
   "execution_count": 4,
   "id": "2a121998-234b-4c8b-a8bd-7bc597a7923d",
   "metadata": {},
   "outputs": [
    {
     "data": {
      "text/plain": [
       "4134711838987085478833841242112000"
      ]
     },
     "execution_count": 4,
     "metadata": {},
     "output_type": "execute_result"
    }
   ],
   "source": [
    "# Answer no :01\n",
    "l = [1,2,3,4,[44,55,66,True],False,(34,56,78,89,34),{1,2,3,3,2,1},{1:34,\"key\":[55,67,78,89],4:(45,22,61,34)} ,[56,'data science'],'Machine Learning']\n",
    "def product(l):\n",
    "    l2 = numeric(l)#extract numeric values\n",
    "    from functools import reduce\n",
    "    return reduce(lambda x,y:x*y,l2)\n",
    "\n",
    "def numeric(l):\n",
    "    l3=[]\n",
    "    for i in l:\n",
    "        if type(i)==int or type(i)==float:\n",
    "            l3.append(i)\n",
    "        elif type(i)==list or type(i)==tuple or type(i)==set:\n",
    "            for j in i:\n",
    "                if type(j)==int or type(j)==float:\n",
    "                    l3.append(j)\n",
    "        elif type(i)==dict:\n",
    "            for k,v in i.items():\n",
    "                if type(k)==int or type(k) ==float :\n",
    "                    l3.append(k)\n",
    "                if type(v)==int or type(v)==float:\n",
    "                    l3.append(v)\n",
    "                if type(k)==list or type(k)==tuple or type(k)==set:\n",
    "                    for a in k:\n",
    "                        if type(a)==int or type(a)==float:\n",
    "                            l3.append(a)\n",
    "                if type (v)==list or type(v)==tuple or type(k)==set:\n",
    "                    for a in v:\n",
    "                        if type(a)==int or type(a)==float:\n",
    "                            l3.append(a)\n",
    "    return l3\n",
    "\n",
    "\n",
    "product(l)\n",
    "            "
   ]
  },
  {
   "cell_type": "code",
   "execution_count": 52,
   "id": "a26a7274-b151-4467-a833-ffc568f7c8fb",
   "metadata": {},
   "outputs": [
    {
     "name": "stdout",
     "output_type": "stream",
     "text": [
      "r$dzmg$gl$yvxlnv$z$wzgz$hxrvmgrhg\n"
     ]
    }
   ],
   "source": [
    "#Answer no : 02\n",
    "\n",
    "def encrypt(s):\n",
    "    s=s.lower()\n",
    "    st = \"\"\n",
    "    for i in s:\n",
    "        if i == ' ':\n",
    "            st=st+'$'\n",
    "        else:\n",
    "            st=st+chr(122+97-ord(i))\n",
    "    \n",
    "    return st\n",
    "print(encrypt(\"I Want to become a Data Scientist\"))"
   ]
  },
  {
   "cell_type": "code",
   "execution_count": 50,
   "id": "b193fa10-4dec-481c-8694-3f19813f5568",
   "metadata": {},
   "outputs": [
    {
     "name": "stdout",
     "output_type": "stream",
     "text": [
      "\n"
     ]
    }
   ],
   "source": []
  },
  {
   "cell_type": "code",
   "execution_count": null,
   "id": "7b7e6be3-b813-4932-a198-0d500de1be15",
   "metadata": {},
   "outputs": [],
   "source": []
  }
 ],
 "metadata": {
  "kernelspec": {
   "display_name": "Python 3 (ipykernel)",
   "language": "python",
   "name": "python3"
  },
  "language_info": {
   "codemirror_mode": {
    "name": "ipython",
    "version": 3
   },
   "file_extension": ".py",
   "mimetype": "text/x-python",
   "name": "python",
   "nbconvert_exporter": "python",
   "pygments_lexer": "ipython3",
   "version": "3.10.8"
  }
 },
 "nbformat": 4,
 "nbformat_minor": 5
}
