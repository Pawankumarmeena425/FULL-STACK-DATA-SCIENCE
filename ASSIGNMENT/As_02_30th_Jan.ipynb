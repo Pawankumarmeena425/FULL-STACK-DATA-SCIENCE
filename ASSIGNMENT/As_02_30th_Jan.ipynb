{
 "cells": [
  {
   "cell_type": "code",
   "execution_count": 1,
   "id": "09092824-34b5-4b6a-b2a9-0100f721d369",
   "metadata": {},
   "outputs": [],
   "source": [
    "# ASSIGNMENT  NO: 02"
   ]
  },
  {
   "cell_type": "code",
   "execution_count": 4,
   "id": "ff1f7fef-2fa7-480c-bc42-e8d74b412ff9",
   "metadata": {},
   "outputs": [
    {
     "name": "stdin",
     "output_type": "stream",
     "text": [
      "Enter your percentage 80\n"
     ]
    },
    {
     "name": "stdout",
     "output_type": "stream",
     "text": [
      "C grade\n"
     ]
    }
   ],
   "source": [
    "# Answer 01:\n",
    "per  =int(input(\"Enter your percentage\"))\n",
    "if per>90:\n",
    "    print(\"A grade\")\n",
    "elif per>80 and per<=90:\n",
    "    print(\"B grade\")\n",
    "elif per>=60 and per<=80:\n",
    "    print(\"C grade\")\n",
    "else :\n",
    "    print(\"D grade\")"
   ]
  },
  {
   "cell_type": "code",
   "execution_count": 7,
   "id": "9407b8a9-2b56-4478-9908-cd5f88f8b4af",
   "metadata": {},
   "outputs": [
    {
     "name": "stdin",
     "output_type": "stream",
     "text": [
      "Enter the cost price of your bike 50000\n"
     ]
    },
    {
     "name": "stdout",
     "output_type": "stream",
     "text": [
      "payble tax for your bike is  2500.0\n"
     ]
    }
   ],
   "source": [
    "# Answer 02:\n",
    "price = int(input(\"Enter the cost price of your bike\"))\n",
    "if price>100000:\n",
    "    tax = (price*15)/100\n",
    "elif price>50000 and price<=1000000:\n",
    "    tax  =price*10/100\n",
    "else :\n",
    "    tax  = price*5/100\n",
    "print(\"payble tax for your bike is \",tax)"
   ]
  },
  {
   "cell_type": "code",
   "execution_count": 13,
   "id": "5205a294-ac7a-4dd4-89dc-af7e3072f2c8",
   "metadata": {},
   "outputs": [
    {
     "name": "stdin",
     "output_type": "stream",
     "text": [
      "Enter the city name Jaipur\n"
     ]
    },
    {
     "name": "stdout",
     "output_type": "stream",
     "text": [
      "Jal Mahal\n"
     ]
    }
   ],
   "source": [
    "#Answer 03: \n",
    "city = input(\"Enter the city name\")\n",
    "if city==\"Delhi\":\n",
    "    print(\"Red Fort\")\n",
    "elif city==\"Agra\":\n",
    "    print(\"Taj Mahal\")\n",
    "elif city==\"Jaipur\":\n",
    "    print(\"Jal Mahal\")\n",
    "else:\n",
    "    print(\"unknown city\")"
   ]
  },
  {
   "cell_type": "code",
   "execution_count": 16,
   "id": "5c54fb42-78b3-49e4-bf0e-fbc59d5e5b72",
   "metadata": {},
   "outputs": [
    {
     "name": "stdin",
     "output_type": "stream",
     "text": [
      "Enter the number 65665654\n"
     ]
    },
    {
     "name": "stdout",
     "output_type": "stream",
     "text": [
      "Given number can be divided by 3 =  15\n"
     ]
    }
   ],
   "source": [
    "# Question no 04:\n",
    "num = int(input(\"Enter the number\"))\n",
    "count=0\n",
    "while num>=10:\n",
    "    num = num/3\n",
    "    count = count+1\n",
    "print(\"Given number can be divided by 3 = \",count)"
   ]
  },
  {
   "cell_type": "code",
   "execution_count": null,
   "id": "d3a9b873-67fb-44b6-940d-ba6992d49bc7",
   "metadata": {},
   "outputs": [],
   "source": [
    "# Question no 05:\n",
    "# while loop mostly use when require compersion on every steps, and take desicion for enter in loop base on some condition , if condition is False then it will no enter in the loop and terminate loops\n",
    "# while loop use where give custom input and perform operation based on that input\n",
    "# for example while loop use for:1. Summation of number till given input (n)    ,(2). Calculate factorial of number , (3). Calculate fibonacci series , And much more example where require compersion "
   ]
  },
  {
   "cell_type": "code",
   "execution_count": 21,
   "id": "289a59bc-3b95-437c-806c-a6539e0aa190",
   "metadata": {},
   "outputs": [
    {
     "name": "stdout",
     "output_type": "stream",
     "text": [
      "This is  1  time 1st nested loop\n",
      "This is 2nd nested loop\n",
      "This is 3rd nested loop\n",
      "This is 3rd nested loop\n",
      "This is 2nd nested loop\n",
      "This is 3rd nested loop\n",
      "This is 3rd nested loop\n",
      "This is  2  time 1st nested loop\n",
      "This is 2nd nested loop\n",
      "This is 3rd nested loop\n",
      "This is 3rd nested loop\n",
      "This is 2nd nested loop\n",
      "This is 3rd nested loop\n",
      "This is 3rd nested loop\n"
     ]
    }
   ],
   "source": [
    "# Question no 06:\n",
    "i =1\n",
    "while i<=2:\n",
    "    print(\"This is \",i,\" time 1st nested loop\")\n",
    "    j=1\n",
    "    while j<=2:\n",
    "        print(\"This is 2nd nested loop\")\n",
    "        j=j+1\n",
    "        k=1\n",
    "        while k<=2:\n",
    "            print(\"This is 3rd nested loop\")\n",
    "            k=k+1\n",
    "    i=i+1\n",
    "  "
   ]
  },
  {
   "cell_type": "code",
   "execution_count": 22,
   "id": "dc285cab-4c68-4424-90aa-42cfa5de178b",
   "metadata": {},
   "outputs": [
    {
     "name": "stdout",
     "output_type": "stream",
     "text": [
      "10\n",
      "9\n",
      "8\n",
      "7\n",
      "6\n",
      "5\n",
      "4\n",
      "3\n",
      "2\n",
      "1\n"
     ]
    }
   ],
   "source": [
    "# Question number 07\n",
    "num = 10\n",
    "while num>=1:\n",
    "    print(num)\n",
    "    num = num-1"
   ]
  },
  {
   "cell_type": "code",
   "execution_count": 24,
   "id": "e5f75da1-b976-4ee9-b606-def14ef77994",
   "metadata": {},
   "outputs": [
    {
     "name": "stdin",
     "output_type": "stream",
     "text": [
      "Enter the number 20\n"
     ]
    },
    {
     "name": "stdout",
     "output_type": "stream",
     "text": [
      "20\n",
      "19\n",
      "18\n",
      "17\n",
      "16\n",
      "15\n",
      "14\n",
      "13\n",
      "12\n",
      "11\n",
      "10\n",
      "9\n",
      "8\n",
      "7\n",
      "6\n",
      "5\n",
      "4\n",
      "3\n",
      "2\n",
      "1\n"
     ]
    }
   ],
   "source": [
    "# Question no 08:\n",
    "num = int(input(\"Enter the number\"))\n",
    "while num>=1:\n",
    "    print(num)\n",
    "    num = num-1"
   ]
  },
  {
   "cell_type": "code",
   "execution_count": null,
   "id": "c51538bb-889f-47f8-aa96-6abf4d3a2bea",
   "metadata": {},
   "outputs": [],
   "source": []
  }
 ],
 "metadata": {
  "kernelspec": {
   "display_name": "Python 3 (ipykernel)",
   "language": "python",
   "name": "python3"
  },
  "language_info": {
   "codemirror_mode": {
    "name": "ipython",
    "version": 3
   },
   "file_extension": ".py",
   "mimetype": "text/x-python",
   "name": "python",
   "nbconvert_exporter": "python",
   "pygments_lexer": "ipython3",
   "version": "3.10.8"
  }
 },
 "nbformat": 4,
 "nbformat_minor": 5
}
